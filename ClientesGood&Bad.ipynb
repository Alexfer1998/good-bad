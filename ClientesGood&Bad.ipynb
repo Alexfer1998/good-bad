{
 "cells": [
  {
   "cell_type": "markdown",
   "metadata": {},
   "source": [
    "## Modelo predictivo para determinar clientes buenos y malos en base a su comportamiento interno y externo"
   ]
  },
  {
   "cell_type": "markdown",
   "metadata": {},
   "source": [
    "### **0.-Importamos las librerías a usar**"
   ]
  },
  {
   "cell_type": "code",
   "execution_count": 122,
   "metadata": {},
   "outputs": [],
   "source": [
    "import pandas as pd\n",
    "from sklearn import preprocessing\n",
    "import numpy as np\n",
    "import gc\n",
    "import lightgbm as lgb\n",
    "from scipy import sparse\n",
    "from scipy.sparse.linalg import svds\n",
    "from sklearn.metrics import roc_auc_score\n",
    "from scipy.sparse import csr_matrix\n",
    "from sklearn.model_selection import KFold\n",
    "from sklearn.model_selection import StratifiedKFold\n",
    "from sklearn.metrics import roc_auc_score\n",
    "from sklearn.metrics import log_loss\n",
    "from sklearn.metrics import precision_score\n",
    "from sklearn.metrics import recall_score\n",
    "import seaborn as sns\n",
    "from sklearn.impute import SimpleImputer\n",
    "from statistics import mode \n"
   ]
  },
  {
   "cell_type": "code",
   "execution_count": 2,
   "metadata": {
    "collapsed": true
   },
   "outputs": [
    {
     "name": "stderr",
     "output_type": "stream",
     "text": [
      "Using TensorFlow backend.\n",
      "C:\\Users\\avelasque\\AppData\\Roaming\\Python\\Python37\\site-packages\\tensorflow\\python\\framework\\dtypes.py:516: FutureWarning: Passing (type, 1) or '1type' as a synonym of type is deprecated; in a future version of numpy, it will be understood as (type, (1,)) / '(1,)type'.\n",
      "  _np_qint8 = np.dtype([(\"qint8\", np.int8, 1)])\n",
      "C:\\Users\\avelasque\\AppData\\Roaming\\Python\\Python37\\site-packages\\tensorflow\\python\\framework\\dtypes.py:517: FutureWarning: Passing (type, 1) or '1type' as a synonym of type is deprecated; in a future version of numpy, it will be understood as (type, (1,)) / '(1,)type'.\n",
      "  _np_quint8 = np.dtype([(\"quint8\", np.uint8, 1)])\n",
      "C:\\Users\\avelasque\\AppData\\Roaming\\Python\\Python37\\site-packages\\tensorflow\\python\\framework\\dtypes.py:518: FutureWarning: Passing (type, 1) or '1type' as a synonym of type is deprecated; in a future version of numpy, it will be understood as (type, (1,)) / '(1,)type'.\n",
      "  _np_qint16 = np.dtype([(\"qint16\", np.int16, 1)])\n",
      "C:\\Users\\avelasque\\AppData\\Roaming\\Python\\Python37\\site-packages\\tensorflow\\python\\framework\\dtypes.py:519: FutureWarning: Passing (type, 1) or '1type' as a synonym of type is deprecated; in a future version of numpy, it will be understood as (type, (1,)) / '(1,)type'.\n",
      "  _np_quint16 = np.dtype([(\"quint16\", np.uint16, 1)])\n",
      "C:\\Users\\avelasque\\AppData\\Roaming\\Python\\Python37\\site-packages\\tensorflow\\python\\framework\\dtypes.py:520: FutureWarning: Passing (type, 1) or '1type' as a synonym of type is deprecated; in a future version of numpy, it will be understood as (type, (1,)) / '(1,)type'.\n",
      "  _np_qint32 = np.dtype([(\"qint32\", np.int32, 1)])\n",
      "C:\\Users\\avelasque\\AppData\\Roaming\\Python\\Python37\\site-packages\\tensorflow\\python\\framework\\dtypes.py:525: FutureWarning: Passing (type, 1) or '1type' as a synonym of type is deprecated; in a future version of numpy, it will be understood as (type, (1,)) / '(1,)type'.\n",
      "  np_resource = np.dtype([(\"resource\", np.ubyte, 1)])\n",
      "C:\\Users\\avelasque\\AppData\\Roaming\\Python\\Python37\\site-packages\\tensorboard\\compat\\tensorflow_stub\\dtypes.py:541: FutureWarning: Passing (type, 1) or '1type' as a synonym of type is deprecated; in a future version of numpy, it will be understood as (type, (1,)) / '(1,)type'.\n",
      "  _np_qint8 = np.dtype([(\"qint8\", np.int8, 1)])\n",
      "C:\\Users\\avelasque\\AppData\\Roaming\\Python\\Python37\\site-packages\\tensorboard\\compat\\tensorflow_stub\\dtypes.py:542: FutureWarning: Passing (type, 1) or '1type' as a synonym of type is deprecated; in a future version of numpy, it will be understood as (type, (1,)) / '(1,)type'.\n",
      "  _np_quint8 = np.dtype([(\"quint8\", np.uint8, 1)])\n",
      "C:\\Users\\avelasque\\AppData\\Roaming\\Python\\Python37\\site-packages\\tensorboard\\compat\\tensorflow_stub\\dtypes.py:543: FutureWarning: Passing (type, 1) or '1type' as a synonym of type is deprecated; in a future version of numpy, it will be understood as (type, (1,)) / '(1,)type'.\n",
      "  _np_qint16 = np.dtype([(\"qint16\", np.int16, 1)])\n",
      "C:\\Users\\avelasque\\AppData\\Roaming\\Python\\Python37\\site-packages\\tensorboard\\compat\\tensorflow_stub\\dtypes.py:544: FutureWarning: Passing (type, 1) or '1type' as a synonym of type is deprecated; in a future version of numpy, it will be understood as (type, (1,)) / '(1,)type'.\n",
      "  _np_quint16 = np.dtype([(\"quint16\", np.uint16, 1)])\n",
      "C:\\Users\\avelasque\\AppData\\Roaming\\Python\\Python37\\site-packages\\tensorboard\\compat\\tensorflow_stub\\dtypes.py:545: FutureWarning: Passing (type, 1) or '1type' as a synonym of type is deprecated; in a future version of numpy, it will be understood as (type, (1,)) / '(1,)type'.\n",
      "  _np_qint32 = np.dtype([(\"qint32\", np.int32, 1)])\n",
      "C:\\Users\\avelasque\\AppData\\Roaming\\Python\\Python37\\site-packages\\tensorboard\\compat\\tensorflow_stub\\dtypes.py:550: FutureWarning: Passing (type, 1) or '1type' as a synonym of type is deprecated; in a future version of numpy, it will be understood as (type, (1,)) / '(1,)type'.\n",
      "  np_resource = np.dtype([(\"resource\", np.ubyte, 1)])\n"
     ]
    }
   ],
   "source": [
    "from imblearn.under_sampling import NearMiss\n",
    "from imblearn.over_sampling import RandomOverSampler\n",
    "from imblearn.combine import SMOTETomek\n",
    "from imblearn.ensemble import BalancedBaggingClassifier"
   ]
  },
  {
   "cell_type": "code",
   "execution_count": 123,
   "metadata": {},
   "outputs": [],
   "source": [
    "%matplotlib inline\n",
    "import matplotlib.pyplot as plt\n",
    "import pandas as pd\n",
    "import numpy as np\n",
    "from sklearn.model_selection import train_test_split"
   ]
  },
  {
   "cell_type": "markdown",
   "metadata": {},
   "source": [
    "## **1.Leer los datos del dataset**\n",
    "### Leer los datos del dataset"
   ]
  },
  {
   "cell_type": "code",
   "execution_count": 921,
   "metadata": {},
   "outputs": [],
   "source": [
    "datos = pd.read_excel(\"C:/Users/avelasque/Desktop/cliente/TABLAVF6.xlsx\")"
   ]
  },
  {
   "cell_type": "markdown",
   "metadata": {},
   "source": [
    "### Identifique número de filas y columnas"
   ]
  },
  {
   "cell_type": "code",
   "execution_count": 922,
   "metadata": {},
   "outputs": [
    {
     "name": "stdout",
     "output_type": "stream",
     "text": [
      "Número de filas :  142451 y Número de columnas :  40\n"
     ]
    }
   ],
   "source": [
    "print(\"Número de filas : \",str(datos.shape[0]),\"y Número de columnas : \" ,str(datos.shape[1]))"
   ]
  },
  {
   "cell_type": "markdown",
   "metadata": {},
   "source": [
    "## **2.Frecuencia Inicial**\n",
    "Determinar la frecuencia de BUENOS y MALOS en los datos, de tal forma que se puede armar muestras. Calcule el nivel de entropía e interprete los resultados."
   ]
  },
  {
   "cell_type": "code",
   "execution_count": 923,
   "metadata": {},
   "outputs": [
    {
     "data": {
      "text/plain": [
       "BUEN CLIENTE    133674\n",
       "MAL CLIENTE       8777\n",
       "Name: FlagCliente, dtype: int64"
      ]
     },
     "execution_count": 923,
     "metadata": {},
     "output_type": "execute_result"
    }
   ],
   "source": [
    "pd.value_counts(datos['FlagCliente'])"
   ]
  },
  {
   "cell_type": "code",
   "execution_count": 924,
   "metadata": {},
   "outputs": [
    {
     "data": {
      "text/plain": [
       "BUEN CLIENTE    93.838583\n",
       "MAL CLIENTE      6.161417\n",
       "Name: FlagCliente, dtype: float64"
      ]
     },
     "execution_count": 924,
     "metadata": {},
     "output_type": "execute_result"
    }
   ],
   "source": [
    "100 * datos['FlagCliente'].value_counts() / len(datos['FlagCliente'])"
   ]
  },
  {
   "cell_type": "code",
   "execution_count": 925,
   "metadata": {},
   "outputs": [
    {
     "data": {
      "image/png": "[encoded data removed]",
      "text/plain": [
       "<Figure size 432x288 with 1 Axes>"
      ]
     },
     "metadata": {
      "needs_background": "light"
     },
     "output_type": "display_data"
    }
   ],
   "source": [
    "plot = datos['FlagCliente'].value_counts().plot(kind='bar',\n",
    "                                            title='Flag Clientes')\n"
   ]
  },
  {
   "cell_type": "markdown",
   "metadata": {},
   "source": [
    "## **3. Descripción y transformación de los datos**\n",
    "Preparar la descripción de los datos, con estadística Univariada y multivarida, exponer los atributos en función al ranking de atributos, primero el más importante. Solo con los datos balanceados."
   ]
  },
  {
   "cell_type": "code",
   "execution_count": 926,
   "metadata": {},
   "outputs": [],
   "source": [
    "df_train=datos.copy()"
   ]
  },
  {
   "cell_type": "code",
   "execution_count": 927,
   "metadata": {},
   "outputs": [
    {
     "data": {
      "text/html": [
       "<div>\n",
       "<style scoped>\n",
       "    .dataframe tbody tr th:only-of-type {\n",
       "        vertical-align: middle;\n",
       "    }\n",
       "\n",
       "    .dataframe tbody tr th {\n",
       "        vertical-align: top;\n",
       "    }\n",
       "\n",
       "    .dataframe thead th {\n",
       "        text-align: right;\n",
       "    }\n",
       "</style>\n",
       "<table border=\"1\" class=\"dataframe\">\n",
       "  <thead>\n",
       "    <tr style=\"text-align: right;\">\n",
       "      <th></th>\n",
       "      <th>idencuenta</th>\n",
       "      <th>numdoc</th>\n",
       "      <th>sexo</th>\n",
       "      <th>edad</th>\n",
       "      <th>estadocivil</th>\n",
       "      <th>departamento</th>\n",
       "      <th>s_fin_estab</th>\n",
       "      <th>s_rev_estab</th>\n",
       "      <th>s_fin_atm</th>\n",
       "      <th>s_rev_atm</th>\n",
       "      <th>...</th>\n",
       "      <th>ConsumoAnual201806_201906</th>\n",
       "      <th>NroTransaccionAnual201806_201906</th>\n",
       "      <th>tipo_seguro</th>\n",
       "      <th>HabitoPago201901</th>\n",
       "      <th>HabitoPago201902</th>\n",
       "      <th>HabitoPago201903</th>\n",
       "      <th>HabitoPago201906</th>\n",
       "      <th>HabitoPago201904</th>\n",
       "      <th>HabitoPago201905</th>\n",
       "      <th>FlagCliente</th>\n",
       "    </tr>\n",
       "  </thead>\n",
       "  <tbody>\n",
       "    <tr>\n",
       "      <td>0</td>\n",
       "      <td>5</td>\n",
       "      <td>10307110</td>\n",
       "      <td>F</td>\n",
       "      <td>43</td>\n",
       "      <td>SOLTERO                                       ...</td>\n",
       "      <td>Lima</td>\n",
       "      <td>517.73</td>\n",
       "      <td>942.91</td>\n",
       "      <td>0.0</td>\n",
       "      <td>0.00</td>\n",
       "      <td>...</td>\n",
       "      <td>16622.82</td>\n",
       "      <td>92.0</td>\n",
       "      <td>PARTICULARES</td>\n",
       "      <td>4</td>\n",
       "      <td>4</td>\n",
       "      <td>3</td>\n",
       "      <td>4</td>\n",
       "      <td>4</td>\n",
       "      <td>4</td>\n",
       "      <td>BUEN CLIENTE</td>\n",
       "    </tr>\n",
       "    <tr>\n",
       "      <td>1</td>\n",
       "      <td>6</td>\n",
       "      <td>44970275</td>\n",
       "      <td>F</td>\n",
       "      <td>32</td>\n",
       "      <td>SOLTERO                                       ...</td>\n",
       "      <td>Lima</td>\n",
       "      <td>0.00</td>\n",
       "      <td>1165.43</td>\n",
       "      <td>0.0</td>\n",
       "      <td>-3.11</td>\n",
       "      <td>...</td>\n",
       "      <td>13140.13</td>\n",
       "      <td>70.0</td>\n",
       "      <td>ESSALUD</td>\n",
       "      <td>4</td>\n",
       "      <td>4</td>\n",
       "      <td>4</td>\n",
       "      <td>5</td>\n",
       "      <td>5</td>\n",
       "      <td>5</td>\n",
       "      <td>BUEN CLIENTE</td>\n",
       "    </tr>\n",
       "    <tr>\n",
       "      <td>2</td>\n",
       "      <td>10</td>\n",
       "      <td>45150787</td>\n",
       "      <td>M</td>\n",
       "      <td>31</td>\n",
       "      <td>SOLTERO                                       ...</td>\n",
       "      <td>Arequipa</td>\n",
       "      <td>751.31</td>\n",
       "      <td>1072.64</td>\n",
       "      <td>0.0</td>\n",
       "      <td>0.00</td>\n",
       "      <td>...</td>\n",
       "      <td>11481.89</td>\n",
       "      <td>64.0</td>\n",
       "      <td>PARTICULARES</td>\n",
       "      <td>5</td>\n",
       "      <td>5</td>\n",
       "      <td>5</td>\n",
       "      <td>5</td>\n",
       "      <td>5</td>\n",
       "      <td>5</td>\n",
       "      <td>BUEN CLIENTE</td>\n",
       "    </tr>\n",
       "    <tr>\n",
       "      <td>3</td>\n",
       "      <td>14</td>\n",
       "      <td>46687550</td>\n",
       "      <td>M</td>\n",
       "      <td>28</td>\n",
       "      <td>SOLTERO                                       ...</td>\n",
       "      <td>Lima</td>\n",
       "      <td>0.00</td>\n",
       "      <td>48.92</td>\n",
       "      <td>0.0</td>\n",
       "      <td>0.00</td>\n",
       "      <td>...</td>\n",
       "      <td>1332.98</td>\n",
       "      <td>21.0</td>\n",
       "      <td>PARTICULARES</td>\n",
       "      <td>-1</td>\n",
       "      <td>5</td>\n",
       "      <td>5</td>\n",
       "      <td>-1</td>\n",
       "      <td>5</td>\n",
       "      <td>5</td>\n",
       "      <td>BUEN CLIENTE</td>\n",
       "    </tr>\n",
       "    <tr>\n",
       "      <td>4</td>\n",
       "      <td>29</td>\n",
       "      <td>2825184</td>\n",
       "      <td>F</td>\n",
       "      <td>47</td>\n",
       "      <td>CASADO                                        ...</td>\n",
       "      <td>Lima</td>\n",
       "      <td>0.00</td>\n",
       "      <td>718.75</td>\n",
       "      <td>0.0</td>\n",
       "      <td>0.00</td>\n",
       "      <td>...</td>\n",
       "      <td>3174.79</td>\n",
       "      <td>17.0</td>\n",
       "      <td>ONCOSALUD</td>\n",
       "      <td>5</td>\n",
       "      <td>5</td>\n",
       "      <td>5</td>\n",
       "      <td>5</td>\n",
       "      <td>5</td>\n",
       "      <td>5</td>\n",
       "      <td>BUEN CLIENTE</td>\n",
       "    </tr>\n",
       "    <tr>\n",
       "      <td>...</td>\n",
       "      <td>...</td>\n",
       "      <td>...</td>\n",
       "      <td>...</td>\n",
       "      <td>...</td>\n",
       "      <td>...</td>\n",
       "      <td>...</td>\n",
       "      <td>...</td>\n",
       "      <td>...</td>\n",
       "      <td>...</td>\n",
       "      <td>...</td>\n",
       "      <td>...</td>\n",
       "      <td>...</td>\n",
       "      <td>...</td>\n",
       "      <td>...</td>\n",
       "      <td>...</td>\n",
       "      <td>...</td>\n",
       "      <td>...</td>\n",
       "      <td>...</td>\n",
       "      <td>...</td>\n",
       "      <td>...</td>\n",
       "      <td>...</td>\n",
       "    </tr>\n",
       "    <tr>\n",
       "      <td>142446</td>\n",
       "      <td>307368</td>\n",
       "      <td>9020879</td>\n",
       "      <td>M</td>\n",
       "      <td>63</td>\n",
       "      <td>CASADO                                        ...</td>\n",
       "      <td>Lima</td>\n",
       "      <td>1657.00</td>\n",
       "      <td>0.00</td>\n",
       "      <td>0.0</td>\n",
       "      <td>0.00</td>\n",
       "      <td>...</td>\n",
       "      <td>NaN</td>\n",
       "      <td>NaN</td>\n",
       "      <td>ESSALUD</td>\n",
       "      <td>-1</td>\n",
       "      <td>-1</td>\n",
       "      <td>-1</td>\n",
       "      <td>-1</td>\n",
       "      <td>-1</td>\n",
       "      <td>-1</td>\n",
       "      <td>BUEN CLIENTE</td>\n",
       "    </tr>\n",
       "    <tr>\n",
       "      <td>142447</td>\n",
       "      <td>307832</td>\n",
       "      <td>25658008</td>\n",
       "      <td>M</td>\n",
       "      <td>54</td>\n",
       "      <td>CASADO                                        ...</td>\n",
       "      <td>Callao</td>\n",
       "      <td>1499.00</td>\n",
       "      <td>0.00</td>\n",
       "      <td>0.0</td>\n",
       "      <td>0.00</td>\n",
       "      <td>...</td>\n",
       "      <td>NaN</td>\n",
       "      <td>NaN</td>\n",
       "      <td>ESSALUD</td>\n",
       "      <td>-1</td>\n",
       "      <td>-1</td>\n",
       "      <td>-1</td>\n",
       "      <td>-1</td>\n",
       "      <td>-1</td>\n",
       "      <td>-1</td>\n",
       "      <td>BUEN CLIENTE</td>\n",
       "    </tr>\n",
       "    <tr>\n",
       "      <td>142448</td>\n",
       "      <td>307845</td>\n",
       "      <td>8275826</td>\n",
       "      <td>F</td>\n",
       "      <td>50</td>\n",
       "      <td>CASADO                                        ...</td>\n",
       "      <td>Lima</td>\n",
       "      <td>4798.00</td>\n",
       "      <td>0.00</td>\n",
       "      <td>0.0</td>\n",
       "      <td>0.00</td>\n",
       "      <td>...</td>\n",
       "      <td>NaN</td>\n",
       "      <td>NaN</td>\n",
       "      <td>EPS</td>\n",
       "      <td>-1</td>\n",
       "      <td>-1</td>\n",
       "      <td>-1</td>\n",
       "      <td>-1</td>\n",
       "      <td>-1</td>\n",
       "      <td>-1</td>\n",
       "      <td>BUEN CLIENTE</td>\n",
       "    </tr>\n",
       "    <tr>\n",
       "      <td>142449</td>\n",
       "      <td>307847</td>\n",
       "      <td>45978696</td>\n",
       "      <td>F</td>\n",
       "      <td>29</td>\n",
       "      <td>CASADO                                        ...</td>\n",
       "      <td>Lima</td>\n",
       "      <td>1147.00</td>\n",
       "      <td>0.00</td>\n",
       "      <td>0.0</td>\n",
       "      <td>0.00</td>\n",
       "      <td>...</td>\n",
       "      <td>NaN</td>\n",
       "      <td>NaN</td>\n",
       "      <td>ONCOSALUD</td>\n",
       "      <td>-1</td>\n",
       "      <td>-1</td>\n",
       "      <td>-1</td>\n",
       "      <td>-1</td>\n",
       "      <td>-1</td>\n",
       "      <td>-1</td>\n",
       "      <td>BUEN CLIENTE</td>\n",
       "    </tr>\n",
       "    <tr>\n",
       "      <td>142450</td>\n",
       "      <td>307849</td>\n",
       "      <td>7623243</td>\n",
       "      <td>F</td>\n",
       "      <td>48</td>\n",
       "      <td>CASADO                                        ...</td>\n",
       "      <td>Lima</td>\n",
       "      <td>6300.00</td>\n",
       "      <td>0.00</td>\n",
       "      <td>0.0</td>\n",
       "      <td>0.00</td>\n",
       "      <td>...</td>\n",
       "      <td>NaN</td>\n",
       "      <td>NaN</td>\n",
       "      <td>ONCOSALUD</td>\n",
       "      <td>-1</td>\n",
       "      <td>-1</td>\n",
       "      <td>-1</td>\n",
       "      <td>-1</td>\n",
       "      <td>-1</td>\n",
       "      <td>-1</td>\n",
       "      <td>BUEN CLIENTE</td>\n",
       "    </tr>\n",
       "  </tbody>\n",
       "</table>\n",
       "<p>142451 rows × 40 columns</p>\n",
       "</div>"
      ],
      "text/plain": [
       "        idencuenta    numdoc sexo  edad  \\\n",
       "0                5  10307110    F    43   \n",
       "1                6  44970275    F    32   \n",
       "2               10  45150787    M    31   \n",
       "3               14  46687550    M    28   \n",
       "4               29   2825184    F    47   \n",
       "...            ...       ...  ...   ...   \n",
       "142446      307368   9020879    M    63   \n",
       "142447      307832  25658008    M    54   \n",
       "142448      307845   8275826    F    50   \n",
       "142449      307847  45978696    F    29   \n",
       "142450      307849   7623243    F    48   \n",
       "\n",
       "                                              estadocivil departamento  \\\n",
       "0       SOLTERO                                       ...         Lima   \n",
       "1       SOLTERO                                       ...         Lima   \n",
       "2       SOLTERO                                       ...     Arequipa   \n",
       "3       SOLTERO                                       ...         Lima   \n",
       "4       CASADO                                        ...         Lima   \n",
       "...                                                   ...          ...   \n",
       "142446  CASADO                                        ...         Lima   \n",
       "142447  CASADO                                        ...       Callao   \n",
       "142448  CASADO                                        ...         Lima   \n",
       "142449  CASADO                                        ...         Lima   \n",
       "142450  CASADO                                        ...         Lima   \n",
       "\n",
       "        s_fin_estab  s_rev_estab  s_fin_atm  s_rev_atm  ...  \\\n",
       "0            517.73       942.91        0.0       0.00  ...   \n",
       "1              0.00      1165.43        0.0      -3.11  ...   \n",
       "2            751.31      1072.64        0.0       0.00  ...   \n",
       "3              0.00        48.92        0.0       0.00  ...   \n",
       "4              0.00       718.75        0.0       0.00  ...   \n",
       "...             ...          ...        ...        ...  ...   \n",
       "142446      1657.00         0.00        0.0       0.00  ...   \n",
       "142447      1499.00         0.00        0.0       0.00  ...   \n",
       "142448      4798.00         0.00        0.0       0.00  ...   \n",
       "142449      1147.00         0.00        0.0       0.00  ...   \n",
       "142450      6300.00         0.00        0.0       0.00  ...   \n",
       "\n",
       "        ConsumoAnual201806_201906  NroTransaccionAnual201806_201906  \\\n",
       "0                        16622.82                              92.0   \n",
       "1                        13140.13                              70.0   \n",
       "2                        11481.89                              64.0   \n",
       "3                         1332.98                              21.0   \n",
       "4                         3174.79                              17.0   \n",
       "...                           ...                               ...   \n",
       "142446                        NaN                               NaN   \n",
       "142447                        NaN                               NaN   \n",
       "142448                        NaN                               NaN   \n",
       "142449                        NaN                               NaN   \n",
       "142450                        NaN                               NaN   \n",
       "\n",
       "         tipo_seguro  HabitoPago201901 HabitoPago201902 HabitoPago201903  \\\n",
       "0       PARTICULARES                 4                4                3   \n",
       "1            ESSALUD                 4                4                4   \n",
       "2       PARTICULARES                 5                5                5   \n",
       "3       PARTICULARES                -1                5                5   \n",
       "4          ONCOSALUD                 5                5                5   \n",
       "...              ...               ...              ...              ...   \n",
       "142446       ESSALUD                -1               -1               -1   \n",
       "142447       ESSALUD                -1               -1               -1   \n",
       "142448           EPS                -1               -1               -1   \n",
       "142449     ONCOSALUD                -1               -1               -1   \n",
       "142450     ONCOSALUD                -1               -1               -1   \n",
       "\n",
       "        HabitoPago201906  HabitoPago201904 HabitoPago201905   FlagCliente  \n",
       "0                      4                 4                4  BUEN CLIENTE  \n",
       "1                      5                 5                5  BUEN CLIENTE  \n",
       "2                      5                 5                5  BUEN CLIENTE  \n",
       "3                     -1                 5                5  BUEN CLIENTE  \n",
       "4                      5                 5                5  BUEN CLIENTE  \n",
       "...                  ...               ...              ...           ...  \n",
       "142446                -1                -1               -1  BUEN CLIENTE  \n",
       "142447                -1                -1               -1  BUEN CLIENTE  \n",
       "142448                -1                -1               -1  BUEN CLIENTE  \n",
       "142449                -1                -1               -1  BUEN CLIENTE  \n",
       "142450                -1                -1               -1  BUEN CLIENTE  \n",
       "\n",
       "[142451 rows x 40 columns]"
      ]
     },
     "execution_count": 927,
     "metadata": {},
     "output_type": "execute_result"
    }
   ],
   "source": [
    "df_train"
   ]
  },
  {
   "cell_type": "code",
   "execution_count": 140,
   "metadata": {},
   "outputs": [],
   "source": [
    "#CONVERTIR DATOS Enteros a Categóricos\n",
    "#df_train['Flag_usoApp'] = df_train['Flag_usoApp'].astype(str) \n",
    "#df_train['Flg_sRefinanciamiento201906'] = df_train['Flg_sRefinanciamiento201906'].astype(str)\n",
    "#df_train['Flg_sRefinanciamiento201909'] = df_train['Flg_sRefinanciamiento201909'].astype(str) \n",
    "#df_train['Flg_sRefinanciamiento201912'] = df_train['Flg_sRefinanciamiento201912'].astype(str) \n",
    "\n",
    "#df_train['FlagCBCuotasSemestral'] = df_train['FlagCBCuotasSemestral'].astype(str) \n",
    "#df_train['FlagCBCuotasAnual'] = df_train['FlagCBCuotasAnual'].astype(str) \n",
    "#df_train['FlagCasino'] = df_train['FlagCasino'].astype(str)\n",
    "#df_train['FlagSaldoCASTIGADO'] = df_train['FlagSaldoCASTIGADO'].astype(str) "
   ]
  },
  {
   "cell_type": "code",
   "execution_count": 928,
   "metadata": {},
   "outputs": [],
   "source": [
    "#Tipo de datos \n",
    "feature_columns = {}\n",
    "\n",
    "feature_columns['categorical'] = df_train.select_dtypes(include = ['object']).columns.values.tolist()\n",
    "feature_columns['int'] = df_train.select_dtypes(include = ['integer']).columns.values.tolist()\n",
    "feature_columns['float'] = df_train.select_dtypes(include = ['float32','float64']).columns.values.tolist()\n",
    "feature_columns['numerical'] = feature_columns['int'] + feature_columns['float']\n",
    "feature_columns[\"categorical\"]\n",
    "del feature_columns[\"categorical\"][-1] #elimino flagcliente"
   ]
  },
  {
   "cell_type": "code",
   "execution_count": 929,
   "metadata": {},
   "outputs": [
    {
     "name": "stdout",
     "output_type": "stream",
     "text": [
      "sexo\n",
      "estadocivil\n",
      "departamento\n",
      "estado\n",
      "nombre_producto\n",
      "flg_situacionlaboral_oscar\n",
      "porc_uso_linea\n",
      "flg_ppd\n",
      "flg_usodisef\n",
      "zona_apein\n",
      "FLGRCC\n",
      "segmentoNSE\n",
      "tipo_seguro\n",
      "FlagCliente\n"
     ]
    }
   ],
   "source": [
    "#TRANSFORMACIÓN DE LAS VARIABLES\n",
    "for l in feature_columns[\"categorical\"] +[\"FlagCliente\"]:\n",
    "    print(l) \n",
    "    me = preprocessing.LabelEncoder()\n",
    "    \n",
    "    df_train.loc[df_train[l].notnull(),l]=df_train.loc[df_train[l].notnull(),l].astype(str)\n",
    "    \n",
    "    #test.loc[test[l].notnull(),l]=test.loc[test[l].notnull(),l].astype(str)\n",
    "\n",
    "    \n",
    "    me.fit(list(df_train[l].dropna())+list(df_train[l].dropna()))\n",
    "    \n",
    "    df_train.loc[~df_train[l].isnull(),l]=me.transform(df_train.loc[~df_train[l].isnull(),l])\n",
    "\n",
    "    #test.loc[~df_train[l].isnull(),l]=me.transform(df_train.loc[~df_train[l].isnull(),l])\n",
    "#test=test.drop('FlagCliente', axis=1)"
   ]
  },
  {
   "cell_type": "code",
   "execution_count": 415,
   "metadata": {},
   "outputs": [],
   "source": [
    "#pd.value_counts(df_train[\"TIPO_GRADO\"])"
   ]
  },
  {
   "cell_type": "code",
   "execution_count": 930,
   "metadata": {},
   "outputs": [
    {
     "name": "stdout",
     "output_type": "stream",
     "text": [
      "Valores perdidos por columna\n"
     ]
    },
    {
     "data": {
      "text/plain": [
       "{'idencuenta': 0,\n",
       " 'numdoc': 0,\n",
       " 'sexo': 0,\n",
       " 'edad': 0,\n",
       " 'estadocivil': 0,\n",
       " 'departamento': 0,\n",
       " 's_fin_estab': 0,\n",
       " 's_rev_estab': 0,\n",
       " 's_fin_atm': 0,\n",
       " 's_rev_atm': 0,\n",
       " 'saldo_lp': 0,\n",
       " 'saldo_mora': 0,\n",
       " 'saldo_exceso': 0,\n",
       " 'DiasMora201906': 0,\n",
       " 'estado': 0,\n",
       " 'nombre_producto': 0,\n",
       " 'linea_credito_usd': 0,\n",
       " 'linea_credito_soles': 0,\n",
       " 'flg_situacionlaboral_oscar': 0,\n",
       " 'porc_uso_linea': 0,\n",
       " 'flg_ppd': 0,\n",
       " 'flg_usodisef': 0,\n",
       " 'zona_apein': 0,\n",
       " 'maxlinea_bench': 0,\n",
       " 'flagscastigado': 0,\n",
       " 'flagrefinanciado': 0,\n",
       " 'flagpld': 0,\n",
       " 'flagdiseftcexterno': 0,\n",
       " 'FLGRCC': 0,\n",
       " 'segmentoNSE': 0,\n",
       " 'ConsumoAnual201806_201906': 9229,\n",
       " 'NroTransaccionAnual201806_201906': 9229,\n",
       " 'tipo_seguro': 0,\n",
       " 'HabitoPago201901': 0,\n",
       " 'HabitoPago201902': 0,\n",
       " 'HabitoPago201903': 0,\n",
       " 'HabitoPago201906': 0,\n",
       " 'HabitoPago201904': 0,\n",
       " 'HabitoPago201905': 0,\n",
       " 'FlagCliente': 0}"
      ]
     },
     "execution_count": 930,
     "metadata": {},
     "output_type": "execute_result"
    }
   ],
   "source": [
    "#Creamos una función:\n",
    "def num_missing(x):\n",
    "  return sum(x.isnull())\n",
    "#Aplicamos por columna:\n",
    "print (\"Valores perdidos por columna\")\n",
    "dict(df_train.apply(num_missing, axis=0)) \n",
    "#df_train[\"TIPO_GRADO\"]=df_train[\"TIPO_GRADO\"].fillna(value=5)\n"
   ]
  },
  {
   "cell_type": "code",
   "execution_count": 931,
   "metadata": {},
   "outputs": [],
   "source": [
    "df_train[\"ConsumoAnual201806_201906\"]=df_train[\"ConsumoAnual201806_201906\"].fillna(value = 0) \n",
    "df_train[\"NroTransaccionAnual201806_201906\"] = df_train[\"NroTransaccionAnual201806_201906\"].fillna(value = 0)"
   ]
  },
  {
   "cell_type": "markdown",
   "metadata": {},
   "source": [
    "## Primera ejecución del modelo"
   ]
  },
  {
   "cell_type": "code",
   "execution_count": 932,
   "metadata": {},
   "outputs": [],
   "source": [
    "from sklearn.metrics import confusion_matrix\n",
    "from sklearn.metrics import classification_report\n",
    "\n",
    "def mostrar_resultados(y_test, pred_y):\n",
    "    conf_matrix = confusion_matrix(y_test, pred_y)\n",
    "    plt.figure(figsize=(8, 8))\n",
    "    sns.heatmap(conf_matrix, xticklabels=[\"bueno\", \"malo\"], yticklabels=[\"bueno\",\"malo\"], annot=True, fmt=\"d\");\n",
    "    plt.title(\"Confusion matrix\")\n",
    "    plt.ylabel('True class')\n",
    "    plt.xlabel('Predicted class')\n",
    "    plt.show()\n",
    "    print (classification_report(y_test, pred_y))\n",
    "    "
   ]
  },
  {
   "cell_type": "code",
   "execution_count": 933,
   "metadata": {},
   "outputs": [],
   "source": [
    "y = df_train['FlagCliente']\n",
    "remover = [\"idencuenta\",\"numdoc\",'FlagCliente']#,'HabitoPago201906','HabitoPago201907']\n",
    "X = df_train.drop(remover, axis=1)\n",
    "X_train, X_test, y_train, y_test = train_test_split(X, y, train_size=0.7, random_state = 1970)"
   ]
  },
  {
   "cell_type": "code",
   "execution_count": 934,
   "metadata": {},
   "outputs": [],
   "source": [
    "colsP = X.columns.to_list()"
   ]
  },
  {
   "cell_type": "code",
   "execution_count": 935,
   "metadata": {},
   "outputs": [
    {
     "name": "stderr",
     "output_type": "stream",
     "text": [
      "C:\\Users\\avelasque\\AppData\\Roaming\\Python\\Python37\\site-packages\\sklearn\\linear_model\\_logistic.py:940: ConvergenceWarning: lbfgs failed to converge (status=1):\n",
      "STOP: TOTAL NO. of ITERATIONS REACHED LIMIT.\n",
      "\n",
      "Increase the number of iterations (max_iter) or scale the data as shown in:\n",
      "    https://scikit-learn.org/stable/modules/preprocessing.html\n",
      "Please also refer to the documentation for alternative solver options:\n",
      "    https://scikit-learn.org/stable/modules/linear_model.html#logistic-regression\n",
      "  extra_warning_msg=_LOGISTIC_SOLVER_CONVERGENCE_MSG)\n"
     ]
    },
    {
     "data": {
      "image/png": "[encoded data removed]",
      "text/plain": [
       "<Figure size 576x576 with 2 Axes>"
      ]
     },
     "metadata": {
      "needs_background": "light"
     },
     "output_type": "display_data"
    },
    {
     "name": "stdout",
     "output_type": "stream",
     "text": [
      "              precision    recall  f1-score   support\n",
      "\n",
      "           0       0.97      0.65      0.78     40111\n",
      "           1       0.12      0.72      0.20      2625\n",
      "\n",
      "    accuracy                           0.65     42736\n",
      "   macro avg       0.55      0.69      0.49     42736\n",
      "weighted avg       0.92      0.65      0.74     42736\n",
      "\n"
     ]
    }
   ],
   "source": [
    "colsP = X.columns.to_list()\n",
    "from sklearn.linear_model import LogisticRegression\n",
    "logit = LogisticRegression(max_iter= 500, class_weight= \"balanced\")\n",
    "logit.fit(X_train, y_train)\n",
    " \n",
    "# Test accuracy\n",
    "y_pred = logit.predict(X_test)\n",
    "\n",
    "mostrar_resultados(y_test, y_pred)"
   ]
  },
  {
   "cell_type": "markdown",
   "metadata": {},
   "source": [
    "## 3.1 Boruta para la selección de variables"
   ]
  },
  {
   "cell_type": "code",
   "execution_count": 936,
   "metadata": {},
   "outputs": [],
   "source": [
    "from collections import Counter\n",
    "from sklearn.ensemble import RandomForestClassifier\n",
    "from boruta import BorutaPy"
   ]
  },
  {
   "cell_type": "code",
   "execution_count": 943,
   "metadata": {},
   "outputs": [
    {
     "name": "stdout",
     "output_type": "stream",
     "text": [
      "Iteration: \t1 / 50\n",
      "Confirmed: \t0\n",
      "Tentative: \t37\n",
      "Rejected: \t0\n",
      "Iteration: \t2 / 50\n",
      "Confirmed: \t0\n",
      "Tentative: \t37\n",
      "Rejected: \t0\n",
      "Iteration: \t3 / 50\n",
      "Confirmed: \t0\n",
      "Tentative: \t37\n",
      "Rejected: \t0\n",
      "Iteration: \t4 / 50\n",
      "Confirmed: \t0\n",
      "Tentative: \t37\n",
      "Rejected: \t0\n",
      "Iteration: \t5 / 50\n",
      "Confirmed: \t0\n",
      "Tentative: \t37\n",
      "Rejected: \t0\n",
      "Iteration: \t6 / 50\n",
      "Confirmed: \t0\n",
      "Tentative: \t37\n",
      "Rejected: \t0\n",
      "Iteration: \t7 / 50\n",
      "Confirmed: \t0\n",
      "Tentative: \t37\n",
      "Rejected: \t0\n",
      "Iteration: \t8 / 50\n",
      "Confirmed: \t34\n",
      "Tentative: \t0\n",
      "Rejected: \t3\n",
      "\n",
      "\n",
      "BorutaPy finished running.\n",
      "\n",
      "Iteration: \t9 / 50\n",
      "Confirmed: \t34\n",
      "Tentative: \t0\n",
      "Rejected: \t3\n"
     ]
    },
    {
     "data": {
      "text/plain": [
       "BorutaPy(alpha=0.05,\n",
       "         estimator=RandomForestClassifier(bootstrap=True, ccp_alpha=0.0,\n",
       "                                          class_weight='balanced',\n",
       "                                          criterion='gini', max_depth=5,\n",
       "                                          max_features='auto',\n",
       "                                          max_leaf_nodes=None, max_samples=None,\n",
       "                                          min_impurity_decrease=0.0,\n",
       "                                          min_impurity_split=None,\n",
       "                                          min_samples_leaf=1,\n",
       "                                          min_samples_split=2,\n",
       "                                          min_weight_fraction_leaf=0.0,\n",
       "                                          n_estimators=172, n_jobs=-1,\n",
       "                                          oob_score=False,\n",
       "                                          random_state=RandomState(MT19937) at 0x25E0E110EB8,\n",
       "                                          verbose=0, warm_start=False),\n",
       "         max_iter=50, n_estimators='auto', perc=90,\n",
       "         random_state=RandomState(MT19937) at 0x25E0E110EB8, two_step=True,\n",
       "         verbose=2)"
      ]
     },
     "execution_count": 943,
     "metadata": {},
     "output_type": "execute_result"
    }
   ],
   "source": [
    "rf = RandomForestClassifier(n_jobs=-1, class_weight='balanced', max_depth=5)\n",
    "boruta_feature_selector = BorutaPy(rf, n_estimators='auto', verbose=2, random_state=4242, max_iter = 50, perc = 90)\n",
    "boruta_feature_selector.fit(X.values, y.values)"
   ]
  },
  {
   "cell_type": "markdown",
   "metadata": {},
   "source": [
    "##### validacion"
   ]
  },
  {
   "cell_type": "code",
   "execution_count": 944,
   "metadata": {},
   "outputs": [
    {
     "data": {
      "text/plain": [
       "Index(['sexo', 'edad', 's_fin_estab', 's_rev_estab', 's_fin_atm', 's_rev_atm',\n",
       "       'saldo_lp', 'saldo_mora', 'DiasMora201906', 'estado', 'nombre_producto',\n",
       "       'linea_credito_usd', 'linea_credito_soles',\n",
       "       'flg_situacionlaboral_oscar', 'porc_uso_linea', 'flg_ppd',\n",
       "       'flg_usodisef', 'zona_apein', 'maxlinea_bench', 'flagscastigado',\n",
       "       'flagrefinanciado', 'flagpld', 'flagdiseftcexterno', 'FLGRCC',\n",
       "       'segmentoNSE', 'ConsumoAnual201806_201906',\n",
       "       'NroTransaccionAnual201806_201906', 'tipo_seguro', 'HabitoPago201901',\n",
       "       'HabitoPago201902', 'HabitoPago201903', 'HabitoPago201906',\n",
       "       'HabitoPago201904', 'HabitoPago201905'],\n",
       "      dtype='object')"
      ]
     },
     "execution_count": 944,
     "metadata": {},
     "output_type": "execute_result"
    }
   ],
   "source": [
    "X_filtered = boruta_feature_selector.transform(X.values)\n",
    "cols = X_train.columns[boruta_feature_selector.support_]\n",
    "cols"
   ]
  },
  {
   "cell_type": "code",
   "execution_count": 945,
   "metadata": {},
   "outputs": [
    {
     "data": {
      "text/plain": [
       "34"
      ]
     },
     "execution_count": 945,
     "metadata": {},
     "output_type": "execute_result"
    }
   ],
   "source": [
    "len(cols)"
   ]
  },
  {
   "cell_type": "markdown",
   "metadata": {},
   "source": [
    "### Variables descartadas por el algoritmo boruta"
   ]
  },
  {
   "cell_type": "code",
   "execution_count": 946,
   "metadata": {},
   "outputs": [
    {
     "data": {
      "text/plain": [
       "['estadocivil', 'departamento', 'saldo_exceso']"
      ]
     },
     "execution_count": 946,
     "metadata": {},
     "output_type": "execute_result"
    }
   ],
   "source": [
    "descarteBoruta =[x for x in colsP if x not in cols]\n",
    "descarteBoruta"
   ]
  },
  {
   "cell_type": "markdown",
   "metadata": {},
   "source": [
    "## 4. Balance de datos con SMOTETomek\n",
    "### Debido a la relación entre clientes buenos y malos, es necesario realizar un balanceo de los datos\n",
    "   SMOTETomek, es un método de balance de datos basado en el subsampling y el oversampling"
   ]
  },
  {
   "cell_type": "code",
   "execution_count": 947,
   "metadata": {},
   "outputs": [
    {
     "name": "stdout",
     "output_type": "stream",
     "text": [
      "Distribution of class labels before resampling Counter({0: 93563, 1: 6152})\n",
      "Distribution of class labels after resampling Counter({1: 92508, 0: 92508})\n"
     ]
    }
   ],
   "source": [
    "#Balanceo\n",
    "os_us = SMOTETomek()\n",
    "X_train_res, y_train_res = os_us.fit_sample(X_train[cols], y_train.ravel())\n",
    "\n",
    "print (\"Distribution of class labels before resampling {}\".format(Counter(y_train)))\n",
    "print (\"Distribution of class labels after resampling {}\".format(Counter(y_train_res)))"
   ]
  },
  {
   "cell_type": "markdown",
   "metadata": {},
   "source": [
    "## Segunda ejecución del modelo"
   ]
  },
  {
   "cell_type": "code",
   "execution_count": 948,
   "metadata": {},
   "outputs": [
    {
     "name": "stderr",
     "output_type": "stream",
     "text": [
      "C:\\Users\\avelasque\\AppData\\Roaming\\Python\\Python37\\site-packages\\sklearn\\linear_model\\_logistic.py:940: ConvergenceWarning: lbfgs failed to converge (status=1):\n",
      "STOP: TOTAL NO. of ITERATIONS REACHED LIMIT.\n",
      "\n",
      "Increase the number of iterations (max_iter) or scale the data as shown in:\n",
      "    https://scikit-learn.org/stable/modules/preprocessing.html\n",
      "Please also refer to the documentation for alternative solver options:\n",
      "    https://scikit-learn.org/stable/modules/linear_model.html#logistic-regression\n",
      "  extra_warning_msg=_LOGISTIC_SOLVER_CONVERGENCE_MSG)\n"
     ]
    },
    {
     "data": {
      "image/png": "[encoded data removed]",
      "text/plain": [
       "<Figure size 576x576 with 2 Axes>"
      ]
     },
     "metadata": {
      "needs_background": "light"
     },
     "output_type": "display_data"
    },
    {
     "name": "stdout",
     "output_type": "stream",
     "text": [
      "              precision    recall  f1-score   support\n",
      "\n",
      "           0       0.96      0.79      0.87     40111\n",
      "           1       0.14      0.54      0.22      2625\n",
      "\n",
      "    accuracy                           0.77     42736\n",
      "   macro avg       0.55      0.66      0.54     42736\n",
      "weighted avg       0.91      0.77      0.83     42736\n",
      "\n"
     ]
    }
   ],
   "source": [
    "from sklearn.linear_model import LogisticRegression\n",
    "est_boruta = LogisticRegression(max_iter= 500)\n",
    "est_boruta.fit(X_train_res, y_train_res)\n",
    " \n",
    "# Test accuracy\n",
    "y_pred = est_boruta.predict(X_test[cols])\n",
    "\n",
    "mostrar_resultados(y_test, y_pred)"
   ]
  },
  {
   "cell_type": "code",
   "execution_count": 949,
   "metadata": {},
   "outputs": [
    {
     "data": {
      "text/plain": [
       "0.14097499500544575"
      ]
     },
     "execution_count": 949,
     "metadata": {},
     "output_type": "execute_result"
    }
   ],
   "source": [
    "sklearn.metrics.cohen_kappa_score(y_test, y_pred)"
   ]
  },
  {
   "cell_type": "code",
   "execution_count": 950,
   "metadata": {},
   "outputs": [
    {
     "data": {
      "text/plain": [
       "0.6633768957808747"
      ]
     },
     "execution_count": 950,
     "metadata": {},
     "output_type": "execute_result"
    }
   ],
   "source": [
    "roc_auc_score(y_test, y_pred)"
   ]
  },
  {
   "cell_type": "markdown",
   "metadata": {},
   "source": [
    "Conclusión: La precisión del modelo es del 71%, procederemos a evaluar la correlación entre variables ya que el algoritmo boruta puede no haber eliminado las variables con mayor peso"
   ]
  },
  {
   "cell_type": "markdown",
   "metadata": {},
   "source": [
    "## 5. Análisis de variables\n",
    "### 5.1 Matriz de correlación"
   ]
  },
  {
   "cell_type": "code",
   "execution_count": 951,
   "metadata": {},
   "outputs": [
    {
     "data": {
      "image/png": "[encoded data removed]",
      "text/plain": [
       "<Figure size 432x288 with 2 Axes>"
      ]
     },
     "metadata": {
      "needs_background": "light"
     },
     "output_type": "display_data"
    }
   ],
   "source": [
    "data = df_train.copy()\n",
    "sns.heatmap(data[colsP].corr(),annot=True,fmt=\"0.1f\",cmap=\"coolwarm\")\n",
    "plt.show()\n",
    "data3 = data[colsP].copy()\n",
    "data3['FlagCliente'] = data['FlagCliente']"
   ]
  },
  {
   "cell_type": "code",
   "execution_count": 787,
   "metadata": {},
   "outputs": [],
   "source": [
    "data3 = data[colsP].copy()\n",
    "data3['FlagCliente'] = data['FlagCliente']"
   ]
  },
  {
   "cell_type": "code",
   "execution_count": 952,
   "metadata": {
    "scrolled": true
   },
   "outputs": [
    {
     "data": {
      "text/html": [
       "<div>\n",
       "<style scoped>\n",
       "    .dataframe tbody tr th:only-of-type {\n",
       "        vertical-align: middle;\n",
       "    }\n",
       "\n",
       "    .dataframe tbody tr th {\n",
       "        vertical-align: top;\n",
       "    }\n",
       "\n",
       "    .dataframe thead th {\n",
       "        text-align: right;\n",
       "    }\n",
       "</style>\n",
       "<table border=\"1\" class=\"dataframe\">\n",
       "  <thead>\n",
       "    <tr style=\"text-align: right;\">\n",
       "      <th></th>\n",
       "      <th>sexo</th>\n",
       "      <th>edad</th>\n",
       "      <th>estadocivil</th>\n",
       "      <th>departamento</th>\n",
       "      <th>s_fin_estab</th>\n",
       "      <th>s_rev_estab</th>\n",
       "      <th>s_fin_atm</th>\n",
       "      <th>s_rev_atm</th>\n",
       "      <th>saldo_lp</th>\n",
       "      <th>saldo_mora</th>\n",
       "      <th>...</th>\n",
       "      <th>ConsumoAnual201806_201906</th>\n",
       "      <th>NroTransaccionAnual201806_201906</th>\n",
       "      <th>tipo_seguro</th>\n",
       "      <th>HabitoPago201901</th>\n",
       "      <th>HabitoPago201902</th>\n",
       "      <th>HabitoPago201903</th>\n",
       "      <th>HabitoPago201906</th>\n",
       "      <th>HabitoPago201904</th>\n",
       "      <th>HabitoPago201905</th>\n",
       "      <th>FlagCliente</th>\n",
       "    </tr>\n",
       "  </thead>\n",
       "  <tbody>\n",
       "    <tr>\n",
       "      <td>sexo</td>\n",
       "      <td>1.000000</td>\n",
       "      <td>0.030324</td>\n",
       "      <td>-0.098352</td>\n",
       "      <td>-0.020280</td>\n",
       "      <td>-0.021138</td>\n",
       "      <td>0.026577</td>\n",
       "      <td>0.046595</td>\n",
       "      <td>0.003979</td>\n",
       "      <td>0.069233</td>\n",
       "      <td>0.006585</td>\n",
       "      <td>...</td>\n",
       "      <td>0.006230</td>\n",
       "      <td>0.000713</td>\n",
       "      <td>-0.029795</td>\n",
       "      <td>-0.009212</td>\n",
       "      <td>-0.007662</td>\n",
       "      <td>-0.007679</td>\n",
       "      <td>-0.002917</td>\n",
       "      <td>-0.012082</td>\n",
       "      <td>-0.006684</td>\n",
       "      <td>0.027303</td>\n",
       "    </tr>\n",
       "    <tr>\n",
       "      <td>edad</td>\n",
       "      <td>0.030324</td>\n",
       "      <td>1.000000</td>\n",
       "      <td>-0.425247</td>\n",
       "      <td>0.019623</td>\n",
       "      <td>0.037253</td>\n",
       "      <td>0.016956</td>\n",
       "      <td>0.058223</td>\n",
       "      <td>0.002571</td>\n",
       "      <td>0.055303</td>\n",
       "      <td>0.003980</td>\n",
       "      <td>...</td>\n",
       "      <td>0.040383</td>\n",
       "      <td>-0.014051</td>\n",
       "      <td>0.005243</td>\n",
       "      <td>0.053640</td>\n",
       "      <td>0.036606</td>\n",
       "      <td>0.034102</td>\n",
       "      <td>0.005519</td>\n",
       "      <td>0.031480</td>\n",
       "      <td>0.024377</td>\n",
       "      <td>-0.016057</td>\n",
       "    </tr>\n",
       "    <tr>\n",
       "      <td>estadocivil</td>\n",
       "      <td>-0.098352</td>\n",
       "      <td>-0.425247</td>\n",
       "      <td>1.000000</td>\n",
       "      <td>-0.001551</td>\n",
       "      <td>-0.052644</td>\n",
       "      <td>-0.043284</td>\n",
       "      <td>-0.027042</td>\n",
       "      <td>0.002046</td>\n",
       "      <td>-0.034562</td>\n",
       "      <td>-0.011298</td>\n",
       "      <td>...</td>\n",
       "      <td>-0.068190</td>\n",
       "      <td>-0.018761</td>\n",
       "      <td>-0.001102</td>\n",
       "      <td>-0.019259</td>\n",
       "      <td>-0.012669</td>\n",
       "      <td>-0.015685</td>\n",
       "      <td>-0.003135</td>\n",
       "      <td>-0.013499</td>\n",
       "      <td>-0.009843</td>\n",
       "      <td>0.008146</td>\n",
       "    </tr>\n",
       "    <tr>\n",
       "      <td>departamento</td>\n",
       "      <td>-0.020280</td>\n",
       "      <td>0.019623</td>\n",
       "      <td>-0.001551</td>\n",
       "      <td>1.000000</td>\n",
       "      <td>0.034084</td>\n",
       "      <td>0.033889</td>\n",
       "      <td>-0.002019</td>\n",
       "      <td>0.000073</td>\n",
       "      <td>-0.008769</td>\n",
       "      <td>0.006398</td>\n",
       "      <td>...</td>\n",
       "      <td>0.049957</td>\n",
       "      <td>0.038268</td>\n",
       "      <td>0.014039</td>\n",
       "      <td>0.006801</td>\n",
       "      <td>0.006088</td>\n",
       "      <td>0.006872</td>\n",
       "      <td>0.000232</td>\n",
       "      <td>0.006251</td>\n",
       "      <td>0.006712</td>\n",
       "      <td>-0.008832</td>\n",
       "    </tr>\n",
       "    <tr>\n",
       "      <td>s_fin_estab</td>\n",
       "      <td>-0.021138</td>\n",
       "      <td>0.037253</td>\n",
       "      <td>-0.052644</td>\n",
       "      <td>0.034084</td>\n",
       "      <td>1.000000</td>\n",
       "      <td>0.063898</td>\n",
       "      <td>-0.003720</td>\n",
       "      <td>-0.016165</td>\n",
       "      <td>0.004721</td>\n",
       "      <td>0.036390</td>\n",
       "      <td>...</td>\n",
       "      <td>0.441105</td>\n",
       "      <td>0.172513</td>\n",
       "      <td>0.012222</td>\n",
       "      <td>0.019006</td>\n",
       "      <td>0.022311</td>\n",
       "      <td>0.026356</td>\n",
       "      <td>0.008649</td>\n",
       "      <td>0.038136</td>\n",
       "      <td>0.032678</td>\n",
       "      <td>-0.016579</td>\n",
       "    </tr>\n",
       "    <tr>\n",
       "      <td>s_rev_estab</td>\n",
       "      <td>0.026577</td>\n",
       "      <td>0.016956</td>\n",
       "      <td>-0.043284</td>\n",
       "      <td>0.033889</td>\n",
       "      <td>0.063898</td>\n",
       "      <td>1.000000</td>\n",
       "      <td>0.007088</td>\n",
       "      <td>0.103977</td>\n",
       "      <td>-0.014112</td>\n",
       "      <td>0.057277</td>\n",
       "      <td>...</td>\n",
       "      <td>0.429370</td>\n",
       "      <td>0.337874</td>\n",
       "      <td>0.010194</td>\n",
       "      <td>0.002981</td>\n",
       "      <td>-0.007625</td>\n",
       "      <td>-0.008100</td>\n",
       "      <td>-0.064313</td>\n",
       "      <td>-0.020772</td>\n",
       "      <td>-0.036494</td>\n",
       "      <td>0.026315</td>\n",
       "    </tr>\n",
       "    <tr>\n",
       "      <td>s_fin_atm</td>\n",
       "      <td>0.046595</td>\n",
       "      <td>0.058223</td>\n",
       "      <td>-0.027042</td>\n",
       "      <td>-0.002019</td>\n",
       "      <td>-0.003720</td>\n",
       "      <td>0.007088</td>\n",
       "      <td>1.000000</td>\n",
       "      <td>0.009947</td>\n",
       "      <td>0.098672</td>\n",
       "      <td>0.033312</td>\n",
       "      <td>...</td>\n",
       "      <td>-0.013927</td>\n",
       "      <td>-0.025330</td>\n",
       "      <td>-0.011566</td>\n",
       "      <td>-0.026540</td>\n",
       "      <td>-0.020834</td>\n",
       "      <td>-0.014897</td>\n",
       "      <td>-0.036634</td>\n",
       "      <td>-0.012323</td>\n",
       "      <td>-0.014840</td>\n",
       "      <td>0.087595</td>\n",
       "    </tr>\n",
       "    <tr>\n",
       "      <td>s_rev_atm</td>\n",
       "      <td>0.003979</td>\n",
       "      <td>0.002571</td>\n",
       "      <td>0.002046</td>\n",
       "      <td>0.000073</td>\n",
       "      <td>-0.016165</td>\n",
       "      <td>0.103977</td>\n",
       "      <td>0.009947</td>\n",
       "      <td>1.000000</td>\n",
       "      <td>-0.002125</td>\n",
       "      <td>-0.010410</td>\n",
       "      <td>...</td>\n",
       "      <td>0.043819</td>\n",
       "      <td>0.001289</td>\n",
       "      <td>0.000543</td>\n",
       "      <td>-0.009285</td>\n",
       "      <td>-0.009085</td>\n",
       "      <td>-0.010948</td>\n",
       "      <td>-0.013836</td>\n",
       "      <td>-0.007751</td>\n",
       "      <td>-0.007613</td>\n",
       "      <td>0.023884</td>\n",
       "    </tr>\n",
       "    <tr>\n",
       "      <td>saldo_lp</td>\n",
       "      <td>0.069233</td>\n",
       "      <td>0.055303</td>\n",
       "      <td>-0.034562</td>\n",
       "      <td>-0.008769</td>\n",
       "      <td>0.004721</td>\n",
       "      <td>-0.014112</td>\n",
       "      <td>0.098672</td>\n",
       "      <td>-0.002125</td>\n",
       "      <td>1.000000</td>\n",
       "      <td>0.020264</td>\n",
       "      <td>...</td>\n",
       "      <td>0.009795</td>\n",
       "      <td>-0.012050</td>\n",
       "      <td>-0.012527</td>\n",
       "      <td>0.029039</td>\n",
       "      <td>0.029875</td>\n",
       "      <td>0.028063</td>\n",
       "      <td>0.040180</td>\n",
       "      <td>0.031497</td>\n",
       "      <td>0.034871</td>\n",
       "      <td>0.002251</td>\n",
       "    </tr>\n",
       "    <tr>\n",
       "      <td>saldo_mora</td>\n",
       "      <td>0.006585</td>\n",
       "      <td>0.003980</td>\n",
       "      <td>-0.011298</td>\n",
       "      <td>0.006398</td>\n",
       "      <td>0.036390</td>\n",
       "      <td>0.057277</td>\n",
       "      <td>0.033312</td>\n",
       "      <td>-0.010410</td>\n",
       "      <td>0.020264</td>\n",
       "      <td>1.000000</td>\n",
       "      <td>...</td>\n",
       "      <td>0.036536</td>\n",
       "      <td>0.013088</td>\n",
       "      <td>0.009417</td>\n",
       "      <td>-0.001708</td>\n",
       "      <td>-0.007500</td>\n",
       "      <td>-0.001031</td>\n",
       "      <td>-0.073223</td>\n",
       "      <td>-0.018332</td>\n",
       "      <td>-0.013971</td>\n",
       "      <td>0.049194</td>\n",
       "    </tr>\n",
       "    <tr>\n",
       "      <td>saldo_exceso</td>\n",
       "      <td>NaN</td>\n",
       "      <td>NaN</td>\n",
       "      <td>NaN</td>\n",
       "      <td>NaN</td>\n",
       "      <td>NaN</td>\n",
       "      <td>NaN</td>\n",
       "      <td>NaN</td>\n",
       "      <td>NaN</td>\n",
       "      <td>NaN</td>\n",
       "      <td>NaN</td>\n",
       "      <td>...</td>\n",
       "      <td>NaN</td>\n",
       "      <td>NaN</td>\n",
       "      <td>NaN</td>\n",
       "      <td>NaN</td>\n",
       "      <td>NaN</td>\n",
       "      <td>NaN</td>\n",
       "      <td>NaN</td>\n",
       "      <td>NaN</td>\n",
       "      <td>NaN</td>\n",
       "      <td>NaN</td>\n",
       "    </tr>\n",
       "    <tr>\n",
       "      <td>DiasMora201906</td>\n",
       "      <td>-0.000033</td>\n",
       "      <td>0.001624</td>\n",
       "      <td>-0.002237</td>\n",
       "      <td>0.003781</td>\n",
       "      <td>-0.012883</td>\n",
       "      <td>0.042551</td>\n",
       "      <td>0.013097</td>\n",
       "      <td>0.004558</td>\n",
       "      <td>-0.008468</td>\n",
       "      <td>0.495804</td>\n",
       "      <td>...</td>\n",
       "      <td>-0.003658</td>\n",
       "      <td>-0.010605</td>\n",
       "      <td>0.009346</td>\n",
       "      <td>-0.026806</td>\n",
       "      <td>-0.042862</td>\n",
       "      <td>-0.030271</td>\n",
       "      <td>-0.148539</td>\n",
       "      <td>-0.054052</td>\n",
       "      <td>-0.039809</td>\n",
       "      <td>0.102565</td>\n",
       "    </tr>\n",
       "    <tr>\n",
       "      <td>estado</td>\n",
       "      <td>-0.001919</td>\n",
       "      <td>-0.003057</td>\n",
       "      <td>0.000925</td>\n",
       "      <td>-0.006103</td>\n",
       "      <td>-0.002585</td>\n",
       "      <td>0.019365</td>\n",
       "      <td>-0.004330</td>\n",
       "      <td>-0.002378</td>\n",
       "      <td>-0.001449</td>\n",
       "      <td>-0.001028</td>\n",
       "      <td>...</td>\n",
       "      <td>0.000264</td>\n",
       "      <td>0.006568</td>\n",
       "      <td>0.001112</td>\n",
       "      <td>0.010058</td>\n",
       "      <td>0.010953</td>\n",
       "      <td>0.012400</td>\n",
       "      <td>-0.001145</td>\n",
       "      <td>0.005974</td>\n",
       "      <td>-0.012615</td>\n",
       "      <td>0.007918</td>\n",
       "    </tr>\n",
       "    <tr>\n",
       "      <td>nombre_producto</td>\n",
       "      <td>0.041289</td>\n",
       "      <td>-0.030201</td>\n",
       "      <td>-0.032214</td>\n",
       "      <td>0.024724</td>\n",
       "      <td>0.118064</td>\n",
       "      <td>0.103385</td>\n",
       "      <td>0.112742</td>\n",
       "      <td>0.004340</td>\n",
       "      <td>0.055126</td>\n",
       "      <td>0.013938</td>\n",
       "      <td>...</td>\n",
       "      <td>0.132869</td>\n",
       "      <td>0.085585</td>\n",
       "      <td>-0.007690</td>\n",
       "      <td>-0.134200</td>\n",
       "      <td>-0.106371</td>\n",
       "      <td>-0.091785</td>\n",
       "      <td>0.016365</td>\n",
       "      <td>-0.063303</td>\n",
       "      <td>-0.034557</td>\n",
       "      <td>-0.033936</td>\n",
       "    </tr>\n",
       "    <tr>\n",
       "      <td>linea_credito_usd</td>\n",
       "      <td>0.110374</td>\n",
       "      <td>0.174641</td>\n",
       "      <td>-0.128342</td>\n",
       "      <td>0.047123</td>\n",
       "      <td>0.217226</td>\n",
       "      <td>0.153971</td>\n",
       "      <td>0.208552</td>\n",
       "      <td>0.000692</td>\n",
       "      <td>0.147875</td>\n",
       "      <td>0.018143</td>\n",
       "      <td>...</td>\n",
       "      <td>0.287864</td>\n",
       "      <td>0.156582</td>\n",
       "      <td>0.006893</td>\n",
       "      <td>0.046455</td>\n",
       "      <td>0.046212</td>\n",
       "      <td>0.043081</td>\n",
       "      <td>0.074276</td>\n",
       "      <td>0.057998</td>\n",
       "      <td>0.061156</td>\n",
       "      <td>-0.085720</td>\n",
       "    </tr>\n",
       "    <tr>\n",
       "      <td>linea_credito_soles</td>\n",
       "      <td>0.110374</td>\n",
       "      <td>0.174641</td>\n",
       "      <td>-0.128342</td>\n",
       "      <td>0.047123</td>\n",
       "      <td>0.217226</td>\n",
       "      <td>0.153971</td>\n",
       "      <td>0.208552</td>\n",
       "      <td>0.000692</td>\n",
       "      <td>0.147875</td>\n",
       "      <td>0.018143</td>\n",
       "      <td>...</td>\n",
       "      <td>0.287864</td>\n",
       "      <td>0.156582</td>\n",
       "      <td>0.006893</td>\n",
       "      <td>0.046455</td>\n",
       "      <td>0.046212</td>\n",
       "      <td>0.043081</td>\n",
       "      <td>0.074276</td>\n",
       "      <td>0.057998</td>\n",
       "      <td>0.061156</td>\n",
       "      <td>-0.085720</td>\n",
       "    </tr>\n",
       "    <tr>\n",
       "      <td>flg_situacionlaboral_oscar</td>\n",
       "      <td>-0.030286</td>\n",
       "      <td>0.084303</td>\n",
       "      <td>-0.062928</td>\n",
       "      <td>0.010501</td>\n",
       "      <td>-0.019533</td>\n",
       "      <td>-0.004811</td>\n",
       "      <td>0.005428</td>\n",
       "      <td>0.002048</td>\n",
       "      <td>0.004789</td>\n",
       "      <td>0.004672</td>\n",
       "      <td>...</td>\n",
       "      <td>-0.021943</td>\n",
       "      <td>-0.013961</td>\n",
       "      <td>0.263320</td>\n",
       "      <td>0.004278</td>\n",
       "      <td>0.002481</td>\n",
       "      <td>0.005540</td>\n",
       "      <td>-0.010754</td>\n",
       "      <td>0.005213</td>\n",
       "      <td>0.003665</td>\n",
       "      <td>0.054071</td>\n",
       "    </tr>\n",
       "    <tr>\n",
       "      <td>porc_uso_linea</td>\n",
       "      <td>-0.023234</td>\n",
       "      <td>-0.019675</td>\n",
       "      <td>0.007609</td>\n",
       "      <td>0.008254</td>\n",
       "      <td>0.262476</td>\n",
       "      <td>0.259848</td>\n",
       "      <td>0.320835</td>\n",
       "      <td>0.062785</td>\n",
       "      <td>-0.063512</td>\n",
       "      <td>0.077580</td>\n",
       "      <td>...</td>\n",
       "      <td>0.110260</td>\n",
       "      <td>0.075743</td>\n",
       "      <td>0.003943</td>\n",
       "      <td>-0.066848</td>\n",
       "      <td>-0.064962</td>\n",
       "      <td>-0.056548</td>\n",
       "      <td>-0.125040</td>\n",
       "      <td>-0.056294</td>\n",
       "      <td>-0.072546</td>\n",
       "      <td>0.154459</td>\n",
       "    </tr>\n",
       "    <tr>\n",
       "      <td>flg_ppd</td>\n",
       "      <td>-0.061626</td>\n",
       "      <td>-0.066351</td>\n",
       "      <td>0.031406</td>\n",
       "      <td>0.016359</td>\n",
       "      <td>0.028793</td>\n",
       "      <td>0.039425</td>\n",
       "      <td>-0.080503</td>\n",
       "      <td>0.004496</td>\n",
       "      <td>-0.684631</td>\n",
       "      <td>-0.018199</td>\n",
       "      <td>...</td>\n",
       "      <td>0.029748</td>\n",
       "      <td>0.028726</td>\n",
       "      <td>0.007701</td>\n",
       "      <td>-0.079609</td>\n",
       "      <td>-0.078676</td>\n",
       "      <td>-0.071154</td>\n",
       "      <td>-0.051707</td>\n",
       "      <td>-0.067926</td>\n",
       "      <td>-0.065712</td>\n",
       "      <td>-0.005937</td>\n",
       "    </tr>\n",
       "    <tr>\n",
       "      <td>flg_usodisef</td>\n",
       "      <td>-0.034642</td>\n",
       "      <td>-0.044035</td>\n",
       "      <td>0.008696</td>\n",
       "      <td>0.004724</td>\n",
       "      <td>0.069424</td>\n",
       "      <td>0.000321</td>\n",
       "      <td>-0.379769</td>\n",
       "      <td>-0.032077</td>\n",
       "      <td>-0.083632</td>\n",
       "      <td>-0.024534</td>\n",
       "      <td>...</td>\n",
       "      <td>0.022872</td>\n",
       "      <td>0.020365</td>\n",
       "      <td>0.007648</td>\n",
       "      <td>-0.022657</td>\n",
       "      <td>-0.026420</td>\n",
       "      <td>-0.027074</td>\n",
       "      <td>0.045475</td>\n",
       "      <td>-0.012651</td>\n",
       "      <td>0.000463</td>\n",
       "      <td>-0.087129</td>\n",
       "    </tr>\n",
       "    <tr>\n",
       "      <td>zona_apein</td>\n",
       "      <td>-0.051992</td>\n",
       "      <td>0.076856</td>\n",
       "      <td>-0.038302</td>\n",
       "      <td>0.447014</td>\n",
       "      <td>0.076206</td>\n",
       "      <td>0.089204</td>\n",
       "      <td>-0.017793</td>\n",
       "      <td>0.002092</td>\n",
       "      <td>-0.016967</td>\n",
       "      <td>0.006770</td>\n",
       "      <td>...</td>\n",
       "      <td>0.132641</td>\n",
       "      <td>0.117549</td>\n",
       "      <td>0.027583</td>\n",
       "      <td>0.067282</td>\n",
       "      <td>0.060529</td>\n",
       "      <td>0.059010</td>\n",
       "      <td>0.029302</td>\n",
       "      <td>0.051838</td>\n",
       "      <td>0.044550</td>\n",
       "      <td>-0.039960</td>\n",
       "    </tr>\n",
       "    <tr>\n",
       "      <td>maxlinea_bench</td>\n",
       "      <td>0.120046</td>\n",
       "      <td>0.198049</td>\n",
       "      <td>-0.139432</td>\n",
       "      <td>0.047555</td>\n",
       "      <td>0.154653</td>\n",
       "      <td>0.114885</td>\n",
       "      <td>0.182068</td>\n",
       "      <td>0.003289</td>\n",
       "      <td>0.147305</td>\n",
       "      <td>0.012389</td>\n",
       "      <td>...</td>\n",
       "      <td>0.200369</td>\n",
       "      <td>0.079751</td>\n",
       "      <td>0.024502</td>\n",
       "      <td>0.062176</td>\n",
       "      <td>0.052808</td>\n",
       "      <td>0.046626</td>\n",
       "      <td>0.035500</td>\n",
       "      <td>0.044191</td>\n",
       "      <td>0.032940</td>\n",
       "      <td>-0.056200</td>\n",
       "    </tr>\n",
       "    <tr>\n",
       "      <td>flagscastigado</td>\n",
       "      <td>0.001534</td>\n",
       "      <td>0.012512</td>\n",
       "      <td>-0.005640</td>\n",
       "      <td>-0.000942</td>\n",
       "      <td>-0.013227</td>\n",
       "      <td>0.019723</td>\n",
       "      <td>-0.014521</td>\n",
       "      <td>0.004230</td>\n",
       "      <td>-0.018358</td>\n",
       "      <td>0.005848</td>\n",
       "      <td>...</td>\n",
       "      <td>-0.011074</td>\n",
       "      <td>0.013666</td>\n",
       "      <td>0.003302</td>\n",
       "      <td>0.011744</td>\n",
       "      <td>0.006362</td>\n",
       "      <td>0.001299</td>\n",
       "      <td>-0.035269</td>\n",
       "      <td>-0.007894</td>\n",
       "      <td>-0.004770</td>\n",
       "      <td>0.060417</td>\n",
       "    </tr>\n",
       "    <tr>\n",
       "      <td>flagrefinanciado</td>\n",
       "      <td>0.002606</td>\n",
       "      <td>0.006572</td>\n",
       "      <td>0.000284</td>\n",
       "      <td>-0.002035</td>\n",
       "      <td>-0.004877</td>\n",
       "      <td>0.032031</td>\n",
       "      <td>-0.005256</td>\n",
       "      <td>0.011445</td>\n",
       "      <td>-0.015130</td>\n",
       "      <td>0.008994</td>\n",
       "      <td>...</td>\n",
       "      <td>-0.008000</td>\n",
       "      <td>0.008256</td>\n",
       "      <td>-0.001029</td>\n",
       "      <td>-0.000903</td>\n",
       "      <td>-0.004107</td>\n",
       "      <td>-0.003622</td>\n",
       "      <td>-0.035751</td>\n",
       "      <td>-0.013606</td>\n",
       "      <td>-0.016799</td>\n",
       "      <td>0.050790</td>\n",
       "    </tr>\n",
       "    <tr>\n",
       "      <td>flagpld</td>\n",
       "      <td>0.032414</td>\n",
       "      <td>-0.025990</td>\n",
       "      <td>0.009631</td>\n",
       "      <td>-0.020872</td>\n",
       "      <td>0.011716</td>\n",
       "      <td>0.026099</td>\n",
       "      <td>0.089889</td>\n",
       "      <td>0.007110</td>\n",
       "      <td>0.025817</td>\n",
       "      <td>0.014664</td>\n",
       "      <td>...</td>\n",
       "      <td>-0.025872</td>\n",
       "      <td>-0.025685</td>\n",
       "      <td>-0.021609</td>\n",
       "      <td>-0.041561</td>\n",
       "      <td>-0.040065</td>\n",
       "      <td>-0.037276</td>\n",
       "      <td>-0.050190</td>\n",
       "      <td>-0.037803</td>\n",
       "      <td>-0.041378</td>\n",
       "      <td>0.060625</td>\n",
       "    </tr>\n",
       "    <tr>\n",
       "      <td>flagdiseftcexterno</td>\n",
       "      <td>0.024027</td>\n",
       "      <td>0.074656</td>\n",
       "      <td>-0.021258</td>\n",
       "      <td>-0.032838</td>\n",
       "      <td>-0.021585</td>\n",
       "      <td>0.005449</td>\n",
       "      <td>0.175055</td>\n",
       "      <td>0.033729</td>\n",
       "      <td>0.045779</td>\n",
       "      <td>0.025838</td>\n",
       "      <td>...</td>\n",
       "      <td>-0.076742</td>\n",
       "      <td>-0.064200</td>\n",
       "      <td>-0.000558</td>\n",
       "      <td>-0.026622</td>\n",
       "      <td>-0.029068</td>\n",
       "      <td>-0.027997</td>\n",
       "      <td>-0.068194</td>\n",
       "      <td>-0.032100</td>\n",
       "      <td>-0.037462</td>\n",
       "      <td>0.105598</td>\n",
       "    </tr>\n",
       "    <tr>\n",
       "      <td>FLGRCC</td>\n",
       "      <td>0.018522</td>\n",
       "      <td>-0.075972</td>\n",
       "      <td>0.025273</td>\n",
       "      <td>-0.004248</td>\n",
       "      <td>0.039579</td>\n",
       "      <td>0.179587</td>\n",
       "      <td>0.172104</td>\n",
       "      <td>0.036166</td>\n",
       "      <td>-0.006209</td>\n",
       "      <td>0.047066</td>\n",
       "      <td>...</td>\n",
       "      <td>0.031414</td>\n",
       "      <td>0.022118</td>\n",
       "      <td>0.006328</td>\n",
       "      <td>-0.055410</td>\n",
       "      <td>-0.059752</td>\n",
       "      <td>-0.057754</td>\n",
       "      <td>-0.114202</td>\n",
       "      <td>-0.066597</td>\n",
       "      <td>-0.073969</td>\n",
       "      <td>0.158114</td>\n",
       "    </tr>\n",
       "    <tr>\n",
       "      <td>segmentoNSE</td>\n",
       "      <td>-0.062236</td>\n",
       "      <td>-0.186964</td>\n",
       "      <td>0.115441</td>\n",
       "      <td>-0.035580</td>\n",
       "      <td>-0.130018</td>\n",
       "      <td>-0.076880</td>\n",
       "      <td>-0.124767</td>\n",
       "      <td>0.002109</td>\n",
       "      <td>-0.108826</td>\n",
       "      <td>-0.011949</td>\n",
       "      <td>...</td>\n",
       "      <td>-0.158539</td>\n",
       "      <td>-0.053134</td>\n",
       "      <td>-0.023256</td>\n",
       "      <td>-0.083197</td>\n",
       "      <td>-0.077393</td>\n",
       "      <td>-0.071447</td>\n",
       "      <td>-0.054998</td>\n",
       "      <td>-0.067932</td>\n",
       "      <td>-0.053462</td>\n",
       "      <td>0.075748</td>\n",
       "    </tr>\n",
       "    <tr>\n",
       "      <td>ConsumoAnual201806_201906</td>\n",
       "      <td>0.006230</td>\n",
       "      <td>0.040383</td>\n",
       "      <td>-0.068190</td>\n",
       "      <td>0.049957</td>\n",
       "      <td>0.441105</td>\n",
       "      <td>0.429370</td>\n",
       "      <td>-0.013927</td>\n",
       "      <td>0.043819</td>\n",
       "      <td>0.009795</td>\n",
       "      <td>0.036536</td>\n",
       "      <td>...</td>\n",
       "      <td>1.000000</td>\n",
       "      <td>0.664518</td>\n",
       "      <td>0.021849</td>\n",
       "      <td>0.236192</td>\n",
       "      <td>0.224549</td>\n",
       "      <td>0.211225</td>\n",
       "      <td>0.082307</td>\n",
       "      <td>0.186398</td>\n",
       "      <td>0.150588</td>\n",
       "      <td>-0.053796</td>\n",
       "    </tr>\n",
       "    <tr>\n",
       "      <td>NroTransaccionAnual201806_201906</td>\n",
       "      <td>0.000713</td>\n",
       "      <td>-0.014051</td>\n",
       "      <td>-0.018761</td>\n",
       "      <td>0.038268</td>\n",
       "      <td>0.172513</td>\n",
       "      <td>0.337874</td>\n",
       "      <td>-0.025330</td>\n",
       "      <td>0.001289</td>\n",
       "      <td>-0.012050</td>\n",
       "      <td>0.013088</td>\n",
       "      <td>...</td>\n",
       "      <td>0.664518</td>\n",
       "      <td>1.000000</td>\n",
       "      <td>0.007523</td>\n",
       "      <td>0.263464</td>\n",
       "      <td>0.244733</td>\n",
       "      <td>0.225841</td>\n",
       "      <td>0.079164</td>\n",
       "      <td>0.193155</td>\n",
       "      <td>0.152506</td>\n",
       "      <td>-0.050014</td>\n",
       "    </tr>\n",
       "    <tr>\n",
       "      <td>tipo_seguro</td>\n",
       "      <td>-0.029795</td>\n",
       "      <td>0.005243</td>\n",
       "      <td>-0.001102</td>\n",
       "      <td>0.014039</td>\n",
       "      <td>0.012222</td>\n",
       "      <td>0.010194</td>\n",
       "      <td>-0.011566</td>\n",
       "      <td>0.000543</td>\n",
       "      <td>-0.012527</td>\n",
       "      <td>0.009417</td>\n",
       "      <td>...</td>\n",
       "      <td>0.021849</td>\n",
       "      <td>0.007523</td>\n",
       "      <td>1.000000</td>\n",
       "      <td>0.017800</td>\n",
       "      <td>0.016916</td>\n",
       "      <td>0.016173</td>\n",
       "      <td>-0.001630</td>\n",
       "      <td>0.015912</td>\n",
       "      <td>0.007324</td>\n",
       "      <td>0.003783</td>\n",
       "    </tr>\n",
       "    <tr>\n",
       "      <td>HabitoPago201901</td>\n",
       "      <td>-0.009212</td>\n",
       "      <td>0.053640</td>\n",
       "      <td>-0.019259</td>\n",
       "      <td>0.006801</td>\n",
       "      <td>0.019006</td>\n",
       "      <td>0.002981</td>\n",
       "      <td>-0.026540</td>\n",
       "      <td>-0.009285</td>\n",
       "      <td>0.029039</td>\n",
       "      <td>-0.001708</td>\n",
       "      <td>...</td>\n",
       "      <td>0.236192</td>\n",
       "      <td>0.263464</td>\n",
       "      <td>0.017800</td>\n",
       "      <td>1.000000</td>\n",
       "      <td>0.706981</td>\n",
       "      <td>0.614593</td>\n",
       "      <td>0.206286</td>\n",
       "      <td>0.494399</td>\n",
       "      <td>0.379361</td>\n",
       "      <td>-0.080322</td>\n",
       "    </tr>\n",
       "    <tr>\n",
       "      <td>HabitoPago201902</td>\n",
       "      <td>-0.007662</td>\n",
       "      <td>0.036606</td>\n",
       "      <td>-0.012669</td>\n",
       "      <td>0.006088</td>\n",
       "      <td>0.022311</td>\n",
       "      <td>-0.007625</td>\n",
       "      <td>-0.020834</td>\n",
       "      <td>-0.009085</td>\n",
       "      <td>0.029875</td>\n",
       "      <td>-0.007500</td>\n",
       "      <td>...</td>\n",
       "      <td>0.224549</td>\n",
       "      <td>0.244733</td>\n",
       "      <td>0.016916</td>\n",
       "      <td>0.706981</td>\n",
       "      <td>1.000000</td>\n",
       "      <td>0.677759</td>\n",
       "      <td>0.239562</td>\n",
       "      <td>0.549512</td>\n",
       "      <td>0.421559</td>\n",
       "      <td>-0.093727</td>\n",
       "    </tr>\n",
       "    <tr>\n",
       "      <td>HabitoPago201903</td>\n",
       "      <td>-0.007679</td>\n",
       "      <td>0.034102</td>\n",
       "      <td>-0.015685</td>\n",
       "      <td>0.006872</td>\n",
       "      <td>0.026356</td>\n",
       "      <td>-0.008100</td>\n",
       "      <td>-0.014897</td>\n",
       "      <td>-0.010948</td>\n",
       "      <td>0.028063</td>\n",
       "      <td>-0.001031</td>\n",
       "      <td>...</td>\n",
       "      <td>0.211225</td>\n",
       "      <td>0.225841</td>\n",
       "      <td>0.016173</td>\n",
       "      <td>0.614593</td>\n",
       "      <td>0.677759</td>\n",
       "      <td>1.000000</td>\n",
       "      <td>0.256795</td>\n",
       "      <td>0.618386</td>\n",
       "      <td>0.476899</td>\n",
       "      <td>-0.095250</td>\n",
       "    </tr>\n",
       "    <tr>\n",
       "      <td>HabitoPago201906</td>\n",
       "      <td>-0.002917</td>\n",
       "      <td>0.005519</td>\n",
       "      <td>-0.003135</td>\n",
       "      <td>0.000232</td>\n",
       "      <td>0.008649</td>\n",
       "      <td>-0.064313</td>\n",
       "      <td>-0.036634</td>\n",
       "      <td>-0.013836</td>\n",
       "      <td>0.040180</td>\n",
       "      <td>-0.073223</td>\n",
       "      <td>...</td>\n",
       "      <td>0.082307</td>\n",
       "      <td>0.079164</td>\n",
       "      <td>-0.001630</td>\n",
       "      <td>0.206286</td>\n",
       "      <td>0.239562</td>\n",
       "      <td>0.256795</td>\n",
       "      <td>1.000000</td>\n",
       "      <td>0.317875</td>\n",
       "      <td>0.365236</td>\n",
       "      <td>-0.204592</td>\n",
       "    </tr>\n",
       "    <tr>\n",
       "      <td>HabitoPago201904</td>\n",
       "      <td>-0.012082</td>\n",
       "      <td>0.031480</td>\n",
       "      <td>-0.013499</td>\n",
       "      <td>0.006251</td>\n",
       "      <td>0.038136</td>\n",
       "      <td>-0.020772</td>\n",
       "      <td>-0.012323</td>\n",
       "      <td>-0.007751</td>\n",
       "      <td>0.031497</td>\n",
       "      <td>-0.018332</td>\n",
       "      <td>...</td>\n",
       "      <td>0.186398</td>\n",
       "      <td>0.193155</td>\n",
       "      <td>0.015912</td>\n",
       "      <td>0.494399</td>\n",
       "      <td>0.549512</td>\n",
       "      <td>0.618386</td>\n",
       "      <td>0.317875</td>\n",
       "      <td>1.000000</td>\n",
       "      <td>0.558455</td>\n",
       "      <td>-0.111697</td>\n",
       "    </tr>\n",
       "    <tr>\n",
       "      <td>HabitoPago201905</td>\n",
       "      <td>-0.006684</td>\n",
       "      <td>0.024377</td>\n",
       "      <td>-0.009843</td>\n",
       "      <td>0.006712</td>\n",
       "      <td>0.032678</td>\n",
       "      <td>-0.036494</td>\n",
       "      <td>-0.014840</td>\n",
       "      <td>-0.007613</td>\n",
       "      <td>0.034871</td>\n",
       "      <td>-0.013971</td>\n",
       "      <td>...</td>\n",
       "      <td>0.150588</td>\n",
       "      <td>0.152506</td>\n",
       "      <td>0.007324</td>\n",
       "      <td>0.379361</td>\n",
       "      <td>0.421559</td>\n",
       "      <td>0.476899</td>\n",
       "      <td>0.365236</td>\n",
       "      <td>0.558455</td>\n",
       "      <td>1.000000</td>\n",
       "      <td>-0.093938</td>\n",
       "    </tr>\n",
       "    <tr>\n",
       "      <td>FlagCliente</td>\n",
       "      <td>0.027303</td>\n",
       "      <td>-0.016057</td>\n",
       "      <td>0.008146</td>\n",
       "      <td>-0.008832</td>\n",
       "      <td>-0.016579</td>\n",
       "      <td>0.026315</td>\n",
       "      <td>0.087595</td>\n",
       "      <td>0.023884</td>\n",
       "      <td>0.002251</td>\n",
       "      <td>0.049194</td>\n",
       "      <td>...</td>\n",
       "      <td>-0.053796</td>\n",
       "      <td>-0.050014</td>\n",
       "      <td>0.003783</td>\n",
       "      <td>-0.080322</td>\n",
       "      <td>-0.093727</td>\n",
       "      <td>-0.095250</td>\n",
       "      <td>-0.204592</td>\n",
       "      <td>-0.111697</td>\n",
       "      <td>-0.093938</td>\n",
       "      <td>1.000000</td>\n",
       "    </tr>\n",
       "  </tbody>\n",
       "</table>\n",
       "<p>38 rows × 38 columns</p>\n",
       "</div>"
      ],
      "text/plain": [
       "                                      sexo      edad  estadocivil  \\\n",
       "sexo                              1.000000  0.030324    -0.098352   \n",
       "edad                              0.030324  1.000000    -0.425247   \n",
       "estadocivil                      -0.098352 -0.425247     1.000000   \n",
       "departamento                     -0.020280  0.019623    -0.001551   \n",
       "s_fin_estab                      -0.021138  0.037253    -0.052644   \n",
       "s_rev_estab                       0.026577  0.016956    -0.043284   \n",
       "s_fin_atm                         0.046595  0.058223    -0.027042   \n",
       "s_rev_atm                         0.003979  0.002571     0.002046   \n",
       "saldo_lp                          0.069233  0.055303    -0.034562   \n",
       "saldo_mora                        0.006585  0.003980    -0.011298   \n",
       "saldo_exceso                           NaN       NaN          NaN   \n",
       "DiasMora201906                   -0.000033  0.001624    -0.002237   \n",
       "estado                           -0.001919 -0.003057     0.000925   \n",
       "nombre_producto                   0.041289 -0.030201    -0.032214   \n",
       "linea_credito_usd                 0.110374  0.174641    -0.128342   \n",
       "linea_credito_soles               0.110374  0.174641    -0.128342   \n",
       "flg_situacionlaboral_oscar       -0.030286  0.084303    -0.062928   \n",
       "porc_uso_linea                   -0.023234 -0.019675     0.007609   \n",
       "flg_ppd                          -0.061626 -0.066351     0.031406   \n",
       "flg_usodisef                     -0.034642 -0.044035     0.008696   \n",
       "zona_apein                       -0.051992  0.076856    -0.038302   \n",
       "maxlinea_bench                    0.120046  0.198049    -0.139432   \n",
       "flagscastigado                    0.001534  0.012512    -0.005640   \n",
       "flagrefinanciado                  0.002606  0.006572     0.000284   \n",
       "flagpld                           0.032414 -0.025990     0.009631   \n",
       "flagdiseftcexterno                0.024027  0.074656    -0.021258   \n",
       "FLGRCC                            0.018522 -0.075972     0.025273   \n",
       "segmentoNSE                      -0.062236 -0.186964     0.115441   \n",
       "ConsumoAnual201806_201906         0.006230  0.040383    -0.068190   \n",
       "NroTransaccionAnual201806_201906  0.000713 -0.014051    -0.018761   \n",
       "tipo_seguro                      -0.029795  0.005243    -0.001102   \n",
       "HabitoPago201901                 -0.009212  0.053640    -0.019259   \n",
       "HabitoPago201902                 -0.007662  0.036606    -0.012669   \n",
       "HabitoPago201903                 -0.007679  0.034102    -0.015685   \n",
       "HabitoPago201906                 -0.002917  0.005519    -0.003135   \n",
       "HabitoPago201904                 -0.012082  0.031480    -0.013499   \n",
       "HabitoPago201905                 -0.006684  0.024377    -0.009843   \n",
       "FlagCliente                       0.027303 -0.016057     0.008146   \n",
       "\n",
       "                                  departamento  s_fin_estab  s_rev_estab  \\\n",
       "sexo                                 -0.020280    -0.021138     0.026577   \n",
       "edad                                  0.019623     0.037253     0.016956   \n",
       "estadocivil                          -0.001551    -0.052644    -0.043284   \n",
       "departamento                          1.000000     0.034084     0.033889   \n",
       "s_fin_estab                           0.034084     1.000000     0.063898   \n",
       "s_rev_estab                           0.033889     0.063898     1.000000   \n",
       "s_fin_atm                            -0.002019    -0.003720     0.007088   \n",
       "s_rev_atm                             0.000073    -0.016165     0.103977   \n",
       "saldo_lp                             -0.008769     0.004721    -0.014112   \n",
       "saldo_mora                            0.006398     0.036390     0.057277   \n",
       "saldo_exceso                               NaN          NaN          NaN   \n",
       "DiasMora201906                        0.003781    -0.012883     0.042551   \n",
       "estado                               -0.006103    -0.002585     0.019365   \n",
       "nombre_producto                       0.024724     0.118064     0.103385   \n",
       "linea_credito_usd                     0.047123     0.217226     0.153971   \n",
       "linea_credito_soles                   0.047123     0.217226     0.153971   \n",
       "flg_situacionlaboral_oscar            0.010501    -0.019533    -0.004811   \n",
       "porc_uso_linea                        0.008254     0.262476     0.259848   \n",
       "flg_ppd                               0.016359     0.028793     0.039425   \n",
       "flg_usodisef                          0.004724     0.069424     0.000321   \n",
       "zona_apein                            0.447014     0.076206     0.089204   \n",
       "maxlinea_bench                        0.047555     0.154653     0.114885   \n",
       "flagscastigado                       -0.000942    -0.013227     0.019723   \n",
       "flagrefinanciado                     -0.002035    -0.004877     0.032031   \n",
       "flagpld                              -0.020872     0.011716     0.026099   \n",
       "flagdiseftcexterno                   -0.032838    -0.021585     0.005449   \n",
       "FLGRCC                               -0.004248     0.039579     0.179587   \n",
       "segmentoNSE                          -0.035580    -0.130018    -0.076880   \n",
       "ConsumoAnual201806_201906             0.049957     0.441105     0.429370   \n",
       "NroTransaccionAnual201806_201906      0.038268     0.172513     0.337874   \n",
       "tipo_seguro                           0.014039     0.012222     0.010194   \n",
       "HabitoPago201901                      0.006801     0.019006     0.002981   \n",
       "HabitoPago201902                      0.006088     0.022311    -0.007625   \n",
       "HabitoPago201903                      0.006872     0.026356    -0.008100   \n",
       "HabitoPago201906                      0.000232     0.008649    -0.064313   \n",
       "HabitoPago201904                      0.006251     0.038136    -0.020772   \n",
       "HabitoPago201905                      0.006712     0.032678    -0.036494   \n",
       "FlagCliente                          -0.008832    -0.016579     0.026315   \n",
       "\n",
       "                                  s_fin_atm  s_rev_atm  saldo_lp  saldo_mora  \\\n",
       "sexo                               0.046595   0.003979  0.069233    0.006585   \n",
       "edad                               0.058223   0.002571  0.055303    0.003980   \n",
       "estadocivil                       -0.027042   0.002046 -0.034562   -0.011298   \n",
       "departamento                      -0.002019   0.000073 -0.008769    0.006398   \n",
       "s_fin_estab                       -0.003720  -0.016165  0.004721    0.036390   \n",
       "s_rev_estab                        0.007088   0.103977 -0.014112    0.057277   \n",
       "s_fin_atm                          1.000000   0.009947  0.098672    0.033312   \n",
       "s_rev_atm                          0.009947   1.000000 -0.002125   -0.010410   \n",
       "saldo_lp                           0.098672  -0.002125  1.000000    0.020264   \n",
       "saldo_mora                         0.033312  -0.010410  0.020264    1.000000   \n",
       "saldo_exceso                            NaN        NaN       NaN         NaN   \n",
       "DiasMora201906                     0.013097   0.004558 -0.008468    0.495804   \n",
       "estado                            -0.004330  -0.002378 -0.001449   -0.001028   \n",
       "nombre_producto                    0.112742   0.004340  0.055126    0.013938   \n",
       "linea_credito_usd                  0.208552   0.000692  0.147875    0.018143   \n",
       "linea_credito_soles                0.208552   0.000692  0.147875    0.018143   \n",
       "flg_situacionlaboral_oscar         0.005428   0.002048  0.004789    0.004672   \n",
       "porc_uso_linea                     0.320835   0.062785 -0.063512    0.077580   \n",
       "flg_ppd                           -0.080503   0.004496 -0.684631   -0.018199   \n",
       "flg_usodisef                      -0.379769  -0.032077 -0.083632   -0.024534   \n",
       "zona_apein                        -0.017793   0.002092 -0.016967    0.006770   \n",
       "maxlinea_bench                     0.182068   0.003289  0.147305    0.012389   \n",
       "flagscastigado                    -0.014521   0.004230 -0.018358    0.005848   \n",
       "flagrefinanciado                  -0.005256   0.011445 -0.015130    0.008994   \n",
       "flagpld                            0.089889   0.007110  0.025817    0.014664   \n",
       "flagdiseftcexterno                 0.175055   0.033729  0.045779    0.025838   \n",
       "FLGRCC                             0.172104   0.036166 -0.006209    0.047066   \n",
       "segmentoNSE                       -0.124767   0.002109 -0.108826   -0.011949   \n",
       "ConsumoAnual201806_201906         -0.013927   0.043819  0.009795    0.036536   \n",
       "NroTransaccionAnual201806_201906  -0.025330   0.001289 -0.012050    0.013088   \n",
       "tipo_seguro                       -0.011566   0.000543 -0.012527    0.009417   \n",
       "HabitoPago201901                  -0.026540  -0.009285  0.029039   -0.001708   \n",
       "HabitoPago201902                  -0.020834  -0.009085  0.029875   -0.007500   \n",
       "HabitoPago201903                  -0.014897  -0.010948  0.028063   -0.001031   \n",
       "HabitoPago201906                  -0.036634  -0.013836  0.040180   -0.073223   \n",
       "HabitoPago201904                  -0.012323  -0.007751  0.031497   -0.018332   \n",
       "HabitoPago201905                  -0.014840  -0.007613  0.034871   -0.013971   \n",
       "FlagCliente                        0.087595   0.023884  0.002251    0.049194   \n",
       "\n",
       "                                  ...  ConsumoAnual201806_201906  \\\n",
       "sexo                              ...                   0.006230   \n",
       "edad                              ...                   0.040383   \n",
       "estadocivil                       ...                  -0.068190   \n",
       "departamento                      ...                   0.049957   \n",
       "s_fin_estab                       ...                   0.441105   \n",
       "s_rev_estab                       ...                   0.429370   \n",
       "s_fin_atm                         ...                  -0.013927   \n",
       "s_rev_atm                         ...                   0.043819   \n",
       "saldo_lp                          ...                   0.009795   \n",
       "saldo_mora                        ...                   0.036536   \n",
       "saldo_exceso                      ...                        NaN   \n",
       "DiasMora201906                    ...                  -0.003658   \n",
       "estado                            ...                   0.000264   \n",
       "nombre_producto                   ...                   0.132869   \n",
       "linea_credito_usd                 ...                   0.287864   \n",
       "linea_credito_soles               ...                   0.287864   \n",
       "flg_situacionlaboral_oscar        ...                  -0.021943   \n",
       "porc_uso_linea                    ...                   0.110260   \n",
       "flg_ppd                           ...                   0.029748   \n",
       "flg_usodisef                      ...                   0.022872   \n",
       "zona_apein                        ...                   0.132641   \n",
       "maxlinea_bench                    ...                   0.200369   \n",
       "flagscastigado                    ...                  -0.011074   \n",
       "flagrefinanciado                  ...                  -0.008000   \n",
       "flagpld                           ...                  -0.025872   \n",
       "flagdiseftcexterno                ...                  -0.076742   \n",
       "FLGRCC                            ...                   0.031414   \n",
       "segmentoNSE                       ...                  -0.158539   \n",
       "ConsumoAnual201806_201906         ...                   1.000000   \n",
       "NroTransaccionAnual201806_201906  ...                   0.664518   \n",
       "tipo_seguro                       ...                   0.021849   \n",
       "HabitoPago201901                  ...                   0.236192   \n",
       "HabitoPago201902                  ...                   0.224549   \n",
       "HabitoPago201903                  ...                   0.211225   \n",
       "HabitoPago201906                  ...                   0.082307   \n",
       "HabitoPago201904                  ...                   0.186398   \n",
       "HabitoPago201905                  ...                   0.150588   \n",
       "FlagCliente                       ...                  -0.053796   \n",
       "\n",
       "                                  NroTransaccionAnual201806_201906  \\\n",
       "sexo                                                      0.000713   \n",
       "edad                                                     -0.014051   \n",
       "estadocivil                                              -0.018761   \n",
       "departamento                                              0.038268   \n",
       "s_fin_estab                                               0.172513   \n",
       "s_rev_estab                                               0.337874   \n",
       "s_fin_atm                                                -0.025330   \n",
       "s_rev_atm                                                 0.001289   \n",
       "saldo_lp                                                 -0.012050   \n",
       "saldo_mora                                                0.013088   \n",
       "saldo_exceso                                                   NaN   \n",
       "DiasMora201906                                           -0.010605   \n",
       "estado                                                    0.006568   \n",
       "nombre_producto                                           0.085585   \n",
       "linea_credito_usd                                         0.156582   \n",
       "linea_credito_soles                                       0.156582   \n",
       "flg_situacionlaboral_oscar                               -0.013961   \n",
       "porc_uso_linea                                            0.075743   \n",
       "flg_ppd                                                   0.028726   \n",
       "flg_usodisef                                              0.020365   \n",
       "zona_apein                                                0.117549   \n",
       "maxlinea_bench                                            0.079751   \n",
       "flagscastigado                                            0.013666   \n",
       "flagrefinanciado                                          0.008256   \n",
       "flagpld                                                  -0.025685   \n",
       "flagdiseftcexterno                                       -0.064200   \n",
       "FLGRCC                                                    0.022118   \n",
       "segmentoNSE                                              -0.053134   \n",
       "ConsumoAnual201806_201906                                 0.664518   \n",
       "NroTransaccionAnual201806_201906                          1.000000   \n",
       "tipo_seguro                                               0.007523   \n",
       "HabitoPago201901                                          0.263464   \n",
       "HabitoPago201902                                          0.244733   \n",
       "HabitoPago201903                                          0.225841   \n",
       "HabitoPago201906                                          0.079164   \n",
       "HabitoPago201904                                          0.193155   \n",
       "HabitoPago201905                                          0.152506   \n",
       "FlagCliente                                              -0.050014   \n",
       "\n",
       "                                  tipo_seguro  HabitoPago201901  \\\n",
       "sexo                                -0.029795         -0.009212   \n",
       "edad                                 0.005243          0.053640   \n",
       "estadocivil                         -0.001102         -0.019259   \n",
       "departamento                         0.014039          0.006801   \n",
       "s_fin_estab                          0.012222          0.019006   \n",
       "s_rev_estab                          0.010194          0.002981   \n",
       "s_fin_atm                           -0.011566         -0.026540   \n",
       "s_rev_atm                            0.000543         -0.009285   \n",
       "saldo_lp                            -0.012527          0.029039   \n",
       "saldo_mora                           0.009417         -0.001708   \n",
       "saldo_exceso                              NaN               NaN   \n",
       "DiasMora201906                       0.009346         -0.026806   \n",
       "estado                               0.001112          0.010058   \n",
       "nombre_producto                     -0.007690         -0.134200   \n",
       "linea_credito_usd                    0.006893          0.046455   \n",
       "linea_credito_soles                  0.006893          0.046455   \n",
       "flg_situacionlaboral_oscar           0.263320          0.004278   \n",
       "porc_uso_linea                       0.003943         -0.066848   \n",
       "flg_ppd                              0.007701         -0.079609   \n",
       "flg_usodisef                         0.007648         -0.022657   \n",
       "zona_apein                           0.027583          0.067282   \n",
       "maxlinea_bench                       0.024502          0.062176   \n",
       "flagscastigado                       0.003302          0.011744   \n",
       "flagrefinanciado                    -0.001029         -0.000903   \n",
       "flagpld                             -0.021609         -0.041561   \n",
       "flagdiseftcexterno                  -0.000558         -0.026622   \n",
       "FLGRCC                               0.006328         -0.055410   \n",
       "segmentoNSE                         -0.023256         -0.083197   \n",
       "ConsumoAnual201806_201906            0.021849          0.236192   \n",
       "NroTransaccionAnual201806_201906     0.007523          0.263464   \n",
       "tipo_seguro                          1.000000          0.017800   \n",
       "HabitoPago201901                     0.017800          1.000000   \n",
       "HabitoPago201902                     0.016916          0.706981   \n",
       "HabitoPago201903                     0.016173          0.614593   \n",
       "HabitoPago201906                    -0.001630          0.206286   \n",
       "HabitoPago201904                     0.015912          0.494399   \n",
       "HabitoPago201905                     0.007324          0.379361   \n",
       "FlagCliente                          0.003783         -0.080322   \n",
       "\n",
       "                                  HabitoPago201902  HabitoPago201903  \\\n",
       "sexo                                     -0.007662         -0.007679   \n",
       "edad                                      0.036606          0.034102   \n",
       "estadocivil                              -0.012669         -0.015685   \n",
       "departamento                              0.006088          0.006872   \n",
       "s_fin_estab                               0.022311          0.026356   \n",
       "s_rev_estab                              -0.007625         -0.008100   \n",
       "s_fin_atm                                -0.020834         -0.014897   \n",
       "s_rev_atm                                -0.009085         -0.010948   \n",
       "saldo_lp                                  0.029875          0.028063   \n",
       "saldo_mora                               -0.007500         -0.001031   \n",
       "saldo_exceso                                   NaN               NaN   \n",
       "DiasMora201906                           -0.042862         -0.030271   \n",
       "estado                                    0.010953          0.012400   \n",
       "nombre_producto                          -0.106371         -0.091785   \n",
       "linea_credito_usd                         0.046212          0.043081   \n",
       "linea_credito_soles                       0.046212          0.043081   \n",
       "flg_situacionlaboral_oscar                0.002481          0.005540   \n",
       "porc_uso_linea                           -0.064962         -0.056548   \n",
       "flg_ppd                                  -0.078676         -0.071154   \n",
       "flg_usodisef                             -0.026420         -0.027074   \n",
       "zona_apein                                0.060529          0.059010   \n",
       "maxlinea_bench                            0.052808          0.046626   \n",
       "flagscastigado                            0.006362          0.001299   \n",
       "flagrefinanciado                         -0.004107         -0.003622   \n",
       "flagpld                                  -0.040065         -0.037276   \n",
       "flagdiseftcexterno                       -0.029068         -0.027997   \n",
       "FLGRCC                                   -0.059752         -0.057754   \n",
       "segmentoNSE                              -0.077393         -0.071447   \n",
       "ConsumoAnual201806_201906                 0.224549          0.211225   \n",
       "NroTransaccionAnual201806_201906          0.244733          0.225841   \n",
       "tipo_seguro                               0.016916          0.016173   \n",
       "HabitoPago201901                          0.706981          0.614593   \n",
       "HabitoPago201902                          1.000000          0.677759   \n",
       "HabitoPago201903                          0.677759          1.000000   \n",
       "HabitoPago201906                          0.239562          0.256795   \n",
       "HabitoPago201904                          0.549512          0.618386   \n",
       "HabitoPago201905                          0.421559          0.476899   \n",
       "FlagCliente                              -0.093727         -0.095250   \n",
       "\n",
       "                                  HabitoPago201906  HabitoPago201904  \\\n",
       "sexo                                     -0.002917         -0.012082   \n",
       "edad                                      0.005519          0.031480   \n",
       "estadocivil                              -0.003135         -0.013499   \n",
       "departamento                              0.000232          0.006251   \n",
       "s_fin_estab                               0.008649          0.038136   \n",
       "s_rev_estab                              -0.064313         -0.020772   \n",
       "s_fin_atm                                -0.036634         -0.012323   \n",
       "s_rev_atm                                -0.013836         -0.007751   \n",
       "saldo_lp                                  0.040180          0.031497   \n",
       "saldo_mora                               -0.073223         -0.018332   \n",
       "saldo_exceso                                   NaN               NaN   \n",
       "DiasMora201906                           -0.148539         -0.054052   \n",
       "estado                                   -0.001145          0.005974   \n",
       "nombre_producto                           0.016365         -0.063303   \n",
       "linea_credito_usd                         0.074276          0.057998   \n",
       "linea_credito_soles                       0.074276          0.057998   \n",
       "flg_situacionlaboral_oscar               -0.010754          0.005213   \n",
       "porc_uso_linea                           -0.125040         -0.056294   \n",
       "flg_ppd                                  -0.051707         -0.067926   \n",
       "flg_usodisef                              0.045475         -0.012651   \n",
       "zona_apein                                0.029302          0.051838   \n",
       "maxlinea_bench                            0.035500          0.044191   \n",
       "flagscastigado                           -0.035269         -0.007894   \n",
       "flagrefinanciado                         -0.035751         -0.013606   \n",
       "flagpld                                  -0.050190         -0.037803   \n",
       "flagdiseftcexterno                       -0.068194         -0.032100   \n",
       "FLGRCC                                   -0.114202         -0.066597   \n",
       "segmentoNSE                              -0.054998         -0.067932   \n",
       "ConsumoAnual201806_201906                 0.082307          0.186398   \n",
       "NroTransaccionAnual201806_201906          0.079164          0.193155   \n",
       "tipo_seguro                              -0.001630          0.015912   \n",
       "HabitoPago201901                          0.206286          0.494399   \n",
       "HabitoPago201902                          0.239562          0.549512   \n",
       "HabitoPago201903                          0.256795          0.618386   \n",
       "HabitoPago201906                          1.000000          0.317875   \n",
       "HabitoPago201904                          0.317875          1.000000   \n",
       "HabitoPago201905                          0.365236          0.558455   \n",
       "FlagCliente                              -0.204592         -0.111697   \n",
       "\n",
       "                                  HabitoPago201905  FlagCliente  \n",
       "sexo                                     -0.006684     0.027303  \n",
       "edad                                      0.024377    -0.016057  \n",
       "estadocivil                              -0.009843     0.008146  \n",
       "departamento                              0.006712    -0.008832  \n",
       "s_fin_estab                               0.032678    -0.016579  \n",
       "s_rev_estab                              -0.036494     0.026315  \n",
       "s_fin_atm                                -0.014840     0.087595  \n",
       "s_rev_atm                                -0.007613     0.023884  \n",
       "saldo_lp                                  0.034871     0.002251  \n",
       "saldo_mora                               -0.013971     0.049194  \n",
       "saldo_exceso                                   NaN          NaN  \n",
       "DiasMora201906                           -0.039809     0.102565  \n",
       "estado                                   -0.012615     0.007918  \n",
       "nombre_producto                          -0.034557    -0.033936  \n",
       "linea_credito_usd                         0.061156    -0.085720  \n",
       "linea_credito_soles                       0.061156    -0.085720  \n",
       "flg_situacionlaboral_oscar                0.003665     0.054071  \n",
       "porc_uso_linea                           -0.072546     0.154459  \n",
       "flg_ppd                                  -0.065712    -0.005937  \n",
       "flg_usodisef                              0.000463    -0.087129  \n",
       "zona_apein                                0.044550    -0.039960  \n",
       "maxlinea_bench                            0.032940    -0.056200  \n",
       "flagscastigado                           -0.004770     0.060417  \n",
       "flagrefinanciado                         -0.016799     0.050790  \n",
       "flagpld                                  -0.041378     0.060625  \n",
       "flagdiseftcexterno                       -0.037462     0.105598  \n",
       "FLGRCC                                   -0.073969     0.158114  \n",
       "segmentoNSE                              -0.053462     0.075748  \n",
       "ConsumoAnual201806_201906                 0.150588    -0.053796  \n",
       "NroTransaccionAnual201806_201906          0.152506    -0.050014  \n",
       "tipo_seguro                               0.007324     0.003783  \n",
       "HabitoPago201901                          0.379361    -0.080322  \n",
       "HabitoPago201902                          0.421559    -0.093727  \n",
       "HabitoPago201903                          0.476899    -0.095250  \n",
       "HabitoPago201906                          0.365236    -0.204592  \n",
       "HabitoPago201904                          0.558455    -0.111697  \n",
       "HabitoPago201905                          1.000000    -0.093938  \n",
       "FlagCliente                              -0.093938     1.000000  \n",
       "\n",
       "[38 rows x 38 columns]"
      ]
     },
     "execution_count": 952,
     "metadata": {},
     "output_type": "execute_result"
    }
   ],
   "source": [
    "df_matrix_num = data3.corr()\n",
    "#df_matrix_num.to_csv(\"correlation.csv\")\n",
    "df_matrix_num"
   ]
  },
  {
   "cell_type": "code",
   "execution_count": 953,
   "metadata": {},
   "outputs": [
    {
     "data": {
      "text/plain": [
       "array([['FlagCliente', 1.0],\n",
       "       ['FLGRCC', 0.15811391614748826],\n",
       "       ['porc_uso_linea', 0.1544586864350811],\n",
       "       ['flagdiseftcexterno', 0.10559816711170089],\n",
       "       ['DiasMora201906', 0.10256537368098202],\n",
       "       ['s_fin_atm', 0.08759511890030945],\n",
       "       ['segmentoNSE', 0.07574804112320237],\n",
       "       ['flagpld', 0.060624557014805375],\n",
       "       ['flagscastigado', 0.06041673926250767],\n",
       "       ['flg_situacionlaboral_oscar', 0.054071222930898305],\n",
       "       ['flagrefinanciado', 0.050789584211978614],\n",
       "       ['saldo_mora', 0.04919395397430701],\n",
       "       ['sexo', 0.027302854012389677],\n",
       "       ['s_rev_estab', 0.026314871933574815],\n",
       "       ['s_rev_atm', 0.023883712518359402],\n",
       "       ['estadocivil', 0.00814601894230787],\n",
       "       ['estado', 0.007918449333987458],\n",
       "       ['tipo_seguro', 0.0037833625376521222],\n",
       "       ['saldo_lp', 0.0022509220251354534],\n",
       "       ['flg_ppd', -0.005936971853794682],\n",
       "       ['departamento', -0.00883212211625237],\n",
       "       ['edad', -0.016057345160947745],\n",
       "       ['s_fin_estab', -0.01657853556400705],\n",
       "       ['nombre_producto', -0.03393635498751596],\n",
       "       ['zona_apein', -0.039960006511090454],\n",
       "       ['NroTransaccionAnual201806_201906', -0.05001368671686831],\n",
       "       ['ConsumoAnual201806_201906', -0.053795939370011744],\n",
       "       ['maxlinea_bench', -0.056199760172298226],\n",
       "       ['HabitoPago201901', -0.08032167806376808],\n",
       "       ['linea_credito_usd', -0.08572023159219928],\n",
       "       ['linea_credito_soles', -0.08572023159222923],\n",
       "       ['flg_usodisef', -0.0871291068676178],\n",
       "       ['HabitoPago201902', -0.09372658134662085],\n",
       "       ['HabitoPago201905', -0.09393791208783424],\n",
       "       ['HabitoPago201903', -0.09524955889346894],\n",
       "       ['HabitoPago201904', -0.1116966205575819],\n",
       "       ['HabitoPago201906', -0.2045924963669902],\n",
       "       ['saldo_exceso', nan]], dtype=object)"
      ]
     },
     "execution_count": 953,
     "metadata": {},
     "output_type": "execute_result"
    }
   ],
   "source": [
    "#Correlación de varaibles con el FlagCliente, evaluadas de manera independiente\n",
    "df_var_num=pd.DataFrame({'VARIABLES':data3.columns.values,'FlagCliente':df_matrix_num.FlagCliente}).sort_values(['FlagCliente'], ascending=[0])\n",
    "df_var_num.values"
   ]
  },
  {
   "cell_type": "markdown",
   "metadata": {},
   "source": [
    "### 5.2 Elimino variables redundantes con correlación > 95%"
   ]
  },
  {
   "cell_type": "code",
   "execution_count": 954,
   "metadata": {
    "scrolled": true
   },
   "outputs": [
    {
     "data": {
      "text/plain": [
       "['sexo',\n",
       " 'edad',\n",
       " 'estadocivil',\n",
       " 'departamento',\n",
       " 's_fin_estab',\n",
       " 's_rev_estab',\n",
       " 's_fin_atm',\n",
       " 's_rev_atm',\n",
       " 'saldo_lp',\n",
       " 'saldo_mora',\n",
       " 'saldo_exceso',\n",
       " 'DiasMora201906',\n",
       " 'estado',\n",
       " 'nombre_producto',\n",
       " 'linea_credito_usd',\n",
       " 'linea_credito_soles',\n",
       " 'flg_situacionlaboral_oscar',\n",
       " 'porc_uso_linea',\n",
       " 'flg_ppd',\n",
       " 'flg_usodisef',\n",
       " 'zona_apein',\n",
       " 'maxlinea_bench',\n",
       " 'flagscastigado',\n",
       " 'flagrefinanciado',\n",
       " 'flagpld',\n",
       " 'flagdiseftcexterno',\n",
       " 'FLGRCC',\n",
       " 'segmentoNSE',\n",
       " 'ConsumoAnual201806_201906',\n",
       " 'NroTransaccionAnual201806_201906',\n",
       " 'tipo_seguro',\n",
       " 'HabitoPago201901',\n",
       " 'HabitoPago201902',\n",
       " 'HabitoPago201903',\n",
       " 'HabitoPago201906',\n",
       " 'HabitoPago201904',\n",
       " 'HabitoPago201905',\n",
       " 'FlagCliente']"
      ]
     },
     "execution_count": 954,
     "metadata": {},
     "output_type": "execute_result"
    }
   ],
   "source": [
    "cols2 = data3.columns.to_list()\n",
    "#lista = [\"edad\",\"LineaCDolares201906\"]\n",
    "#for x in lista:\n",
    " #   cols2.remove(x)\n",
    "cols2"
   ]
  },
  {
   "cell_type": "markdown",
   "metadata": {},
   "source": [
    "## 5.3 Information Value\n",
    "#### El valor de la información es  útil para la selección de variables durante la construcción de modelos de clasificación binaria\n",
    "\n",
    "   #### Valor informativo - >\tPoder de predicción\n",
    "          <0.02\t Inútil para la predicción\n",
    "     0.02 a 0.1     Pronosticador débil\n",
    "      0.1 a 0.3     Predictor medio\n",
    "      0.3 a 0.5\t Fuerte predictor \n",
    "          > 0.5     Sospechoso o demasiado bueno para ser verdad"
   ]
  },
  {
   "cell_type": "code",
   "execution_count": 955,
   "metadata": {},
   "outputs": [
    {
     "name": "stdout",
     "output_type": "stream",
     "text": [
      "[INFO] filtering variables ...\n",
      "Variable filtering on 142451 rows and 38 columns in 00:03:18 \n",
      "10 variables are removed\n"
     ]
    }
   ],
   "source": [
    "import scorecardpy as sc\n",
    "df_data = data3.copy()\n",
    "df_filter = sc.var_filter(df_data, y=\"FlagCliente\")"
   ]
  },
  {
   "cell_type": "markdown",
   "metadata": {},
   "source": [
    "12 variables han sido removidas por tener un peso menor a 0.02"
   ]
  },
  {
   "cell_type": "code",
   "execution_count": 956,
   "metadata": {},
   "outputs": [
    {
     "data": {
      "text/plain": [
       "array([['s_fin_atm', 1.5794841886749775],\n",
       "       ['maxlinea_bench', 1.3972273210967674],\n",
       "       ['saldo_lp', 1.324182685267122],\n",
       "       ['s_rev_estab', 0.8928200445491301],\n",
       "       ['s_fin_estab', 0.7489473272855351],\n",
       "       ['porc_uso_linea', 0.613653202147418],\n",
       "       ['s_rev_atm', 0.5540653451287005],\n",
       "       ['HabitoPago201906', 0.5039102916248805],\n",
       "       ['FLGRCC', 0.3992855948956259],\n",
       "       ['linea_credito_usd', 0.3962852785578807],\n",
       "       ['linea_credito_soles', 0.39628527855787987],\n",
       "       ['ConsumoAnual201806_201906', 0.27004830456633805],\n",
       "       ['HabitoPago201904', 0.237660915984734],\n",
       "       ['NroTransaccionAnual201806_201906', 0.23444710628364815],\n",
       "       ['HabitoPago201903', 0.2019353272054811],\n",
       "       ['HabitoPago201905', 0.1992521569900066],\n",
       "       ['HabitoPago201902', 0.18317164526736285],\n",
       "       ['flagdiseftcexterno', 0.16645981431229512],\n",
       "       ['HabitoPago201901', 0.14864154707823257],\n",
       "       ['flg_usodisef', 0.11262466608170217],\n",
       "       ['segmentoNSE', 0.09427485161774926],\n",
       "       ['tipo_seguro', 0.07348560900828362],\n",
       "       ['nombre_producto', 0.06147747576109501],\n",
       "       ['flagpld', 0.05992500990179665],\n",
       "       ['zona_apein', 0.052814388976499975],\n",
       "       ['flg_situacionlaboral_oscar', 0.046679506372826814],\n",
       "       ['edad', 0.025882749036856723]], dtype=object)"
      ]
     },
     "execution_count": 956,
     "metadata": {},
     "output_type": "execute_result"
    }
   ],
   "source": [
    "# Obtener el information Value por cada variable para conocer la importancia\n",
    "dt_info_value = sc.iv(df_filter, y = \"FlagCliente\")\n",
    "#Se muestra el information value por cada variable en forma descendente\n",
    "dt_info_value.values"
   ]
  },
  {
   "cell_type": "code",
   "execution_count": 521,
   "metadata": {},
   "outputs": [
    {
     "data": {
      "text/plain": [
       "['FlagHabitoPago3M',\n",
       " 'FlagHabitoPago6M',\n",
       " 'HabitoPago201906',\n",
       " 'HabitoPago201905',\n",
       " 'HabitoPago201904',\n",
       " 'HabitoPago201903',\n",
       " 'SaldoTotal201906',\n",
       " 'HabitoPago201902',\n",
       " 'Flg_SBS201906',\n",
       " 'flg_Socio_CSI',\n",
       " 'HabitoPago201901',\n",
       " 'Flg_usoRCC201906',\n",
       " 'ConsumoAnual201806_201906',\n",
       " 'NroTransaccionAnual201806_201906',\n",
       " 'SEGMENTONSE',\n",
       " 'Cant_Adicionales_Entregadas',\n",
       " 'FlagDisefTcExterno',\n",
       " 'Flg_usoDisef201906',\n",
       " 'Nombre_Producto',\n",
       " 'tipo_seguro',\n",
       " 'FlgSituacionLaboral',\n",
       " 'FlagPLD',\n",
       " 'zona_apein']"
      ]
     },
     "execution_count": 521,
     "metadata": {},
     "output_type": "execute_result"
    }
   ],
   "source": [
    "dt_list = list()\n",
    "for i in  dt_info_value.values:\n",
    "    dt_list.append(i[0])\n",
    "dt_list"
   ]
  },
  {
   "cell_type": "code",
   "execution_count": 38,
   "metadata": {},
   "outputs": [],
   "source": [
    "dt_list2 = list()\n",
    "for i in  dt_info_value.values:\n",
    "    dt_list2.append(i[1])\n"
   ]
  },
  {
   "cell_type": "code",
   "execution_count": 95,
   "metadata": {},
   "outputs": [],
   "source": [
    "graf = {\"variable\":dt_list, \"peso\": dt_list2}\n",
    "grafE = pd.DataFrame(graf)\n",
    "grafE.to_excel(\"p.xlsx\")"
   ]
  },
  {
   "cell_type": "markdown",
   "metadata": {},
   "source": [
    "## Variables descartadas"
   ]
  },
  {
   "cell_type": "code",
   "execution_count": 594,
   "metadata": {},
   "outputs": [
    {
     "data": {
      "text/plain": [
       "['estadocivil', 'departamento', 'saldo_exceso', 'flg_ppd']"
      ]
     },
     "execution_count": 594,
     "metadata": {},
     "output_type": "execute_result"
    }
   ],
   "source": [
    "descarteBoruta"
   ]
  },
  {
   "cell_type": "code",
   "execution_count": 725,
   "metadata": {},
   "outputs": [
    {
     "data": {
      "text/plain": [
       "['sexo',\n",
       " 'edad',\n",
       " 'estadocivil',\n",
       " 'departamento',\n",
       " 's_fin_estab',\n",
       " 's_rev_estab',\n",
       " 's_fin_atm',\n",
       " 's_rev_atm',\n",
       " 'saldo_lp',\n",
       " 'saldo_mora',\n",
       " 'saldo_exceso',\n",
       " 'DiasMora201906',\n",
       " 'estado',\n",
       " 'nombre_producto',\n",
       " 'linea_credito_usd',\n",
       " 'linea_credito_soles',\n",
       " 'flg_situacionlaboral_oscar',\n",
       " 'porc_uso_linea',\n",
       " 'flg_ppd',\n",
       " 'flg_usodisef',\n",
       " 'maxlinea_bench',\n",
       " 'flagscastigado',\n",
       " 'flagrefinanciado',\n",
       " 'flagpld',\n",
       " 'flagdiseftcexterno',\n",
       " 'FLGRCC',\n",
       " 'segmentoNSE',\n",
       " 'FlagCliente']"
      ]
     },
     "execution_count": 725,
     "metadata": {},
     "output_type": "execute_result"
    }
   ],
   "source": [
    "descarteIV =[x for x in cols2 if x not in dt_list]\n",
    "descarteIV"
   ]
  },
  {
   "cell_type": "code",
   "execution_count": 957,
   "metadata": {},
   "outputs": [
    {
     "name": "stdout",
     "output_type": "stream",
     "text": [
      "['FLGRCC', 'linea_credito_usd', 'linea_credito_soles', 'ConsumoAnual201806_201906', 'HabitoPago201904', 'NroTransaccionAnual201806_201906', 'HabitoPago201903', 'HabitoPago201905', 'HabitoPago201902', 'flagdiseftcexterno', 'HabitoPago201901', 'flg_usodisef', 'segmentoNSE', 'tipo_seguro', 'nombre_producto', 'flagpld', 'zona_apein', 'flg_situacionlaboral_oscar', 'edad']\n"
     ]
    },
    {
     "data": {
      "text/plain": [
       "19"
      ]
     },
     "execution_count": 957,
     "metadata": {},
     "output_type": "execute_result"
    }
   ],
   "source": [
    "dt_info_ =  dt_info_value[ dt_info_value[\"info_value\"] <= 0.5]\n",
    "cols4 = dt_info_[\"variable\"]\n",
    "cols4 = cols4.to_list()\n",
    "features = cols4\n",
    "\n",
    "print(features)\n",
    "len(features)"
   ]
  },
  {
   "cell_type": "code",
   "execution_count": 958,
   "metadata": {},
   "outputs": [
    {
     "name": "stdout",
     "output_type": "stream",
     "text": [
      "Distribution of class labels before resampling Counter({0: 93563, 1: 6152})\n",
      "Distribution of class labels after resampling Counter({1: 89871, 0: 89871})\n"
     ]
    }
   ],
   "source": [
    "#Balanceo\n",
    "os_us = SMOTETomek( random_state= 2)\n",
    "X_train_res, y_train_res = os_us.fit_sample(X_train[features], y_train.ravel())\n",
    "\n",
    "print (\"Distribution of class labels before resampling {}\".format(Counter(y_train)))\n",
    "print (\"Distribution of class labels after resampling {}\".format(Counter(y_train_res)))"
   ]
  },
  {
   "cell_type": "markdown",
   "metadata": {},
   "source": [
    "#### Ejecución del modelo "
   ]
  },
  {
   "cell_type": "code",
   "execution_count": 959,
   "metadata": {},
   "outputs": [
    {
     "name": "stderr",
     "output_type": "stream",
     "text": [
      "C:\\Users\\avelasque\\AppData\\Roaming\\Python\\Python37\\site-packages\\sklearn\\linear_model\\_logistic.py:940: ConvergenceWarning: lbfgs failed to converge (status=1):\n",
      "STOP: TOTAL NO. of ITERATIONS REACHED LIMIT.\n",
      "\n",
      "Increase the number of iterations (max_iter) or scale the data as shown in:\n",
      "    https://scikit-learn.org/stable/modules/preprocessing.html\n",
      "Please also refer to the documentation for alternative solver options:\n",
      "    https://scikit-learn.org/stable/modules/linear_model.html#logistic-regression\n",
      "  extra_warning_msg=_LOGISTIC_SOLVER_CONVERGENCE_MSG)\n"
     ]
    },
    {
     "data": {
      "image/png": "[encoded data removed]",
      "text/plain": [
       "<Figure size 576x576 with 2 Axes>"
      ]
     },
     "metadata": {
      "needs_background": "light"
     },
     "output_type": "display_data"
    },
    {
     "name": "stdout",
     "output_type": "stream",
     "text": [
      "              precision    recall  f1-score   support\n",
      "\n",
      "           0       0.97      0.72      0.82     40111\n",
      "           1       0.13      0.62      0.21      2625\n",
      "\n",
      "    accuracy                           0.71     42736\n",
      "   macro avg       0.55      0.67      0.52     42736\n",
      "weighted avg       0.91      0.71      0.79     42736\n",
      "\n"
     ]
    },
    {
     "data": {
      "text/plain": [
       "array([[28867, 11244],\n",
       "       [ 1004,  1621]], dtype=int64)"
      ]
     },
     "execution_count": 959,
     "metadata": {},
     "output_type": "execute_result"
    }
   ],
   "source": [
    "from sklearn.linear_model import LogisticRegression\n",
    "est_boruta = LogisticRegression()\n",
    "est_boruta.fit(X_train_res, y_train_res)\n",
    " \n",
    "# Test accuracy\n",
    "y_pred = est_boruta.predict(X_test[features])\n",
    "\n",
    "mostrar_resultados(y_test, y_pred)\n",
    "confusion_matrix(y_test, y_pred)"
   ]
  },
  {
   "cell_type": "markdown",
   "metadata": {},
   "source": [
    "### 5.3.1 Elimino las variables cuyo índice es mayor a 1.2\n",
    "   #### Las variables con peso > 1 serán removidas para evaluar las que se encuentran en el rango <0.02 - 1> "
   ]
  },
  {
   "cell_type": "code",
   "execution_count": 794,
   "metadata": {},
   "outputs": [
    {
     "data": {
      "text/plain": [
       "24"
      ]
     },
     "execution_count": 794,
     "metadata": {},
     "output_type": "execute_result"
    }
   ],
   "source": [
    "dt_info_ =  dt_info_value[ dt_info_value[\"info_value\"] <= 1 ]\n",
    "cols4 = dt_info_[\"variable\"]\n",
    "cols4 = cols4.to_list()\n",
    "features = cols4\n",
    "len(features)"
   ]
  },
  {
   "cell_type": "code",
   "execution_count": 795,
   "metadata": {},
   "outputs": [
    {
     "name": "stdout",
     "output_type": "stream",
     "text": [
      "Distribution of class labels before resampling Counter({0: 93563, 1: 6152})\n",
      "Distribution of class labels after resampling Counter({1: 91638, 0: 91638})\n"
     ]
    }
   ],
   "source": [
    "#Balanceo\n",
    "os_us = SMOTETomek( random_state= 2)\n",
    "X_train_res, y_train_res = os_us.fit_sample(X_train[features], y_train.ravel())\n",
    "\n",
    "print (\"Distribution of class labels before resampling {}\".format(Counter(y_train)))\n",
    "print (\"Distribution of class labels after resampling {}\".format(Counter(y_train_res)))"
   ]
  },
  {
   "cell_type": "markdown",
   "metadata": {},
   "source": [
    "## Tercera ejecución del modelo"
   ]
  },
  {
   "cell_type": "code",
   "execution_count": 796,
   "metadata": {},
   "outputs": [
    {
     "name": "stderr",
     "output_type": "stream",
     "text": [
      "C:\\Users\\avelasque\\AppData\\Roaming\\Python\\Python37\\site-packages\\sklearn\\linear_model\\_logistic.py:940: ConvergenceWarning: lbfgs failed to converge (status=1):\n",
      "STOP: TOTAL NO. of ITERATIONS REACHED LIMIT.\n",
      "\n",
      "Increase the number of iterations (max_iter) or scale the data as shown in:\n",
      "    https://scikit-learn.org/stable/modules/preprocessing.html\n",
      "Please also refer to the documentation for alternative solver options:\n",
      "    https://scikit-learn.org/stable/modules/linear_model.html#logistic-regression\n",
      "  extra_warning_msg=_LOGISTIC_SOLVER_CONVERGENCE_MSG)\n"
     ]
    },
    {
     "data": {
      "image/png": "[encoded data removed]",
      "text/plain": [
       "<Figure size 576x576 with 2 Axes>"
      ]
     },
     "metadata": {
      "needs_background": "light"
     },
     "output_type": "display_data"
    },
    {
     "name": "stdout",
     "output_type": "stream",
     "text": [
      "              precision    recall  f1-score   support\n",
      "\n",
      "           0       0.96      0.69      0.80     40111\n",
      "           1       0.11      0.57      0.18      2625\n",
      "\n",
      "    accuracy                           0.68     42736\n",
      "   macro avg       0.54      0.63      0.49     42736\n",
      "weighted avg       0.91      0.68      0.77     42736\n",
      "\n"
     ]
    },
    {
     "data": {
      "text/plain": [
       "array([[27749, 12362],\n",
       "       [ 1116,  1509]], dtype=int64)"
      ]
     },
     "execution_count": 796,
     "metadata": {},
     "output_type": "execute_result"
    }
   ],
   "source": [
    "from sklearn.linear_model import LogisticRegression\n",
    "est_boruta = LogisticRegression()\n",
    "est_boruta.fit(X_train_res, y_train_res)\n",
    " \n",
    "# Test accuracy\n",
    "y_pred = est_boruta.predict(X_test[features])\n",
    "\n",
    "mostrar_resultados(y_test, y_pred)\n",
    "confusion_matrix(y_test, y_pred)"
   ]
  },
  {
   "cell_type": "markdown",
   "metadata": {},
   "source": [
    "Conclusión: Las variables removidas no disminuyen o aumentan\n",
    " la precisión del modelo, por ende se removerán las variables cuyo IV es mayor que 0.75"
   ]
  },
  {
   "cell_type": "markdown",
   "metadata": {},
   "source": [
    "### 5.3.2 Elimino las variables cuyo índice es mayor a 0.75\n",
    "   #### Las variables con peso > 0.75 serán removidas para evaluar las que se encuentran en el rango <0.02 - 0.75> "
   ]
  },
  {
   "cell_type": "code",
   "execution_count": 797,
   "metadata": {},
   "outputs": [
    {
     "data": {
      "text/plain": [
       "23"
      ]
     },
     "execution_count": 797,
     "metadata": {},
     "output_type": "execute_result"
    }
   ],
   "source": [
    "dt_info_ =  dt_info_value[ dt_info_value[\"info_value\"] <= 0.75 ]\n",
    "cols4 = dt_info_[\"variable\"]\n",
    "cols4 = cols4.to_list()\n",
    "features = cols4\n",
    "len(features)"
   ]
  },
  {
   "cell_type": "code",
   "execution_count": 798,
   "metadata": {},
   "outputs": [
    {
     "name": "stdout",
     "output_type": "stream",
     "text": [
      "Distribution of class labels before resampling Counter({0: 93563, 1: 6152})\n",
      "Distribution of class labels after resampling Counter({1: 90748, 0: 90748})\n"
     ]
    }
   ],
   "source": [
    "#Balanceo\n",
    "os_us = SMOTETomek(random_state=2)\n",
    "X_train_res, y_train_res = os_us.fit_sample(X_train[features], y_train.ravel())\n",
    "\n",
    "print (\"Distribution of class labels before resampling {}\".format(Counter(y_train)))\n",
    "print (\"Distribution of class labels after resampling {}\".format(Counter(y_train_res)))"
   ]
  },
  {
   "cell_type": "markdown",
   "metadata": {},
   "source": [
    "## Cuarta ejecución del modelo"
   ]
  },
  {
   "cell_type": "code",
   "execution_count": 799,
   "metadata": {},
   "outputs": [
    {
     "name": "stderr",
     "output_type": "stream",
     "text": [
      "C:\\Users\\avelasque\\AppData\\Roaming\\Python\\Python37\\site-packages\\sklearn\\linear_model\\_logistic.py:940: ConvergenceWarning: lbfgs failed to converge (status=1):\n",
      "STOP: TOTAL NO. of ITERATIONS REACHED LIMIT.\n",
      "\n",
      "Increase the number of iterations (max_iter) or scale the data as shown in:\n",
      "    https://scikit-learn.org/stable/modules/preprocessing.html\n",
      "Please also refer to the documentation for alternative solver options:\n",
      "    https://scikit-learn.org/stable/modules/linear_model.html#logistic-regression\n",
      "  extra_warning_msg=_LOGISTIC_SOLVER_CONVERGENCE_MSG)\n"
     ]
    },
    {
     "data": {
      "image/png": "[encoded data removed]",
      "text/plain": [
       "<Figure size 576x576 with 2 Axes>"
      ]
     },
     "metadata": {
      "needs_background": "light"
     },
     "output_type": "display_data"
    },
    {
     "name": "stdout",
     "output_type": "stream",
     "text": [
      "              precision    recall  f1-score   support\n",
      "\n",
      "           0       0.96      0.73      0.83     40111\n",
      "           1       0.12      0.56      0.20      2625\n",
      "\n",
      "    accuracy                           0.72     42736\n",
      "   macro avg       0.54      0.64      0.51     42736\n",
      "weighted avg       0.91      0.72      0.79     42736\n",
      "\n"
     ]
    }
   ],
   "source": [
    "from sklearn.linear_model import LogisticRegression\n",
    "est_boruta = LogisticRegression()\n",
    "est_boruta.fit(X_train_res, y_train_res)\n",
    " \n",
    "# Test accuracy\n",
    "y_pred = est_boruta.predict(X_test[features])\n",
    "\n",
    "mostrar_resultados(y_test, y_pred)"
   ]
  },
  {
   "cell_type": "markdown",
   "metadata": {},
   "source": [
    "Conclusión: la precisión disminuye hasta 70%"
   ]
  },
  {
   "cell_type": "markdown",
   "metadata": {},
   "source": [
    "### 5.3.3 Elimino las variables cuyo índice es mayor a 0.55\n",
    "   #### Las variables con peso > 0.55 serán removidas para evaluar las que se encuentran en el rango <0.02 - 0.55> "
   ]
  },
  {
   "cell_type": "code",
   "execution_count": 807,
   "metadata": {},
   "outputs": [
    {
     "data": {
      "text/plain": [
       "21"
      ]
     },
     "execution_count": 807,
     "metadata": {},
     "output_type": "execute_result"
    }
   ],
   "source": [
    "dt_info_ =  dt_info_value[ dt_info_value[\"info_value\"] <= 0.555 ]\n",
    "\n",
    "cols4 = dt_info_[\"variable\"]\n",
    "cols4 = cols4.to_list()\n",
    "features = cols4\n",
    "len(features)"
   ]
  },
  {
   "cell_type": "code",
   "execution_count": 809,
   "metadata": {},
   "outputs": [
    {
     "data": {
      "text/plain": [
       "['s_rev_atm',\n",
       " 'HabitoPago201906',\n",
       " 'FLGRCC',\n",
       " 'linea_credito_usd',\n",
       " 'linea_credito_soles',\n",
       " 'ConsumoAnual201806_201906',\n",
       " 'HabitoPago201904',\n",
       " 'NroTransaccionAnual201806_201906',\n",
       " 'HabitoPago201903',\n",
       " 'HabitoPago201905',\n",
       " 'HabitoPago201902',\n",
       " 'flagdiseftcexterno',\n",
       " 'HabitoPago201901',\n",
       " 'flg_usodisef',\n",
       " 'segmentoNSE',\n",
       " 'tipo_seguro',\n",
       " 'nombre_producto',\n",
       " 'flagpld',\n",
       " 'zona_apein',\n",
       " 'flg_situacionlaboral_oscar',\n",
       " 'edad']"
      ]
     },
     "execution_count": 809,
     "metadata": {},
     "output_type": "execute_result"
    }
   ],
   "source": [
    "features"
   ]
  },
  {
   "cell_type": "code",
   "execution_count": 801,
   "metadata": {},
   "outputs": [],
   "source": [
    "#Balanceo\n",
    "os_us =  SMOTETomek(random_state=3)\n",
    "X_train_res, y_train_res = os_us.fit_sample(X_train[features], y_train.ravel())"
   ]
  },
  {
   "cell_type": "markdown",
   "metadata": {},
   "source": [
    "## Quinta ejecución del modelo"
   ]
  },
  {
   "cell_type": "code",
   "execution_count": 802,
   "metadata": {},
   "outputs": [
    {
     "name": "stderr",
     "output_type": "stream",
     "text": [
      "C:\\Users\\avelasque\\AppData\\Roaming\\Python\\Python37\\site-packages\\sklearn\\linear_model\\_logistic.py:940: ConvergenceWarning: lbfgs failed to converge (status=1):\n",
      "STOP: TOTAL NO. of ITERATIONS REACHED LIMIT.\n",
      "\n",
      "Increase the number of iterations (max_iter) or scale the data as shown in:\n",
      "    https://scikit-learn.org/stable/modules/preprocessing.html\n",
      "Please also refer to the documentation for alternative solver options:\n",
      "    https://scikit-learn.org/stable/modules/linear_model.html#logistic-regression\n",
      "  extra_warning_msg=_LOGISTIC_SOLVER_CONVERGENCE_MSG)\n"
     ]
    },
    {
     "data": {
      "image/png": "[encoded data removed]",
      "text/plain": [
       "<Figure size 576x576 with 2 Axes>"
      ]
     },
     "metadata": {
      "needs_background": "light"
     },
     "output_type": "display_data"
    },
    {
     "name": "stdout",
     "output_type": "stream",
     "text": [
      "              precision    recall  f1-score   support\n",
      "\n",
      "           0       0.96      0.74      0.83     40111\n",
      "           1       0.12      0.53      0.19      2625\n",
      "\n",
      "    accuracy                           0.72     42736\n",
      "   macro avg       0.54      0.63      0.51     42736\n",
      "weighted avg       0.91      0.72      0.79     42736\n",
      "\n"
     ]
    }
   ],
   "source": [
    "est_boruta = LogisticRegression()\n",
    "est_boruta.fit(X_train_res, y_train_res) \n",
    "# Test accuracy\n",
    "y_pred = est_boruta.predict(X_test[features])\n",
    "mostrar_resultados(y_test, y_pred)"
   ]
  },
  {
   "cell_type": "markdown",
   "metadata": {},
   "source": [
    "Conclusión: la precisión se mantiene "
   ]
  },
  {
   "cell_type": "markdown",
   "metadata": {},
   "source": [
    "### 5.3.4 Elimino las variables cuyo índice es mayor a 0.45\n",
    "   #### Las variables con peso > 0.45 serán removidas para evaluar las que se encuentran en el rango <0.02 - 0.45> "
   ]
  },
  {
   "cell_type": "code",
   "execution_count": 810,
   "metadata": {},
   "outputs": [
    {
     "data": {
      "text/plain": [
       "20"
      ]
     },
     "execution_count": 810,
     "metadata": {},
     "output_type": "execute_result"
    }
   ],
   "source": [
    "dt_info_ =  dt_info_value[ dt_info_value[\"info_value\"] <=0.52]\n",
    "cols4 = dt_info_[\"variable\"]\n",
    "cols4 = cols4.to_list()\n",
    "features = cols4\n",
    "len(features)"
   ]
  },
  {
   "cell_type": "code",
   "execution_count": 811,
   "metadata": {},
   "outputs": [
    {
     "data": {
      "text/plain": [
       "['HabitoPago201906',\n",
       " 'FLGRCC',\n",
       " 'linea_credito_usd',\n",
       " 'linea_credito_soles',\n",
       " 'ConsumoAnual201806_201906',\n",
       " 'HabitoPago201904',\n",
       " 'NroTransaccionAnual201806_201906',\n",
       " 'HabitoPago201903',\n",
       " 'HabitoPago201905',\n",
       " 'HabitoPago201902',\n",
       " 'flagdiseftcexterno',\n",
       " 'HabitoPago201901',\n",
       " 'flg_usodisef',\n",
       " 'segmentoNSE',\n",
       " 'tipo_seguro',\n",
       " 'nombre_producto',\n",
       " 'flagpld',\n",
       " 'zona_apein',\n",
       " 'flg_situacionlaboral_oscar',\n",
       " 'edad']"
      ]
     },
     "execution_count": 811,
     "metadata": {},
     "output_type": "execute_result"
    }
   ],
   "source": [
    "features\n"
   ]
  },
  {
   "cell_type": "code",
   "execution_count": 812,
   "metadata": {},
   "outputs": [],
   "source": [
    "#Balanceo\n",
    "os_us =  SMOTETomek(random_state= 5)\n",
    "X_train_res, y_train_res = os_us.fit_sample(X_train[features], y_train.ravel())"
   ]
  },
  {
   "cell_type": "markdown",
   "metadata": {},
   "source": [
    "## Sexta ejecución del modelo"
   ]
  },
  {
   "cell_type": "code",
   "execution_count": 813,
   "metadata": {},
   "outputs": [
    {
     "name": "stderr",
     "output_type": "stream",
     "text": [
      "C:\\Users\\avelasque\\AppData\\Roaming\\Python\\Python37\\site-packages\\sklearn\\linear_model\\_logistic.py:940: ConvergenceWarning: lbfgs failed to converge (status=1):\n",
      "STOP: TOTAL NO. of ITERATIONS REACHED LIMIT.\n",
      "\n",
      "Increase the number of iterations (max_iter) or scale the data as shown in:\n",
      "    https://scikit-learn.org/stable/modules/preprocessing.html\n",
      "Please also refer to the documentation for alternative solver options:\n",
      "    https://scikit-learn.org/stable/modules/linear_model.html#logistic-regression\n",
      "  extra_warning_msg=_LOGISTIC_SOLVER_CONVERGENCE_MSG)\n"
     ]
    },
    {
     "data": {
      "image/png": "[encoded data removed]",
      "text/plain": [
       "<Figure size 576x576 with 2 Axes>"
      ]
     },
     "metadata": {
      "needs_background": "light"
     },
     "output_type": "display_data"
    },
    {
     "name": "stdout",
     "output_type": "stream",
     "text": [
      "              precision    recall  f1-score   support\n",
      "\n",
      "           0       0.97      0.79      0.87     40111\n",
      "           1       0.15      0.56      0.24      2625\n",
      "\n",
      "    accuracy                           0.78     42736\n",
      "   macro avg       0.56      0.68      0.55     42736\n",
      "weighted avg       0.92      0.78      0.83     42736\n",
      "\n"
     ]
    }
   ],
   "source": [
    "est_boruta = LogisticRegression()\n",
    "est_boruta.fit(X_train_res, y_train_res) \n",
    "# Test accuracy\n",
    "y_pred = est_boruta.predict(X_test[features])\n",
    "mostrar_resultados(y_test, y_pred)"
   ]
  },
  {
   "cell_type": "markdown",
   "metadata": {},
   "source": [
    "Conclusión: la precisión disminuye debido a que hemos removido variables consideradas como fuertes predictoras\n",
    "\n",
    "Conclusión 2: trabajaremos con el rango <0.02 - 0.55> cuya precisión es de 76%"
   ]
  },
  {
   "cell_type": "markdown",
   "metadata": {},
   "source": [
    "## ANÁLISIS DE VARIABLES REMOVIDAS"
   ]
  },
  {
   "cell_type": "code",
   "execution_count": 724,
   "metadata": {},
   "outputs": [
    {
     "data": {
      "text/plain": [
       "28"
      ]
     },
     "execution_count": 724,
     "metadata": {},
     "output_type": "execute_result"
    }
   ],
   "source": [
    "dt_info_ =  dt_info_value[ dt_info_value[\"info_value\"] <= 3]\n",
    "cols4 = dt_info_[\"variable\"]\n",
    "cols4 = cols4.to_list()\n",
    "features = cols4\n",
    "len(features)"
   ]
  },
  {
   "cell_type": "code",
   "execution_count": 748,
   "metadata": {},
   "outputs": [
    {
     "data": {
      "text/plain": [
       "['estadocivil', 'departamento', 'saldo_exceso', 'flg_ppd', 'flagrefinanciado']"
      ]
     },
     "execution_count": 748,
     "metadata": {},
     "output_type": "execute_result"
    }
   ],
   "source": [
    "descarteBoruta"
   ]
  },
  {
   "cell_type": "code",
   "execution_count": 749,
   "metadata": {},
   "outputs": [
    {
     "data": {
      "text/plain": [
       "['sexo',\n",
       " 'edad',\n",
       " 'estadocivil',\n",
       " 'departamento',\n",
       " 's_fin_estab',\n",
       " 's_rev_estab',\n",
       " 's_fin_atm',\n",
       " 's_rev_atm',\n",
       " 'saldo_lp',\n",
       " 'saldo_mora',\n",
       " 'saldo_exceso',\n",
       " 'DiasMora201906',\n",
       " 'estado',\n",
       " 'nombre_producto',\n",
       " 'linea_credito_usd',\n",
       " 'linea_credito_soles',\n",
       " 'flg_situacionlaboral_oscar',\n",
       " 'porc_uso_linea',\n",
       " 'flg_ppd',\n",
       " 'flg_usodisef',\n",
       " 'maxlinea_bench',\n",
       " 'flagscastigado',\n",
       " 'flagrefinanciado',\n",
       " 'flagpld',\n",
       " 'flagdiseftcexterno',\n",
       " 'FLGRCC',\n",
       " 'segmentoNSE',\n",
       " 'FlagCliente']"
      ]
     },
     "execution_count": 749,
     "metadata": {},
     "output_type": "execute_result"
    }
   ],
   "source": [
    "descarteIV"
   ]
  },
  {
   "cell_type": "code",
   "execution_count": 727,
   "metadata": {},
   "outputs": [
    {
     "data": {
      "text/plain": [
       "['S_FIN_ATM201906',\n",
       " 'SaldoLP201906',\n",
       " 'MaxLineaBench201906',\n",
       " 'S_REV_ATM201906',\n",
       " 'S_REV_ESTAB201906',\n",
       " 's_fin_estab201906',\n",
       " 'LineaCDolares01906',\n",
       " 'LineaCSoles201906',\n",
       " 'Flg_usoRCC201906',\n",
       " 'NroTransaccionAnual201806_201906',\n",
       " 'flg_Socio_CSI',\n",
       " 'HabitoPago201906',\n",
       " 'SaldoTotal201906',\n",
       " 'Flg_SBS201906',\n",
       " 'HabitoPago201905',\n",
       " 'HabitoPago201904',\n",
       " 'Flg_usoDisef201906',\n",
       " 'HabitoPago201903',\n",
       " 'HabitoPago201902',\n",
       " 'HabitoPago201901',\n",
       " 'ConsumoAnual201806_201906',\n",
       " 'Cant_Adicionales_Entregadas',\n",
       " 'tipo_seguro',\n",
       " 'Nombre_Producto',\n",
       " 'SEGMENTONSE',\n",
       " 'FlgSituacionLaboral',\n",
       " 'zona_apein',\n",
       " 'edad']"
      ]
     },
     "execution_count": 727,
     "metadata": {},
     "output_type": "execute_result"
    }
   ],
   "source": [
    "feat = features # + features[6:] #+ descarteIV[:-1]#+ descarteIV[:5]+ descarteIV[-7:-1] ##descarteIV[-11:-1] + descarteIV[:5]\n",
    "\n",
    "feat"
   ]
  },
  {
   "cell_type": "code",
   "execution_count": 121,
   "metadata": {},
   "outputs": [
    {
     "name": "stdout",
     "output_type": "stream",
     "text": [
      "Flg_usoRCC201906, NroTransaccionAnual201806_201906, flg_Socio_CSI, HabitoPago201906, SaldoTotal201906, Flg_SBS201906, HabitoPago201905, HabitoPago201904, Flg_usoDisef201906, HabitoPago201903, HabitoPago201902, HabitoPago201901, ConsumoAnual201806_201906, Cant_Adicionales_Entregadas, tipo_seguro, Nombre_Producto, SEGMENTONSE, FlgSituacionLaboral, zona_apein, edad, \n"
     ]
    }
   ],
   "source": [
    "ran = \"\"\n",
    "for i in features:\n",
    "    ran += i + \", \"\n",
    "    \n",
    "print (ran)    "
   ]
  },
  {
   "cell_type": "code",
   "execution_count": 728,
   "metadata": {},
   "outputs": [],
   "source": [
    "#Balanceo\n",
    "os_us = SMOTETomek(random_state=2)\n",
    "X_train_res, y_train_res = os_us.fit_sample(X_train[feat], y_train.ravel())"
   ]
  },
  {
   "cell_type": "markdown",
   "metadata": {},
   "source": [
    "## Séptima ejecución del modelo"
   ]
  },
  {
   "cell_type": "code",
   "execution_count": 517,
   "metadata": {
    "collapsed": true
   },
   "outputs": [
    {
     "name": "stderr",
     "output_type": "stream",
     "text": [
      "C:\\Users\\avelasque\\AppData\\Roaming\\Python\\Python37\\site-packages\\sklearn\\linear_model\\_logistic.py:940: ConvergenceWarning: lbfgs failed to converge (status=1):\n",
      "STOP: TOTAL NO. of ITERATIONS REACHED LIMIT.\n",
      "\n",
      "Increase the number of iterations (max_iter) or scale the data as shown in:\n",
      "    https://scikit-learn.org/stable/modules/preprocessing.html\n",
      "Please also refer to the documentation for alternative solver options:\n",
      "    https://scikit-learn.org/stable/modules/linear_model.html#logistic-regression\n",
      "  extra_warning_msg=_LOGISTIC_SOLVER_CONVERGENCE_MSG)\n"
     ]
    },
    {
     "ename": "NameError",
     "evalue": "name 'feat' is not defined",
     "output_type": "error",
     "traceback": [
      "\u001b[1;31m---------------------------------------------------------------------------\u001b[0m",
      "\u001b[1;31mNameError\u001b[0m                                 Traceback (most recent call last)",
      "\u001b[1;32m<ipython-input-517-fdf87fb1047e>\u001b[0m in \u001b[0;36m<module>\u001b[1;34m\u001b[0m\n\u001b[0;32m      2\u001b[0m \u001b[0mest_boruta\u001b[0m\u001b[1;33m.\u001b[0m\u001b[0mfit\u001b[0m\u001b[1;33m(\u001b[0m\u001b[0mX_train_res\u001b[0m\u001b[1;33m,\u001b[0m \u001b[0my_train_res\u001b[0m\u001b[1;33m)\u001b[0m\u001b[1;33m\u001b[0m\u001b[1;33m\u001b[0m\u001b[0m\n\u001b[0;32m      3\u001b[0m \u001b[1;31m# Test accuracy\u001b[0m\u001b[1;33m\u001b[0m\u001b[1;33m\u001b[0m\u001b[1;33m\u001b[0m\u001b[0m\n\u001b[1;32m----> 4\u001b[1;33m \u001b[0my_pred\u001b[0m \u001b[1;33m=\u001b[0m \u001b[0mest_boruta\u001b[0m\u001b[1;33m.\u001b[0m\u001b[0mpredict\u001b[0m\u001b[1;33m(\u001b[0m\u001b[0mX_test\u001b[0m\u001b[1;33m[\u001b[0m\u001b[0mfeat\u001b[0m\u001b[1;33m]\u001b[0m\u001b[1;33m)\u001b[0m\u001b[1;33m\u001b[0m\u001b[1;33m\u001b[0m\u001b[0m\n\u001b[0m\u001b[0;32m      5\u001b[0m \u001b[0mmostrar_resultados\u001b[0m\u001b[1;33m(\u001b[0m\u001b[0my_test\u001b[0m\u001b[1;33m,\u001b[0m \u001b[0my_pred\u001b[0m\u001b[1;33m)\u001b[0m\u001b[1;33m\u001b[0m\u001b[1;33m\u001b[0m\u001b[0m\n",
      "\u001b[1;31mNameError\u001b[0m: name 'feat' is not defined"
     ]
    }
   ],
   "source": [
    "est_boruta = LogisticRegression()\n",
    "est_boruta.fit(X_train_res, y_train_res) \n",
    "# Test accuracy\n",
    "y_pred = est_boruta.predict(X_test[feat])\n",
    "mostrar_resultados(y_test, y_pred)"
   ]
  },
  {
   "cell_type": "markdown",
   "metadata": {},
   "source": [
    " 1 variable 74%\n",
    " \n",
    " 2 variables 71%\n",
    " \n",
    " 4 primeras variables 67%\n",
    " \n",
    " 5 variables 75%\n",
    " \n",
    " ----\n",
    " Variables entre 0.02 --> 0.50\n",
    " \n",
    " 23 variables 72%\n",
    " \n",
    " train -  [142001   9503]   |   test -  [35501  2375]\n",
    " \n",
    "train -  [142001   9503]   |   test -  [35501  2375]\n",
    "\n",
    "train -  [142002   9502]   |   test -  [35500  2376]\n",
    "\n",
    "train -  [142002   9502]   |   test -  [35500  2376]\n",
    "\n",
    "train -  [142002   9502]   |   test -  [35500  2376]\n",
    " \n"
   ]
  },
  {
   "cell_type": "markdown",
   "metadata": {},
   "source": [
    "## Validación cruzada"
   ]
  },
  {
   "cell_type": "code",
   "execution_count": 816,
   "metadata": {},
   "outputs": [
    {
     "data": {
      "text/plain": [
       "Index(['sexo', 'edad', 'estadocivil', 'departamento', 's_fin_estab',\n",
       "       's_rev_estab', 's_fin_atm', 's_rev_atm', 'saldo_lp', 'saldo_mora',\n",
       "       'saldo_exceso', 'DiasMora201906', 'estado', 'nombre_producto',\n",
       "       'linea_credito_usd', 'linea_credito_soles',\n",
       "       'flg_situacionlaboral_oscar', 'porc_uso_linea', 'flg_ppd',\n",
       "       'flg_usodisef', 'zona_apein', 'maxlinea_bench', 'flagscastigado',\n",
       "       'flagrefinanciado', 'flagpld', 'flagdiseftcexterno', 'FLGRCC',\n",
       "       'segmentoNSE', 'ConsumoAnual201806_201906',\n",
       "       'NroTransaccionAnual201806_201906', 'tipo_seguro', 'HabitoPago201901',\n",
       "       'HabitoPago201902', 'HabitoPago201903', 'HabitoPago201906',\n",
       "       'HabitoPago201904', 'HabitoPago201905'],\n",
       "      dtype='object')"
      ]
     },
     "execution_count": 816,
     "metadata": {},
     "output_type": "execute_result"
    }
   ],
   "source": [
    "X.columns"
   ]
  },
  {
   "cell_type": "code",
   "execution_count": 960,
   "metadata": {},
   "outputs": [
    {
     "data": {
      "text/plain": [
       "20"
      ]
     },
     "execution_count": 960,
     "metadata": {},
     "output_type": "execute_result"
    }
   ],
   "source": [
    "dt_info_ =  dt_info_value[ dt_info_value[\"info_value\"] <=0.53]\n",
    "cols4 = dt_info_[\"variable\"]\n",
    "cols4 = cols4.to_list()\n",
    "features = cols4\n",
    "len(features)"
   ]
  },
  {
   "cell_type": "code",
   "execution_count": 961,
   "metadata": {},
   "outputs": [],
   "source": [
    "X1 = X[features].copy()\n",
    "y1 = y.copy()\n",
    "x_test = X1.copy"
   ]
  },
  {
   "cell_type": "code",
   "execution_count": 977,
   "metadata": {
    "scrolled": false
   },
   "outputs": [
    {
     "name": "stdout",
     "output_type": "stream",
     "text": [
      "1 of KFold 5\n",
      "ROC AUC score: 0.6726026215936529\n",
      "KAPPA:  0.14483522252068715\n"
     ]
    },
    {
     "name": "stderr",
     "output_type": "stream",
     "text": [
      "C:\\Users\\avelasque\\AppData\\Roaming\\Python\\Python37\\site-packages\\sklearn\\linear_model\\_logistic.py:940: ConvergenceWarning: lbfgs failed to converge (status=1):\n",
      "STOP: TOTAL NO. of ITERATIONS REACHED LIMIT.\n",
      "\n",
      "Increase the number of iterations (max_iter) or scale the data as shown in:\n",
      "    https://scikit-learn.org/stable/modules/preprocessing.html\n",
      "Please also refer to the documentation for alternative solver options:\n",
      "    https://scikit-learn.org/stable/modules/linear_model.html#logistic-regression\n",
      "  extra_warning_msg=_LOGISTIC_SOLVER_CONVERGENCE_MSG)\n"
     ]
    },
    {
     "data": {
      "image/png": "[encoded data removed]",
      "text/plain": [
       "<Figure size 576x576 with 2 Axes>"
      ]
     },
     "metadata": {
      "needs_background": "light"
     },
     "output_type": "display_data"
    },
    {
     "name": "stdout",
     "output_type": "stream",
     "text": [
      "              precision    recall  f1-score   support\n",
      "\n",
      "           0       0.96      0.77      0.86     26537\n",
      "           1       0.14      0.57      0.23      1768\n",
      "\n",
      "    accuracy                           0.76     28305\n",
      "   macro avg       0.55      0.67      0.54     28305\n",
      "weighted avg       0.91      0.76      0.82     28305\n",
      "\n",
      "2 of KFold 5\n",
      "ROC AUC score: 0.6663419507161263\n",
      "KAPPA:  0.141652541761648\n"
     ]
    },
    {
     "name": "stderr",
     "output_type": "stream",
     "text": [
      "C:\\Users\\avelasque\\AppData\\Roaming\\Python\\Python37\\site-packages\\sklearn\\linear_model\\_logistic.py:940: ConvergenceWarning: lbfgs failed to converge (status=1):\n",
      "STOP: TOTAL NO. of ITERATIONS REACHED LIMIT.\n",
      "\n",
      "Increase the number of iterations (max_iter) or scale the data as shown in:\n",
      "    https://scikit-learn.org/stable/modules/preprocessing.html\n",
      "Please also refer to the documentation for alternative solver options:\n",
      "    https://scikit-learn.org/stable/modules/linear_model.html#logistic-regression\n",
      "  extra_warning_msg=_LOGISTIC_SOLVER_CONVERGENCE_MSG)\n"
     ]
    },
    {
     "data": {
      "image/png": "[encoded data removed]",
      "text/plain": [
       "<Figure size 576x576 with 2 Axes>"
      ]
     },
     "metadata": {
      "needs_background": "light"
     },
     "output_type": "display_data"
    },
    {
     "name": "stdout",
     "output_type": "stream",
     "text": [
      "              precision    recall  f1-score   support\n",
      "\n",
      "           0       0.96      0.78      0.86     26537\n",
      "           1       0.14      0.55      0.23      1768\n",
      "\n",
      "    accuracy                           0.76     28305\n",
      "   macro avg       0.55      0.67      0.54     28305\n",
      "weighted avg       0.91      0.76      0.82     28305\n",
      "\n",
      "3 of KFold 5\n",
      "ROC AUC score: 0.6599325212052433\n",
      "KAPPA:  0.13767936764373623\n"
     ]
    },
    {
     "name": "stderr",
     "output_type": "stream",
     "text": [
      "C:\\Users\\avelasque\\AppData\\Roaming\\Python\\Python37\\site-packages\\sklearn\\linear_model\\_logistic.py:940: ConvergenceWarning: lbfgs failed to converge (status=1):\n",
      "STOP: TOTAL NO. of ITERATIONS REACHED LIMIT.\n",
      "\n",
      "Increase the number of iterations (max_iter) or scale the data as shown in:\n",
      "    https://scikit-learn.org/stable/modules/preprocessing.html\n",
      "Please also refer to the documentation for alternative solver options:\n",
      "    https://scikit-learn.org/stable/modules/linear_model.html#logistic-regression\n",
      "  extra_warning_msg=_LOGISTIC_SOLVER_CONVERGENCE_MSG)\n"
     ]
    },
    {
     "data": {
      "image/png": "[encoded data removed]",
      "text/plain": [
       "<Figure size 576x576 with 2 Axes>"
      ]
     },
     "metadata": {
      "needs_background": "light"
     },
     "output_type": "display_data"
    },
    {
     "name": "stdout",
     "output_type": "stream",
     "text": [
      "              precision    recall  f1-score   support\n",
      "\n",
      "           0       0.96      0.78      0.86     26537\n",
      "           1       0.14      0.54      0.22      1767\n",
      "\n",
      "    accuracy                           0.77     28304\n",
      "   macro avg       0.55      0.66      0.54     28304\n",
      "weighted avg       0.91      0.77      0.82     28304\n",
      "\n",
      "4 of KFold 5\n",
      "ROC AUC score: 0.682731411368936\n",
      "KAPPA:  0.14751221521149283\n"
     ]
    },
    {
     "name": "stderr",
     "output_type": "stream",
     "text": [
      "C:\\Users\\avelasque\\AppData\\Roaming\\Python\\Python37\\site-packages\\sklearn\\linear_model\\_logistic.py:940: ConvergenceWarning: lbfgs failed to converge (status=1):\n",
      "STOP: TOTAL NO. of ITERATIONS REACHED LIMIT.\n",
      "\n",
      "Increase the number of iterations (max_iter) or scale the data as shown in:\n",
      "    https://scikit-learn.org/stable/modules/preprocessing.html\n",
      "Please also refer to the documentation for alternative solver options:\n",
      "    https://scikit-learn.org/stable/modules/linear_model.html#logistic-regression\n",
      "  extra_warning_msg=_LOGISTIC_SOLVER_CONVERGENCE_MSG)\n"
     ]
    },
    {
     "data": {
      "image/png": "[encoded data removed]",
      "text/plain": [
       "<Figure size 576x576 with 2 Axes>"
      ]
     },
     "metadata": {
      "needs_background": "light"
     },
     "output_type": "display_data"
    },
    {
     "name": "stdout",
     "output_type": "stream",
     "text": [
      "              precision    recall  f1-score   support\n",
      "\n",
      "           0       0.97      0.76      0.85     26537\n",
      "           1       0.14      0.60      0.23      1767\n",
      "\n",
      "    accuracy                           0.75     28304\n",
      "   macro avg       0.56      0.68      0.54     28304\n",
      "weighted avg       0.92      0.75      0.81     28304\n",
      "\n",
      "5 of KFold 5\n",
      "ROC AUC score: 0.6581566321245546\n",
      "KAPPA:  0.13819296897366107\n"
     ]
    },
    {
     "name": "stderr",
     "output_type": "stream",
     "text": [
      "C:\\Users\\avelasque\\AppData\\Roaming\\Python\\Python37\\site-packages\\sklearn\\linear_model\\_logistic.py:940: ConvergenceWarning: lbfgs failed to converge (status=1):\n",
      "STOP: TOTAL NO. of ITERATIONS REACHED LIMIT.\n",
      "\n",
      "Increase the number of iterations (max_iter) or scale the data as shown in:\n",
      "    https://scikit-learn.org/stable/modules/preprocessing.html\n",
      "Please also refer to the documentation for alternative solver options:\n",
      "    https://scikit-learn.org/stable/modules/linear_model.html#logistic-regression\n",
      "  extra_warning_msg=_LOGISTIC_SOLVER_CONVERGENCE_MSG)\n"
     ]
    },
    {
     "data": {
      "image/png": "[encoded data removed]",
      "text/plain": [
       "<Figure size 576x576 with 2 Axes>"
      ]
     },
     "metadata": {
      "needs_background": "light"
     },
     "output_type": "display_data"
    },
    {
     "name": "stdout",
     "output_type": "stream",
     "text": [
      "              precision    recall  f1-score   support\n",
      "\n",
      "           0       0.96      0.78      0.86     26537\n",
      "           1       0.14      0.53      0.22      1767\n",
      "\n",
      "    accuracy                           0.77     28304\n",
      "   macro avg       0.55      0.66      0.54     28304\n",
      "weighted avg       0.91      0.77      0.82     28304\n",
      "\n",
      "Promedio auc score:  0.6679530274017026\n"
     ]
    }
   ],
   "source": [
    "kf = StratifiedKFold(n_splits=5,shuffle=True,random_state= 2010)\n",
    "pred_test_full =0\n",
    "cv_score =[]\n",
    "i=1\n",
    "lr = LogisticRegression()\n",
    "for train_index,test_index in kf.split(X1,y1):\n",
    "    print('{} of KFold {}'.format(i,kf.n_splits))\n",
    "    xtr,xvl = X1.loc[train_index],X1.loc[test_index]\n",
    "    ytr,yvl = y1.loc[train_index],y1.loc[test_index]\n",
    "    \n",
    "    #Balanceo\n",
    "    os_us = SMOTETomek(random_state=2)\n",
    "    #X_train_res, y_train_res = os_us.fit_sample(xtr,ytr.ravel())\n",
    "    X_train_res, y_train_res = os_us.fit_sample(xtr,ytr.ravel())\n",
    "    #model\n",
    "\n",
    "    lr.fit( X_train_res, y_train_res )\n",
    "    #lr.fit( xtr, ytr )\n",
    "    score = roc_auc_score(yvl,lr.predict(xvl))\n",
    "    print('ROC AUC score:',score)\n",
    "    score2 = sklearn.metrics.cohen_kappa_score(yvl,lr.predict(xvl))\n",
    "    print('KAPPA: ', score2)\n",
    "    \n",
    "    cv_score.append(score)\n",
    "    y_pred = lr.predict(xvl)\n",
    "    mostrar_resultados(yvl, y_pred)   \n",
    "    #pred_test = lr.predict_proba(x_test)[:,1]\n",
    "    #pred_test_full +=pred_test\n",
    "    i+=1\n",
    "print(\"Promedio auc score: \",np.mean(cv_score))    "
   ]
  },
  {
   "cell_type": "code",
   "execution_count": null,
   "metadata": {},
   "outputs": [],
   "source": []
  },
  {
   "cell_type": "markdown",
   "metadata": {},
   "source": [
    "## Pruebas base 201907"
   ]
  },
  {
   "cell_type": "code",
   "execution_count": 964,
   "metadata": {},
   "outputs": [],
   "source": [
    "datos2 = pd.read_excel(\"C:/Users/avelasque/Desktop/cliente/TABLAVF7.xlsx\")"
   ]
  },
  {
   "cell_type": "code",
   "execution_count": 965,
   "metadata": {},
   "outputs": [
    {
     "data": {
      "text/plain": [
       "BUEN CLIENTE    132685\n",
       "MAL CLIENTE       8837\n",
       "Name: FlagCliente, dtype: int64"
      ]
     },
     "execution_count": 965,
     "metadata": {},
     "output_type": "execute_result"
    }
   ],
   "source": [
    "pd.value_counts(datos2['FlagCliente'])"
   ]
  },
  {
   "cell_type": "code",
   "execution_count": 967,
   "metadata": {},
   "outputs": [],
   "source": [
    "df_train2=datos2.copy()\n",
    "#CONVERTIR DATOS Enteros a Categóricos\n",
    "#df_train['Flag_usoApp'] = df_train['Flag_usoApp'].astype(str) \n",
    "#df_train['Flg_sRefinanciamiento201907'] = df_train['Flg_sRefinanciamiento201907'].astype(str)\n",
    "\n",
    "#df_train['FlagCBCuotasSemestral'] = df_train['FlagCBCuotasSemestral'].astype(str) \n",
    "#df_train['FlagCBCuotasAnual'] = df_train['FlagCBCuotasAnual'].astype(str) \n",
    "#df_train['FlagCasino'] = df_train['FlagCasino'].astype(str)\n",
    "#df_train['FlagSaldoCASTIGADO'] = df_train['FlagSaldoCASTIGADO'].astype(str) "
   ]
  },
  {
   "cell_type": "code",
   "execution_count": 968,
   "metadata": {},
   "outputs": [],
   "source": [
    "#Tipo de datos \n",
    "feature_columns = {}\n",
    "\n",
    "feature_columns['categorical'] = df_train2.select_dtypes(include = ['object']).columns.values.tolist()\n",
    "feature_columns['int'] = df_train2.select_dtypes(include = ['integer']).columns.values.tolist()\n",
    "feature_columns['float'] = df_train2.select_dtypes(include = ['float32','float64']).columns.values.tolist()\n",
    "feature_columns['numerical'] = feature_columns['int'] + feature_columns['float']\n",
    "feature_columns[\"categorical\"]\n",
    "del feature_columns[\"categorical\"][-1] #elimino flagcliente\n"
   ]
  },
  {
   "cell_type": "code",
   "execution_count": 969,
   "metadata": {},
   "outputs": [
    {
     "name": "stdout",
     "output_type": "stream",
     "text": [
      "sexo\n",
      "estadocivil\n",
      "departamento\n",
      "estado\n",
      "nombre_producto\n",
      "flg_situacionlaboral_oscar\n",
      "porc_uso_linea\n",
      "flg_ppd\n",
      "flg_usodisef\n",
      "zona_apein\n",
      "FLGRCC\n",
      "segmentoNSE\n",
      "tipo_seguro\n",
      "FlagCliente\n"
     ]
    }
   ],
   "source": [
    "for l in feature_columns[\"categorical\"] +[\"FlagCliente\"]:\n",
    "    print(l) \n",
    "    me = preprocessing.LabelEncoder()\n",
    "    \n",
    "    df_train2.loc[df_train2[l].notnull(),l]=df_train2.loc[df_train2[l].notnull(),l].astype(str)\n",
    "    \n",
    "    #test.loc[test[l].notnull(),l]=test.loc[test[l].notnull(),l].astype(str)\n",
    "\n",
    "    \n",
    "    me.fit(list(df_train2[l].dropna())+list(df_train2[l].dropna()))\n",
    "    \n",
    "    df_train2.loc[~df_train2[l].isnull(),l]=me.transform(df_train2.loc[~df_train2[l].isnull(),l])\n",
    "\n",
    "    #test.loc[~df_train[l].isnull(),l]=me.transform(df_train.loc[~df_train[l].isnull(),l])\n",
    "#test=test.drop('FlagCliente', axis=1)\n"
   ]
  },
  {
   "cell_type": "code",
   "execution_count": 970,
   "metadata": {},
   "outputs": [
    {
     "data": {
      "text/plain": [
       "['HabitoPago201906',\n",
       " 'FLGRCC',\n",
       " 'linea_credito_usd',\n",
       " 'linea_credito_soles',\n",
       " 'ConsumoAnual201806_201906',\n",
       " 'HabitoPago201904',\n",
       " 'NroTransaccionAnual201806_201906',\n",
       " 'HabitoPago201903',\n",
       " 'HabitoPago201905',\n",
       " 'HabitoPago201902',\n",
       " 'flagdiseftcexterno',\n",
       " 'HabitoPago201901',\n",
       " 'flg_usodisef',\n",
       " 'segmentoNSE',\n",
       " 'tipo_seguro',\n",
       " 'nombre_producto',\n",
       " 'flagpld',\n",
       " 'zona_apein',\n",
       " 'flg_situacionlaboral_oscar',\n",
       " 'edad']"
      ]
     },
     "execution_count": 970,
     "metadata": {},
     "output_type": "execute_result"
    }
   ],
   "source": [
    "features"
   ]
  },
  {
   "cell_type": "code",
   "execution_count": 971,
   "metadata": {},
   "outputs": [],
   "source": [
    "features2 =['HabitoPago201907',\n",
    " 'FLGRCC',\n",
    " 'linea_credito_usd',\n",
    " 'linea_credito_soles',\n",
    " 'ConsumoAnual201807_201907',\n",
    " 'HabitoPago201905',\n",
    " 'NroTransaccionAnual201807_201907',\n",
    " 'HabitoPago201904',\n",
    " 'HabitoPago201906',\n",
    " 'HabitoPago201903',\n",
    " 'flagdiseftcexterno',\n",
    " 'HabitoPago201902',\n",
    " 'flg_usodisef',\n",
    " 'segmentoNSE',\n",
    " 'tipo_seguro',\n",
    " 'nombre_producto',\n",
    " 'flagpld',\n",
    " 'zona_apein',\n",
    " 'flg_situacionlaboral_oscar',\n",
    " 'edad']"
   ]
  },
  {
   "cell_type": "code",
   "execution_count": 978,
   "metadata": {},
   "outputs": [],
   "source": [
    "y = df_train2['FlagCliente']\n",
    "remover = [\"idencuenta\",\"numdoc\",'FlagCliente']#,'HabitoPago201906','HabitoPago201907']\n",
    "X = df_train2.drop(remover, axis=1)\n",
    "\n",
    "X1 = X[features2].copy()\n",
    "y1 = y.copy()"
   ]
  },
  {
   "cell_type": "code",
   "execution_count": 973,
   "metadata": {},
   "outputs": [
    {
     "name": "stdout",
     "output_type": "stream",
     "text": [
      "Valores perdidos por columna\n",
      "HabitoPago201907                       0\n",
      "FLGRCC                                 0\n",
      "linea_credito_usd                      0\n",
      "linea_credito_soles                    0\n",
      "ConsumoAnual201807_201907           6712\n",
      "HabitoPago201905                       0\n",
      "NroTransaccionAnual201807_201907    6712\n",
      "HabitoPago201904                       0\n",
      "HabitoPago201906                       0\n",
      "HabitoPago201903                       0\n",
      "flagdiseftcexterno                     0\n",
      "HabitoPago201902                       0\n",
      "flg_usodisef                           0\n",
      "segmentoNSE                            0\n",
      "tipo_seguro                            0\n",
      "nombre_producto                        0\n",
      "flagpld                                0\n",
      "zona_apein                             0\n",
      "flg_situacionlaboral_oscar             0\n",
      "edad                                   0\n",
      "dtype: int64\n",
      "(141522, 20)\n"
     ]
    }
   ],
   "source": [
    "#Creamos una función:\n",
    "def num_missing(x):\n",
    "    return sum(x.isnull()) \n",
    "print (\"Valores perdidos por columna\")\n",
    "print (X1.apply(num_missing, axis=0)) #axis = 0, columna, num_mising para cada columna cuenta los nulos  \n",
    "print(X1.shape) #tamaño\n"
   ]
  },
  {
   "cell_type": "code",
   "execution_count": 980,
   "metadata": {},
   "outputs": [],
   "source": [
    "X1[\"ConsumoAnual201807_201907\"]=X1[\"ConsumoAnual201807_201907\"].fillna(value = 0) \n",
    "X1[\"NroTransaccionAnual201807_201907\"] = X1[\"NroTransaccionAnual201807_201907\"].fillna(value = 0)"
   ]
  },
  {
   "cell_type": "code",
   "execution_count": 981,
   "metadata": {},
   "outputs": [
    {
     "data": {
      "image/png": "[encoded data removed]",
      "text/plain": [
       "<Figure size 576x576 with 2 Axes>"
      ]
     },
     "metadata": {
      "needs_background": "light"
     },
     "output_type": "display_data"
    },
    {
     "name": "stdout",
     "output_type": "stream",
     "text": [
      "              precision    recall  f1-score   support\n",
      "\n",
      "           0       0.96      0.78      0.86    132685\n",
      "           1       0.14      0.56      0.23      8837\n",
      "\n",
      "    accuracy                           0.77    141522\n",
      "   macro avg       0.55      0.67      0.55    141522\n",
      "weighted avg       0.91      0.77      0.82    141522\n",
      "\n"
     ]
    }
   ],
   "source": [
    "y_pred = lr.predict(X1)\n",
    "mostrar_resultados(y1, y_pred)"
   ]
  },
  {
   "cell_type": "code",
   "execution_count": 982,
   "metadata": {},
   "outputs": [
    {
     "name": "stdout",
     "output_type": "stream",
     "text": [
      "ROC AUC score: 0.6681925052033204\n"
     ]
    }
   ],
   "source": [
    "score = roc_auc_score(y1,y_pred)\n",
    "print('ROC AUC score:',score)"
   ]
  },
  {
   "cell_type": "markdown",
   "metadata": {},
   "source": [
    "## PRUEBAS BASE201908"
   ]
  },
  {
   "cell_type": "code",
   "execution_count": 831,
   "metadata": {},
   "outputs": [],
   "source": [
    "datos3 = pd.read_excel(\"C:/Users/avelasque/Desktop/cliente/TABLAVF8.xlsx\")"
   ]
  },
  {
   "cell_type": "code",
   "execution_count": 832,
   "metadata": {},
   "outputs": [
    {
     "data": {
      "text/plain": [
       "BUEN CLIENTE    135478\n",
       "MAL CLIENTE       9932\n",
       "Name: FlagCliente, dtype: int64"
      ]
     },
     "execution_count": 832,
     "metadata": {},
     "output_type": "execute_result"
    }
   ],
   "source": [
    "pd.value_counts(datos3['FlagCliente'])"
   ]
  },
  {
   "cell_type": "code",
   "execution_count": 833,
   "metadata": {},
   "outputs": [],
   "source": [
    "df_train3=datos3.copy()\n",
    "#CONVERTIR DATOS Enteros a Categóricos\n",
    "#df_train['Flag_usoApp'] = df_train['Flag_usoApp'].astype(str) \n",
    "#df_train['Flg_sRefinanciamiento201908'] = df_train['Flg_sRefinanciamiento201908'].astype(str)\n",
    "\n",
    "#df_train['FlagCBCuotasSemestral'] = df_train['FlagCBCuotasSemestral'].astype(str) \n",
    "#df_train['FlagCBCuotasAnual'] = df_train['FlagCBCuotasAnual'].astype(str) \n",
    "#df_train['FlagCasino'] = df_train['FlagCasino'].astype(str)\n",
    "#df_train['FlagSaldoCASTIGADO'] = df_train['FlagSaldoCASTIGADO'].astype(str) "
   ]
  },
  {
   "cell_type": "code",
   "execution_count": 834,
   "metadata": {},
   "outputs": [],
   "source": [
    "#Tipo de datos \n",
    "feature_columns = {}\n",
    "\n",
    "feature_columns['categorical'] = df_train3.select_dtypes(include = ['object']).columns.values.tolist()\n",
    "feature_columns['int'] = df_train3.select_dtypes(include = ['integer']).columns.values.tolist()\n",
    "feature_columns['float'] = df_train3.select_dtypes(include = ['float32','float64']).columns.values.tolist()\n",
    "feature_columns['numerical'] = feature_columns['int'] + feature_columns['float']\n",
    "feature_columns[\"categorical\"]\n",
    "del feature_columns[\"categorical\"][-1] #elimino flagcliente"
   ]
  },
  {
   "cell_type": "code",
   "execution_count": 835,
   "metadata": {},
   "outputs": [
    {
     "name": "stdout",
     "output_type": "stream",
     "text": [
      "sexo\n",
      "estadocivil\n",
      "departamento\n",
      "estado\n",
      "nombre_producto\n",
      "flg_situacionlaboral_oscar\n",
      "porc_uso_linea\n",
      "flg_ppd\n",
      "flg_usodisef\n",
      "zona_apein\n",
      "FLGRCC\n",
      "segmentoNSE\n",
      "tipo_seguro\n",
      "FlagCliente\n"
     ]
    }
   ],
   "source": [
    "for l in feature_columns[\"categorical\"] +[\"FlagCliente\"]:\n",
    "    print(l) \n",
    "    me = preprocessing.LabelEncoder()\n",
    "    \n",
    "    df_train3.loc[df_train3[l].notnull(),l]=df_train3.loc[df_train3[l].notnull(),l].astype(str)\n",
    "    \n",
    "    #test.loc[test[l].notnull(),l]=test.loc[test[l].notnull(),l].astype(str)\n",
    "\n",
    "    \n",
    "    me.fit(list(df_train3[l].dropna())+list(df_train3[l].dropna()))\n",
    "    \n",
    "    df_train3.loc[~df_train3[l].isnull(),l]=me.transform(df_train3.loc[~df_train3[l].isnull(),l])\n",
    "\n",
    "    #test.loc[~df_train[l].isnull(),l]=me.transform(df_train.loc[~df_train[l].isnull(),l])\n",
    "#test=test.drop('FlagCliente', axis=1)"
   ]
  },
  {
   "cell_type": "code",
   "execution_count": 837,
   "metadata": {},
   "outputs": [
    {
     "data": {
      "text/plain": [
       "['HabitoPago201907',\n",
       " 'FLGRCC',\n",
       " 'linea_credito_usd',\n",
       " 'linea_credito_soles',\n",
       " 'ConsumoAnual201807_201907',\n",
       " 'HabitoPago201905',\n",
       " 'NroTransaccionAnual201807_201907',\n",
       " 'HabitoPago201904',\n",
       " 'HabitoPago201906',\n",
       " 'HabitoPago201903',\n",
       " 'flagdiseftcexterno',\n",
       " 'HabitoPago201902',\n",
       " 'flg_usodisef',\n",
       " 'segmentoNSE',\n",
       " 'tipo_seguro',\n",
       " 'nombre_producto',\n",
       " 'flagpld',\n",
       " 'zona_apein',\n",
       " 'flg_situacionlaboral_oscar',\n",
       " 'edad']"
      ]
     },
     "execution_count": 837,
     "metadata": {},
     "output_type": "execute_result"
    }
   ],
   "source": [
    "features2"
   ]
  },
  {
   "cell_type": "code",
   "execution_count": 838,
   "metadata": {},
   "outputs": [],
   "source": [
    "features3 =['HabitoPago201908',\n",
    " 'FLGRCC',\n",
    " 'linea_credito_usd',\n",
    " 'linea_credito_soles',\n",
    " 'ConsumoAnual201808_201908',\n",
    " 'HabitoPago201906',\n",
    " 'NroTransaccionAnual201808_201908',\n",
    " 'HabitoPago201905',\n",
    " 'HabitoPago201907',\n",
    " 'HabitoPago201904',\n",
    " 'flagdiseftcexterno',\n",
    " 'HabitoPago201903',\n",
    " 'flg_usodisef',\n",
    " 'segmentoNSE',\n",
    " 'tipo_seguro',\n",
    " 'nombre_producto',\n",
    " 'flagpld',\n",
    " 'zona_apein',\n",
    " 'flg_situacionlaboral_oscar',\n",
    " 'edad']"
   ]
  },
  {
   "cell_type": "code",
   "execution_count": 983,
   "metadata": {},
   "outputs": [],
   "source": [
    "y1 = df_train3['FlagCliente']\n",
    "remover = [\"idencuenta\",\"numdoc\",'FlagCliente']#,'HabitoPago201906','HabitoPago201907']\n",
    "X1 = df_train3.drop(remover, axis=1)\n",
    "\n",
    "X2 = X1[features3].copy()\n",
    "y2 = y1.copy()"
   ]
  },
  {
   "cell_type": "code",
   "execution_count": 984,
   "metadata": {},
   "outputs": [
    {
     "name": "stdout",
     "output_type": "stream",
     "text": [
      "Valores perdidos por columna\n",
      "HabitoPago201908                       0\n",
      "FLGRCC                                 0\n",
      "linea_credito_usd                      0\n",
      "linea_credito_soles                    0\n",
      "ConsumoAnual201808_201908           7106\n",
      "HabitoPago201906                       0\n",
      "NroTransaccionAnual201808_201908    7106\n",
      "HabitoPago201905                       0\n",
      "HabitoPago201907                       0\n",
      "HabitoPago201904                       0\n",
      "flagdiseftcexterno                     0\n",
      "HabitoPago201903                       0\n",
      "flg_usodisef                           0\n",
      "segmentoNSE                            0\n",
      "tipo_seguro                            0\n",
      "nombre_producto                        0\n",
      "flagpld                                0\n",
      "zona_apein                             0\n",
      "flg_situacionlaboral_oscar             0\n",
      "edad                                   0\n",
      "dtype: int64\n",
      "(145410, 20)\n"
     ]
    }
   ],
   "source": [
    "#Creamos una función:\n",
    "def num_missing(x):\n",
    "    return sum(x.isnull()) \n",
    "print (\"Valores perdidos por columna\")\n",
    "print (X2.apply(num_missing, axis=0)) #axis = 0, columna, num_mising para cada columna cuenta los nulos  \n",
    "print(X2.shape) #tamaño\n"
   ]
  },
  {
   "cell_type": "code",
   "execution_count": 985,
   "metadata": {},
   "outputs": [],
   "source": [
    "#X2[\"SEGMENTONSE\"]=X2[\"SEGMENTONSE\"].fillna(value = 6) \n",
    "#X2[\"Flg_usoRCC201908\"] = X2[\"Flg_usoRCC201908\"].fillna(value = 0)\n",
    "X2[\"ConsumoAnual201808_201908\"] = X2[\"ConsumoAnual201808_201908\"].fillna(value = 0)\n",
    "X2[\"NroTransaccionAnual201808_201908\"] = X2[\"NroTransaccionAnual201808_201908\"].fillna(value = 0)\n"
   ]
  },
  {
   "cell_type": "code",
   "execution_count": 986,
   "metadata": {},
   "outputs": [
    {
     "data": {
      "image/png": "[encoded data removed]",
      "text/plain": [
       "<Figure size 576x576 with 2 Axes>"
      ]
     },
     "metadata": {
      "needs_background": "light"
     },
     "output_type": "display_data"
    },
    {
     "name": "stdout",
     "output_type": "stream",
     "text": [
      "              precision    recall  f1-score   support\n",
      "\n",
      "           0       0.96      0.78      0.86    135478\n",
      "           1       0.15      0.55      0.24      9932\n",
      "\n",
      "    accuracy                           0.76    145410\n",
      "   macro avg       0.56      0.67      0.55    145410\n",
      "weighted avg       0.90      0.76      0.82    145410\n",
      "\n"
     ]
    }
   ],
   "source": [
    "y_pred = lr.predict(X2)\n",
    "mostrar_resultados(y2, y_pred)"
   ]
  },
  {
   "cell_type": "code",
   "execution_count": 843,
   "metadata": {},
   "outputs": [
    {
     "name": "stdout",
     "output_type": "stream",
     "text": [
      "ROC AUC score: 0.6566374861361841\n"
     ]
    }
   ],
   "source": [
    "score = roc_auc_score(y2,y_pred)\n",
    "print('ROC AUC score:',score)"
   ]
  },
  {
   "cell_type": "markdown",
   "metadata": {},
   "source": [
    "## base 201905\n"
   ]
  },
  {
   "cell_type": "code",
   "execution_count": 988,
   "metadata": {},
   "outputs": [],
   "source": [
    "datos4 = pd.read_excel(\"C:/Users/avelasque/Desktop/cliente/TABLAVF5.xlsx\")"
   ]
  },
  {
   "cell_type": "code",
   "execution_count": 989,
   "metadata": {},
   "outputs": [
    {
     "data": {
      "text/plain": [
       "BUEN CLIENTE    129623\n",
       "MAL CLIENTE       8330\n",
       "Name: FlagCliente, dtype: int64"
      ]
     },
     "execution_count": 989,
     "metadata": {},
     "output_type": "execute_result"
    }
   ],
   "source": [
    "pd.value_counts(datos4['FlagCliente'])"
   ]
  },
  {
   "cell_type": "code",
   "execution_count": 990,
   "metadata": {},
   "outputs": [],
   "source": [
    "df_train4=datos4.copy()\n",
    "#Tipo de datos 545\n",
    "feature_columns = {}\n",
    "\n",
    "feature_columns['categorical'] = df_train4.select_dtypes(include = ['object']).columns.values.tolist()\n",
    "feature_columns['int'] = df_train4.select_dtypes(include = ['integer']).columns.values.tolist()\n",
    "feature_columns['float'] = df_train4.select_dtypes(include = ['float32','float64']).columns.values.tolist()\n",
    "feature_columns['numerical'] = feature_columns['int'] + feature_columns['float']\n",
    "feature_columns[\"categorical\"]\n",
    "del feature_columns[\"categorical\"][-1] #elimino flagcliente"
   ]
  },
  {
   "cell_type": "code",
   "execution_count": 991,
   "metadata": {},
   "outputs": [
    {
     "name": "stdout",
     "output_type": "stream",
     "text": [
      "sexo\n",
      "estadocivil\n",
      "departamento\n",
      "estado\n",
      "nombre_producto\n",
      "flg_situacionlaboral_oscar\n",
      "porc_uso_linea\n",
      "flg_ppd\n",
      "flg_usodisef\n",
      "zona_apein\n",
      "FLGRCC\n",
      "segmentoNSE\n",
      "tipo_seguro\n",
      "FlagCliente\n"
     ]
    }
   ],
   "source": [
    "for l in feature_columns[\"categorical\"] +[\"FlagCliente\"]:\n",
    "    print(l) \n",
    "    me = preprocessing.LabelEncoder()\n",
    "    \n",
    "    df_train4.loc[df_train4[l].notnull(),l]=df_train4.loc[df_train4[l].notnull(),l].astype(str)\n",
    "    \n",
    "    #test.loc[test[l].notnull(),l]=test.loc[test[l].notnull(),l].astype(str)\n",
    "\n",
    "    \n",
    "    me.fit(list(df_train4[l].dropna())+list(df_train4[l].dropna()))\n",
    "    \n",
    "    df_train4.loc[~df_train4[l].isnull(),l]=me.transform(df_train4.loc[~df_train4[l].isnull(),l])\n",
    "\n",
    "    #test.loc[~df_train[l].isnull(),l]=me.transform(df_train.loc[~df_train[l].isnull(),l])\n",
    "#test=test.drop('FlagCliente', axis=1)"
   ]
  },
  {
   "cell_type": "code",
   "execution_count": 992,
   "metadata": {},
   "outputs": [
    {
     "data": {
      "text/plain": [
       "['HabitoPago201908',\n",
       " 'FLGRCC',\n",
       " 'linea_credito_usd',\n",
       " 'linea_credito_soles',\n",
       " 'ConsumoAnual201808_201908',\n",
       " 'HabitoPago201906',\n",
       " 'NroTransaccionAnual201808_201908',\n",
       " 'HabitoPago201905',\n",
       " 'HabitoPago201907',\n",
       " 'HabitoPago201904',\n",
       " 'flagdiseftcexterno',\n",
       " 'HabitoPago201903',\n",
       " 'flg_usodisef',\n",
       " 'segmentoNSE',\n",
       " 'tipo_seguro',\n",
       " 'nombre_producto',\n",
       " 'flagpld',\n",
       " 'zona_apein',\n",
       " 'flg_situacionlaboral_oscar',\n",
       " 'edad']"
      ]
     },
     "execution_count": 992,
     "metadata": {},
     "output_type": "execute_result"
    }
   ],
   "source": [
    "features3"
   ]
  },
  {
   "cell_type": "code",
   "execution_count": 993,
   "metadata": {},
   "outputs": [],
   "source": [
    "features4 = ['HabitoPago201905',\n",
    " 'FLGRCC',\n",
    " 'linea_credito_usd',\n",
    " 'linea_credito_soles',\n",
    " 'ConsumoAnual201805_201905',\n",
    " 'HabitoPago201903',\n",
    " 'NroTransaccionAnual201805_201905',\n",
    " 'HabitoPago201902',\n",
    " 'HabitoPago201904',\n",
    " 'HabitoPago201901',\n",
    " 'flagdiseftcexterno',\n",
    " 'HabitoPago201812',\n",
    " 'flg_usodisef',\n",
    " 'segmentoNSE',\n",
    " 'tipo_seguro',\n",
    " 'nombre_producto',\n",
    " 'flagpld',\n",
    " 'zona_apein',\n",
    " 'flg_situacionlaboral_oscar',\n",
    " 'edad']"
   ]
  },
  {
   "cell_type": "code",
   "execution_count": 994,
   "metadata": {},
   "outputs": [],
   "source": [
    "y1 = df_train4['FlagCliente']\n",
    "remover = [\"idencuenta\",\"numdoc\",'FlagCliente']#,'HabitoPago201906','HabitoPago201907']\n",
    "X1 = df_train4.drop(remover, axis=1)\n",
    "\n",
    "X2 = X1[features4].copy()\n",
    "y2 = y1.copy()"
   ]
  },
  {
   "cell_type": "code",
   "execution_count": 995,
   "metadata": {},
   "outputs": [
    {
     "name": "stdout",
     "output_type": "stream",
     "text": [
      "Valores perdidos por columna\n",
      "HabitoPago201905                       0\n",
      "FLGRCC                                 0\n",
      "linea_credito_usd                      0\n",
      "linea_credito_soles                    0\n",
      "ConsumoAnual201805_201905           6286\n",
      "HabitoPago201903                       0\n",
      "NroTransaccionAnual201805_201905    6286\n",
      "HabitoPago201902                       0\n",
      "HabitoPago201904                       0\n",
      "HabitoPago201901                       0\n",
      "flagdiseftcexterno                     0\n",
      "HabitoPago201812                       0\n",
      "flg_usodisef                           0\n",
      "segmentoNSE                            0\n",
      "tipo_seguro                            0\n",
      "nombre_producto                        0\n",
      "flagpld                                0\n",
      "zona_apein                             0\n",
      "flg_situacionlaboral_oscar             0\n",
      "edad                                   0\n",
      "dtype: int64\n",
      "(137953, 20)\n"
     ]
    }
   ],
   "source": [
    "#Creamos una función:\n",
    "def num_missing(x):\n",
    "    return sum(x.isnull()) \n",
    "print (\"Valores perdidos por columna\")\n",
    "print (X2.apply(num_missing, axis=0)) #axis = 0, columna, num_mising para cada columna cuenta los nulos  \n",
    "print(X2.shape) #tamaño\n"
   ]
  },
  {
   "cell_type": "code",
   "execution_count": 996,
   "metadata": {},
   "outputs": [],
   "source": [
    "#X2[\"SEGMENTONSE\"]=X2[\"SEGMENTONSE\"].fillna(value = 6) \n",
    "#X2[\"Flg_usoRCC201908\"] = X2[\"Flg_usoRCC201908\"].fillna(value = 0)\n",
    "X2[\"ConsumoAnual201805_201905\"] = X2[\"ConsumoAnual201805_201905\"].fillna(value = 0)\n",
    "X2[\"NroTransaccionAnual201805_201905\"] = X2[\"NroTransaccionAnual201805_201905\"].fillna(value = 0)"
   ]
  },
  {
   "cell_type": "code",
   "execution_count": 997,
   "metadata": {},
   "outputs": [
    {
     "data": {
      "image/png": "[encoded data removed]",
      "text/plain": [
       "<Figure size 576x576 with 2 Axes>"
      ]
     },
     "metadata": {
      "needs_background": "light"
     },
     "output_type": "display_data"
    },
    {
     "name": "stdout",
     "output_type": "stream",
     "text": [
      "              precision    recall  f1-score   support\n",
      "\n",
      "           0       0.96      0.79      0.87    129623\n",
      "           1       0.14      0.55      0.22      8330\n",
      "\n",
      "    accuracy                           0.77    137953\n",
      "   macro avg       0.55      0.67      0.54    137953\n",
      "weighted avg       0.91      0.77      0.83    137953\n",
      "\n"
     ]
    }
   ],
   "source": [
    "y_pred = lr.predict(X2)\n",
    "mostrar_resultados(y2, y_pred)"
   ]
  },
  {
   "cell_type": "markdown",
   "metadata": {},
   "source": [
    "## base 201904\n"
   ]
  },
  {
   "cell_type": "code",
   "execution_count": 998,
   "metadata": {},
   "outputs": [],
   "source": [
    "datos5 = pd.read_excel(\"C:/Users/avelasque/Desktop/cliente/TABLAVF4.xlsx\")"
   ]
  },
  {
   "cell_type": "code",
   "execution_count": 999,
   "metadata": {},
   "outputs": [
    {
     "data": {
      "text/plain": [
       "BUEN CLIENTE    134577\n",
       "MAL CLIENTE       8620\n",
       "Name: FlagCliente, dtype: int64"
      ]
     },
     "execution_count": 999,
     "metadata": {},
     "output_type": "execute_result"
    }
   ],
   "source": [
    "pd.value_counts(datos5['FlagCliente'])"
   ]
  },
  {
   "cell_type": "code",
   "execution_count": 1000,
   "metadata": {},
   "outputs": [],
   "source": [
    "df_train5 = datos5.copy()\n",
    "#Tipo de datos \n",
    "feature_columns = {}\n",
    "\n",
    "feature_columns['categorical'] = df_train5.select_dtypes(include = ['object']).columns.values.tolist()\n",
    "feature_columns['int'] = df_train5.select_dtypes(include = ['integer']).columns.values.tolist()\n",
    "feature_columns['float'] = df_train5.select_dtypes(include = ['float32','float64']).columns.values.tolist()\n",
    "feature_columns['numerical'] = feature_columns['int'] + feature_columns['float']\n",
    "feature_columns[\"categorical\"]\n",
    "del feature_columns[\"categorical\"][-1] #elimino flagcliente"
   ]
  },
  {
   "cell_type": "code",
   "execution_count": 1001,
   "metadata": {},
   "outputs": [
    {
     "name": "stdout",
     "output_type": "stream",
     "text": [
      "sexo\n",
      "estadocivil\n",
      "departamento\n",
      "estado\n",
      "nombre_producto\n",
      "flg_situacionlaboral_oscar\n",
      "porc_uso_linea\n",
      "flg_ppd\n",
      "flg_usodisef\n",
      "zona_apein\n",
      "FLGRCC\n",
      "segmentoNSE\n",
      "tipo_seguro\n",
      "FlagCliente\n"
     ]
    }
   ],
   "source": [
    "for l in feature_columns[\"categorical\"] +[\"FlagCliente\"]:\n",
    "    print(l) \n",
    "    me = preprocessing.LabelEncoder()\n",
    "    \n",
    "    df_train5.loc[df_train5[l].notnull(),l]=df_train5.loc[df_train5[l].notnull(),l].astype(str)\n",
    "    \n",
    "    #test.loc[test[l].notnull(),l]=test.loc[test[l].notnull(),l].astype(str)\n",
    "\n",
    "    \n",
    "    me.fit(list(df_train5[l].dropna())+list(df_train5[l].dropna()))\n",
    "    \n",
    "    df_train5.loc[~df_train5[l].isnull(),l]=me.transform(df_train5.loc[~df_train5[l].isnull(),l])\n",
    "\n",
    "    #test.loc[~df_train[l].isnull(),l]=me.transform(df_train.loc[~df_train[l].isnull(),l])\n",
    "#test=test.drop('FlagCliente', axis=1)"
   ]
  },
  {
   "cell_type": "code",
   "execution_count": 1002,
   "metadata": {},
   "outputs": [],
   "source": [
    "features5 = ['HabitoPago201904',\n",
    " 'FLGRCC',\n",
    " 'linea_credito_usd',\n",
    " 'linea_credito_soles',\n",
    " 'ConsumoAnual201804_201904',\n",
    " 'HabitoPago201902',\n",
    " 'NroTransaccionAnual201804_201904',\n",
    " 'HabitoPago201901',\n",
    " 'HabitoPago201903',\n",
    " 'HabitoPago201812',\n",
    " 'flagdiseftcexterno',\n",
    " 'HabitoPago201811',\n",
    " 'flg_usodisef',\n",
    " 'segmentoNSE',\n",
    " 'tipo_seguro',\n",
    " 'nombre_producto',\n",
    " 'flagpld',\n",
    " 'zona_apein',\n",
    " 'flg_situacionlaboral_oscar',\n",
    " 'edad']"
   ]
  },
  {
   "cell_type": "code",
   "execution_count": 1003,
   "metadata": {},
   "outputs": [],
   "source": [
    "y1 = df_train5['FlagCliente']\n",
    "remover = [\"idencuenta\",\"numdoc\",'FlagCliente']#,'HabitoPago201906','HabitoPago201907']\n",
    "X1 = df_train5.drop(remover, axis=1)\n",
    "\n",
    "X2 = X1[features5].copy()\n",
    "y2 = y1.copy()"
   ]
  },
  {
   "cell_type": "code",
   "execution_count": 1004,
   "metadata": {},
   "outputs": [
    {
     "name": "stdout",
     "output_type": "stream",
     "text": [
      "Valores perdidos por columna\n",
      "HabitoPago201904                       0\n",
      "FLGRCC                                 0\n",
      "linea_credito_usd                      0\n",
      "linea_credito_soles                    0\n",
      "ConsumoAnual201804_201904           6569\n",
      "HabitoPago201902                       0\n",
      "NroTransaccionAnual201804_201904    6569\n",
      "HabitoPago201901                       0\n",
      "HabitoPago201903                       0\n",
      "HabitoPago201812                       0\n",
      "flagdiseftcexterno                     0\n",
      "HabitoPago201811                       0\n",
      "flg_usodisef                           0\n",
      "segmentoNSE                            0\n",
      "tipo_seguro                            0\n",
      "nombre_producto                        0\n",
      "flagpld                                0\n",
      "zona_apein                             0\n",
      "flg_situacionlaboral_oscar             0\n",
      "edad                                   0\n",
      "dtype: int64\n",
      "(143197, 20)\n"
     ]
    }
   ],
   "source": [
    "#Creamos una función:\n",
    "def num_missing(x):\n",
    "    return sum(x.isnull()) \n",
    "print (\"Valores perdidos por columna\")\n",
    "print (X2.apply(num_missing, axis=0)) #axis = 0, columna, num_mising para cada columna cuenta los nulos  \n",
    "print(X2.shape) #tamaño"
   ]
  },
  {
   "cell_type": "code",
   "execution_count": 1005,
   "metadata": {},
   "outputs": [],
   "source": [
    "#X2[\"SEGMENTONSE\"]=X2[\"SEGMENTONSE\"].fillna(value = 6) \n",
    "#X2[\"Flg_usoRCC201908\"] = X2[\"Flg_usoRCC201908\"].fillna(value = 0)\n",
    "X2[\"ConsumoAnual201804_201904\"] = X2[\"ConsumoAnual201804_201904\"].fillna(value = 0)\n",
    "X2[\"NroTransaccionAnual201804_201904\"] = X2[\"NroTransaccionAnual201804_201904\"].fillna(value = 0)"
   ]
  },
  {
   "cell_type": "code",
   "execution_count": 1006,
   "metadata": {},
   "outputs": [
    {
     "data": {
      "image/png": "[encoded data removed]",
      "text/plain": [
       "<Figure size 576x576 with 2 Axes>"
      ]
     },
     "metadata": {
      "needs_background": "light"
     },
     "output_type": "display_data"
    },
    {
     "name": "stdout",
     "output_type": "stream",
     "text": [
      "              precision    recall  f1-score   support\n",
      "\n",
      "           0       0.97      0.78      0.86    134577\n",
      "           1       0.14      0.56      0.22      8620\n",
      "\n",
      "    accuracy                           0.77    143197\n",
      "   macro avg       0.55      0.67      0.54    143197\n",
      "weighted avg       0.92      0.77      0.82    143197\n",
      "\n"
     ]
    }
   ],
   "source": [
    "y_pred = lr.predict(X2)\n",
    "mostrar_resultados(y2, y_pred)"
   ]
  },
  {
   "cell_type": "code",
   "execution_count": 1007,
   "metadata": {},
   "outputs": [
    {
     "name": "stdout",
     "output_type": "stream",
     "text": [
      "ROC AUC score: 0.6699458664733928\n"
     ]
    }
   ],
   "source": [
    "score = roc_auc_score(y2,y_pred)\n",
    "print('ROC AUC score:',score)"
   ]
  },
  {
   "cell_type": "code",
   "execution_count": 1008,
   "metadata": {},
   "outputs": [
    {
     "data": {
      "text/plain": [
       "0.33989173294678565"
      ]
     },
     "execution_count": 1008,
     "metadata": {},
     "output_type": "execute_result"
    }
   ],
   "source": [
    "2* score -1"
   ]
  },
  {
   "cell_type": "markdown",
   "metadata": {},
   "source": [
    "## BASE 201903\n"
   ]
  },
  {
   "cell_type": "code",
   "execution_count": 1009,
   "metadata": {},
   "outputs": [],
   "source": [
    "datos6 = pd.read_excel(\"C:/Users/avelasque/Desktop/cliente/TABLAVF3.xlsx\")"
   ]
  },
  {
   "cell_type": "code",
   "execution_count": 1010,
   "metadata": {},
   "outputs": [
    {
     "data": {
      "text/plain": [
       "BUEN CLIENTE    132446\n",
       "MAL CLIENTE       8349\n",
       "Name: FlagCliente, dtype: int64"
      ]
     },
     "execution_count": 1010,
     "metadata": {},
     "output_type": "execute_result"
    }
   ],
   "source": [
    "pd.value_counts(datos6['FlagCliente'])"
   ]
  },
  {
   "cell_type": "code",
   "execution_count": 1011,
   "metadata": {},
   "outputs": [],
   "source": [
    "df_train6 = datos6.copy()\n",
    "#Tipo de datos \n",
    "feature_columns = {}\n",
    "\n",
    "feature_columns['categorical'] = df_train6.select_dtypes(include = ['object']).columns.values.tolist()\n",
    "feature_columns['int'] = df_train6.select_dtypes(include = ['integer']).columns.values.tolist()\n",
    "feature_columns['float'] = df_train6.select_dtypes(include = ['float32','float64']).columns.values.tolist()\n",
    "feature_columns['numerical'] = feature_columns['int'] + feature_columns['float']\n",
    "feature_columns[\"categorical\"]\n",
    "del feature_columns[\"categorical\"][-1] #elimino flagcliente"
   ]
  },
  {
   "cell_type": "code",
   "execution_count": 1012,
   "metadata": {},
   "outputs": [
    {
     "name": "stdout",
     "output_type": "stream",
     "text": [
      "sexo\n",
      "estadocivil\n",
      "departamento\n",
      "estado\n",
      "nombre_producto\n",
      "flg_situacionlaboral_oscar\n",
      "porc_uso_linea\n",
      "flg_ppd\n",
      "flg_usodisef\n",
      "zona_apein\n",
      "FLGRCC\n",
      "segmentoNSE\n",
      "tipo_seguro\n",
      "FlagCliente\n"
     ]
    }
   ],
   "source": [
    "for l in feature_columns[\"categorical\"] +[\"FlagCliente\"]:\n",
    "    print(l) \n",
    "    me = preprocessing.LabelEncoder()\n",
    "    \n",
    "    df_train6.loc[df_train6[l].notnull(),l]=df_train6.loc[df_train6[l].notnull(),l].astype(str)\n",
    "    \n",
    "    #test.loc[test[l].notnull(),l]=test.loc[test[l].notnull(),l].astype(str)\n",
    "\n",
    "    \n",
    "    me.fit(list(df_train6[l].dropna())+list(df_train6[l].dropna()))\n",
    "    \n",
    "    df_train6.loc[~df_train6[l].isnull(),l]=me.transform(df_train6.loc[~df_train6[l].isnull(),l])\n",
    "\n",
    "    #test.loc[~df_train[l].isnull(),l]=me.transform(df_train.loc[~df_train[l].isnull(),l])\n",
    "#test=test.drop('FlagCliente', axis=1)"
   ]
  },
  {
   "cell_type": "code",
   "execution_count": 1013,
   "metadata": {},
   "outputs": [],
   "source": [
    "features6 = ['HabitoPago201903',\n",
    " 'FLGRCC',\n",
    " 'linea_credito_usd',\n",
    " 'linea_credito_soles',\n",
    " 'ConsumoAnual201803_201903',\n",
    " 'HabitoPago201901',\n",
    " 'NroTransaccionAnual201803_201903',\n",
    " 'HabitoPago201812',\n",
    " 'HabitoPago201902',\n",
    " 'HabitoPago201811',\n",
    " 'flagdiseftcexterno',\n",
    " 'HabitoPago201810',\n",
    " 'flg_usodisef',\n",
    " 'segmentoNSE',\n",
    " 'tipo_seguro',\n",
    " 'nombre_producto',\n",
    " 'flagpld',\n",
    " 'zona_apein',\n",
    " 'flg_situacionlaboral_oscar',\n",
    " 'edad']"
   ]
  },
  {
   "cell_type": "code",
   "execution_count": 1014,
   "metadata": {},
   "outputs": [],
   "source": [
    "y1 = df_train6['FlagCliente']\n",
    "remover = [\"idencuenta\",\"numdoc\",'FlagCliente']#,'HabitoPago201906','HabitoPago201907']\n",
    "X1 = df_train6.drop(remover, axis=1)\n",
    "\n",
    "X2 = X1[features6].copy()\n",
    "y2 = y1.copy()"
   ]
  },
  {
   "cell_type": "code",
   "execution_count": 1015,
   "metadata": {},
   "outputs": [
    {
     "name": "stdout",
     "output_type": "stream",
     "text": [
      "Valores perdidos por columna\n",
      "HabitoPago201903                       0\n",
      "FLGRCC                                 0\n",
      "linea_credito_usd                      0\n",
      "linea_credito_soles                    0\n",
      "ConsumoAnual201803_201903           7017\n",
      "HabitoPago201901                       0\n",
      "NroTransaccionAnual201803_201903    7017\n",
      "HabitoPago201812                       0\n",
      "HabitoPago201902                       0\n",
      "HabitoPago201811                       0\n",
      "flagdiseftcexterno                     0\n",
      "HabitoPago201810                       0\n",
      "flg_usodisef                           0\n",
      "segmentoNSE                            0\n",
      "tipo_seguro                            0\n",
      "nombre_producto                        0\n",
      "flagpld                                0\n",
      "zona_apein                             0\n",
      "flg_situacionlaboral_oscar             0\n",
      "edad                                   0\n",
      "dtype: int64\n",
      "(140795, 20)\n"
     ]
    }
   ],
   "source": [
    "#Creamos una función:\n",
    "def num_missing(x):\n",
    "    return sum(x.isnull()) \n",
    "print (\"Valores perdidos por columna\")\n",
    "print (X2.apply(num_missing, axis=0)) #axis = 0, columna, num_mising para cada columna cuenta los nulos  \n",
    "print(X2.shape) #tamaño"
   ]
  },
  {
   "cell_type": "code",
   "execution_count": 1016,
   "metadata": {},
   "outputs": [],
   "source": [
    "#X2[\"SEGMENTONSE\"]=X2[\"SEGMENTONSE\"].fillna(value = 6) \n",
    "#X2[\"Flg_usoRCC201908\"] = X2[\"Flg_usoRCC201908\"].fillna(value = 0)\n",
    "X2[\"ConsumoAnual201803_201903\"] = X2[\"ConsumoAnual201803_201903\"].fillna(value = 0)\n",
    "X2[\"NroTransaccionAnual201803_201903\"] = X2[\"NroTransaccionAnual201803_201903\"].fillna(value = 0)"
   ]
  },
  {
   "cell_type": "code",
   "execution_count": 1017,
   "metadata": {},
   "outputs": [
    {
     "data": {
      "image/png": "[encoded data removed]",
      "text/plain": [
       "<Figure size 576x576 with 2 Axes>"
      ]
     },
     "metadata": {
      "needs_background": "light"
     },
     "output_type": "display_data"
    },
    {
     "name": "stdout",
     "output_type": "stream",
     "text": [
      "              precision    recall  f1-score   support\n",
      "\n",
      "           0       0.97      0.78      0.87    132446\n",
      "           1       0.14      0.57      0.23      8349\n",
      "\n",
      "    accuracy                           0.77    140795\n",
      "   macro avg       0.56      0.68      0.55    140795\n",
      "weighted avg       0.92      0.77      0.83    140795\n",
      "\n"
     ]
    }
   ],
   "source": [
    "y_pred = lr.predict(X2)\n",
    "mostrar_resultados(y2, y_pred)"
   ]
  },
  {
   "cell_type": "markdown",
   "metadata": {},
   "source": [
    "# BASE201909"
   ]
  },
  {
   "cell_type": "code",
   "execution_count": 1018,
   "metadata": {},
   "outputs": [],
   "source": [
    "datos7 = pd.read_excel(\"C:/Users/avelasque/Desktop/cliente/TABLAVF9.xlsx\")"
   ]
  },
  {
   "cell_type": "code",
   "execution_count": 1019,
   "metadata": {},
   "outputs": [
    {
     "data": {
      "text/plain": [
       "BUEN CLIENTE    145924\n",
       "MAL CLIENTE       9526\n",
       "Name: FlagCliente, dtype: int64"
      ]
     },
     "execution_count": 1019,
     "metadata": {},
     "output_type": "execute_result"
    }
   ],
   "source": [
    "pd.value_counts(datos7['FlagCliente'])"
   ]
  },
  {
   "cell_type": "code",
   "execution_count": 1020,
   "metadata": {},
   "outputs": [],
   "source": [
    "df_train7 = datos7.copy()\n",
    "#Tipo de datos \n",
    "feature_columns = {}\n",
    "\n",
    "feature_columns['categorical'] = df_train7.select_dtypes(include = ['object']).columns.values.tolist()\n",
    "feature_columns['int'] = df_train7.select_dtypes(include = ['integer']).columns.values.tolist()\n",
    "feature_columns['float'] = df_train7.select_dtypes(include = ['float32','float64']).columns.values.tolist()\n",
    "feature_columns['numerical'] = feature_columns['int'] + feature_columns['float']\n",
    "feature_columns[\"categorical\"]\n",
    "del feature_columns[\"categorical\"][-1] #elimino flagcliente"
   ]
  },
  {
   "cell_type": "code",
   "execution_count": 1021,
   "metadata": {},
   "outputs": [
    {
     "name": "stdout",
     "output_type": "stream",
     "text": [
      "sexo\n",
      "estadocivil\n",
      "departamento\n",
      "estado\n",
      "nombre_producto\n",
      "flg_situacionlaboral_oscar\n",
      "porc_uso_linea\n",
      "flg_ppd\n",
      "flg_usodisef\n",
      "zona_apein\n",
      "FLGRCC\n",
      "segmentoNSE\n",
      "tipo_seguro\n",
      "FlagCliente\n"
     ]
    }
   ],
   "source": [
    "for l in feature_columns[\"categorical\"] +[\"FlagCliente\"]:\n",
    "    print(l) \n",
    "    me = preprocessing.LabelEncoder()\n",
    "    \n",
    "    df_train7.loc[df_train7[l].notnull(),l]=df_train7.loc[df_train7[l].notnull(),l].astype(str)\n",
    "    \n",
    "    #test.loc[test[l].notnull(),l]=test.loc[test[l].notnull(),l].astype(str)\n",
    "\n",
    "    \n",
    "    me.fit(list(df_train7[l].dropna())+list(df_train7[l].dropna()))\n",
    "    \n",
    "    df_train7.loc[~df_train7[l].isnull(),l]=me.transform(df_train7.loc[~df_train7[l].isnull(),l])\n",
    "\n",
    "    #test.loc[~df_train[l].isnull(),l]=me.transform(df_train.loc[~df_train[l].isnull(),l])\n",
    "#test=test.drop('FlagCliente', axis=1)"
   ]
  },
  {
   "cell_type": "code",
   "execution_count": 1022,
   "metadata": {},
   "outputs": [],
   "source": [
    "features7 = ['HabitoPago201909',\n",
    " 'FLGRCC',\n",
    " 'linea_credito_usd',\n",
    " 'linea_credito_soles',\n",
    " 'ConsumoAnual201809_201909',\n",
    " 'HabitoPago201907',\n",
    " 'NroTransaccionAnual201809_201909',\n",
    " 'HabitoPago201906',\n",
    " 'HabitoPago201908',\n",
    " 'HabitoPago201905',\n",
    " 'flagdiseftcexterno',\n",
    " 'HabitoPago201904',\n",
    " 'flg_usodisef',\n",
    " 'segmentoNSE',\n",
    " 'tipo_seguro',\n",
    " 'nombre_producto',\n",
    " 'flagpld',\n",
    " 'zona_apein',\n",
    " 'flg_situacionlaboral_oscar',\n",
    " 'edad']"
   ]
  },
  {
   "cell_type": "code",
   "execution_count": 1023,
   "metadata": {},
   "outputs": [],
   "source": [
    "y1 = df_train7['FlagCliente']\n",
    "remover = [\"idencuenta\",\"numdoc\",'FlagCliente']#,'HabitoPago201906','HabitoPago201907']\n",
    "X1 = df_train7.drop(remover, axis=1)\n",
    "\n",
    "X2 = X1[features7].copy()\n",
    "y2 = y1.copy()"
   ]
  },
  {
   "cell_type": "code",
   "execution_count": 1024,
   "metadata": {},
   "outputs": [
    {
     "name": "stdout",
     "output_type": "stream",
     "text": [
      "Valores perdidos por columna\n",
      "HabitoPago201909                       0\n",
      "FLGRCC                                 0\n",
      "linea_credito_usd                      0\n",
      "linea_credito_soles                    0\n",
      "ConsumoAnual201809_201909           7891\n",
      "HabitoPago201907                       0\n",
      "NroTransaccionAnual201809_201909    7891\n",
      "HabitoPago201906                       0\n",
      "HabitoPago201908                       0\n",
      "HabitoPago201905                       0\n",
      "flagdiseftcexterno                     0\n",
      "HabitoPago201904                       0\n",
      "flg_usodisef                           0\n",
      "segmentoNSE                            0\n",
      "tipo_seguro                            0\n",
      "nombre_producto                        0\n",
      "flagpld                                0\n",
      "zona_apein                             0\n",
      "flg_situacionlaboral_oscar             0\n",
      "edad                                   0\n",
      "dtype: int64\n",
      "(155450, 20)\n"
     ]
    }
   ],
   "source": [
    "#Creamos una función:\n",
    "def num_missing(x):\n",
    "    return sum(x.isnull()) \n",
    "print (\"Valores perdidos por columna\")\n",
    "print (X2.apply(num_missing, axis=0)) #axis = 0, columna, num_mising para cada columna cuenta los nulos  \n",
    "print(X2.shape) #tamaño"
   ]
  },
  {
   "cell_type": "code",
   "execution_count": 1025,
   "metadata": {},
   "outputs": [],
   "source": [
    "#X2[\"SEGMENTONSE\"]=X2[\"SEGMENTONSE\"].fillna(value = 6) \n",
    "#X2[\"Flg_usoRCC201908\"] = X2[\"Flg_usoRCC201908\"].fillna(value = 0)\n",
    "X2[\"ConsumoAnual201809_201909\"] = X2[\"ConsumoAnual201809_201909\"].fillna(value = 0)\n",
    "X2[\"NroTransaccionAnual201809_201909\"] = X2[\"NroTransaccionAnual201809_201909\"].fillna(value = 0)"
   ]
  },
  {
   "cell_type": "code",
   "execution_count": 1026,
   "metadata": {},
   "outputs": [
    {
     "data": {
      "image/png": "[encoded data removed]",
      "text/plain": [
       "<Figure size 576x576 with 2 Axes>"
      ]
     },
     "metadata": {
      "needs_background": "light"
     },
     "output_type": "display_data"
    },
    {
     "name": "stdout",
     "output_type": "stream",
     "text": [
      "              precision    recall  f1-score   support\n",
      "\n",
      "           0       0.97      0.76      0.85    145924\n",
      "           1       0.14      0.59      0.22      9526\n",
      "\n",
      "    accuracy                           0.75    155450\n",
      "   macro avg       0.55      0.67      0.53    155450\n",
      "weighted avg       0.92      0.75      0.81    155450\n",
      "\n"
     ]
    }
   ],
   "source": [
    "y_pred = lr.predict(X2)\n",
    "mostrar_resultados(y2, y_pred)"
   ]
  },
  {
   "cell_type": "markdown",
   "metadata": {},
   "source": [
    "### prueba 2"
   ]
  },
  {
   "cell_type": "code",
   "execution_count": 1027,
   "metadata": {},
   "outputs": [
    {
     "data": {
      "text/plain": [
       "0.13541023888740156"
      ]
     },
     "execution_count": 1027,
     "metadata": {},
     "output_type": "execute_result"
    }
   ],
   "source": [
    "sklearn.metrics.cohen_kappa_score(y2, y_pred)"
   ]
  },
  {
   "cell_type": "code",
   "execution_count": 894,
   "metadata": {},
   "outputs": [],
   "source": [
    "datos = pd.read_excel(\"C:/Users/avelasque/Desktop/cliente/TABLAVP6.xlsx\")"
   ]
  },
  {
   "cell_type": "code",
   "execution_count": 895,
   "metadata": {},
   "outputs": [
    {
     "data": {
      "text/plain": [
       "BUEN CLIENTE    96.016889\n",
       "MAL CLIENTE      3.983111\n",
       "Name: FlagCliente, dtype: float64"
      ]
     },
     "execution_count": 895,
     "metadata": {},
     "output_type": "execute_result"
    }
   ],
   "source": [
    "100 * datos['FlagCliente'].value_counts() / len(datos['FlagCliente'])"
   ]
  },
  {
   "cell_type": "code",
   "execution_count": 896,
   "metadata": {},
   "outputs": [],
   "source": [
    "df_t=datos.copy()"
   ]
  },
  {
   "cell_type": "code",
   "execution_count": 897,
   "metadata": {},
   "outputs": [],
   "source": [
    "#Tipo de datos \n",
    "feature_columns = {}\n",
    "\n",
    "feature_columns['categorical'] = df_t.select_dtypes(include = ['object']).columns.values.tolist()\n",
    "feature_columns['int'] = df_t.select_dtypes(include = ['integer']).columns.values.tolist()\n",
    "feature_columns['float'] = df_t.select_dtypes(include = ['float32','float64']).columns.values.tolist()\n",
    "feature_columns['numerical'] = feature_columns['int'] + feature_columns['float']\n",
    "feature_columns[\"categorical\"]\n",
    "del feature_columns[\"categorical\"][-1] #elimino flagcliente"
   ]
  },
  {
   "cell_type": "code",
   "execution_count": 898,
   "metadata": {},
   "outputs": [
    {
     "name": "stdout",
     "output_type": "stream",
     "text": [
      "sexo\n",
      "estadocivil\n",
      "departamento\n",
      "estado\n",
      "nombre_producto\n",
      "flg_situacionlaboral_oscar\n",
      "porc_uso_linea\n",
      "flg_ppd\n",
      "flg_usodisef\n",
      "zona_apein\n",
      "FLGRCC\n",
      "segmentoNSE\n",
      "tipo_seguro\n",
      "FlagCliente\n"
     ]
    }
   ],
   "source": [
    "#TRANSFORMACIÓN DE LAS VARIABLES\n",
    "for l in feature_columns[\"categorical\"] +[\"FlagCliente\"]:\n",
    "    print(l) \n",
    "    me = preprocessing.LabelEncoder()\n",
    "    \n",
    "    df_t.loc[df_t[l].notnull(),l]=df_t.loc[df_t[l].notnull(),l].astype(str)\n",
    "    \n",
    "    #test.loc[test[l].notnull(),l]=test.loc[test[l].notnull(),l].astype(str)\n",
    "\n",
    "    \n",
    "    me.fit(list(df_t[l].dropna())+list(df_t[l].dropna()))\n",
    "    \n",
    "    df_t.loc[~df_t[l].isnull(),l]=me.transform(df_t.loc[~df_t[l].isnull(),l])\n"
   ]
  },
  {
   "cell_type": "code",
   "execution_count": 899,
   "metadata": {
    "collapsed": true
   },
   "outputs": [
    {
     "name": "stdout",
     "output_type": "stream",
     "text": [
      "Valores perdidos por columna\n"
     ]
    },
    {
     "data": {
      "text/plain": [
       "{'idencuenta': 0,\n",
       " 'numdoc': 0,\n",
       " 'sexo': 0,\n",
       " 'edad': 0,\n",
       " 'estadocivil': 0,\n",
       " 'departamento': 0,\n",
       " 's_fin_estab': 0,\n",
       " 's_rev_estab': 0,\n",
       " 's_fin_atm': 0,\n",
       " 's_rev_atm': 0,\n",
       " 'saldo_lp': 0,\n",
       " 'saldo_mora': 0,\n",
       " 'saldo_exceso': 0,\n",
       " 'DiasMora201906': 0,\n",
       " 'estado': 0,\n",
       " 'nombre_producto': 0,\n",
       " 'linea_credito_usd': 0,\n",
       " 'linea_credito_soles': 0,\n",
       " 'flg_situacionlaboral_oscar': 0,\n",
       " 'porc_uso_linea': 0,\n",
       " 'flg_ppd': 0,\n",
       " 'flg_usodisef': 0,\n",
       " 'zona_apein': 0,\n",
       " 'maxlinea_bench': 0,\n",
       " 'flagscastigado': 0,\n",
       " 'flagrefinanciado': 0,\n",
       " 'flagpld': 0,\n",
       " 'flagdiseftcexterno': 0,\n",
       " 'FLGRCC': 0,\n",
       " 'segmentoNSE': 0,\n",
       " 'ConsumoAnual201806_201906': 1830,\n",
       " 'NroTransaccionAnual201806_201906': 1830,\n",
       " 'tipo_seguro': 0,\n",
       " 'HabitoPago201901': 0,\n",
       " 'HabitoPago201902': 0,\n",
       " 'HabitoPago201903': 0,\n",
       " 'HabitoPago201906': 0,\n",
       " 'HabitoPago201904': 0,\n",
       " 'HabitoPago201905': 0,\n",
       " 'FlagHabitoPago3M': 0,\n",
       " 'FlagHabitoPago6M': 0,\n",
       " 'FlagCliente': 0}"
      ]
     },
     "execution_count": 899,
     "metadata": {},
     "output_type": "execute_result"
    }
   ],
   "source": [
    "#Creamos una función:\n",
    "def num_missing(x):\n",
    "  return sum(x.isnull())\n",
    "#Aplicamos por columna:\n",
    "print (\"Valores perdidos por columna\")\n",
    "dict(df_t.apply(num_missing, axis=0)) \n",
    "#df_train[\"TIPO_GRADO\"]=df_train[\"TIPO_GRADO\"].fillna(value=5)"
   ]
  },
  {
   "cell_type": "code",
   "execution_count": 900,
   "metadata": {},
   "outputs": [],
   "source": [
    "df_t[\"ConsumoAnual201806_201906\"]=df_t[\"ConsumoAnual201806_201906\"].fillna(value = 0) \n",
    "df_t[\"NroTransaccionAnual201806_201906\"] = df_t[\"NroTransaccionAnual201806_201906\"].fillna(value = 0)"
   ]
  },
  {
   "cell_type": "code",
   "execution_count": 901,
   "metadata": {},
   "outputs": [],
   "source": [
    "y = df_t['FlagCliente']\n",
    "remover = [\"idencuenta\",\"numdoc\",'FlagCliente']#,'HabitoPago201906','HabitoPago201907']\n",
    "X = df_t.drop(remover, axis=1)\n",
    "X_train, X_test, y_train, y_test = train_test_split(X, y, train_size=0.7, random_state = 1970)"
   ]
  },
  {
   "cell_type": "code",
   "execution_count": 905,
   "metadata": {},
   "outputs": [
    {
     "name": "stderr",
     "output_type": "stream",
     "text": [
      "C:\\Users\\avelasque\\AppData\\Roaming\\Python\\Python37\\site-packages\\sklearn\\linear_model\\_logistic.py:940: ConvergenceWarning: lbfgs failed to converge (status=1):\n",
      "STOP: TOTAL NO. of ITERATIONS REACHED LIMIT.\n",
      "\n",
      "Increase the number of iterations (max_iter) or scale the data as shown in:\n",
      "    https://scikit-learn.org/stable/modules/preprocessing.html\n",
      "Please also refer to the documentation for alternative solver options:\n",
      "    https://scikit-learn.org/stable/modules/linear_model.html#logistic-regression\n",
      "  extra_warning_msg=_LOGISTIC_SOLVER_CONVERGENCE_MSG)\n"
     ]
    },
    {
     "data": {
      "image/png": "[encoded data removed]",
      "text/plain": [
       "<Figure size 576x576 with 2 Axes>"
      ]
     },
     "metadata": {
      "needs_background": "light"
     },
     "output_type": "display_data"
    },
    {
     "name": "stdout",
     "output_type": "stream",
     "text": [
      "              precision    recall  f1-score   support\n",
      "\n",
      "           0       0.98      0.61      0.75     27854\n",
      "           1       0.07      0.73      0.13      1136\n",
      "\n",
      "    accuracy                           0.61     28990\n",
      "   macro avg       0.53      0.67      0.44     28990\n",
      "weighted avg       0.95      0.61      0.73     28990\n",
      "\n"
     ]
    }
   ],
   "source": [
    "colsP = X.columns.to_list()\n",
    "from sklearn.linear_model import LogisticRegression\n",
    "logit = LogisticRegression(max_iter= 500, class_weight= \"balanced\")\n",
    "logit.fit(X_train, y_train)\n",
    " \n",
    "# Test accuracy\n",
    "y_pred = logit.predict(X_test)\n",
    "\n",
    "mostrar_resultados(y_test, y_pred)"
   ]
  },
  {
   "cell_type": "code",
   "execution_count": 907,
   "metadata": {},
   "outputs": [
    {
     "data": {
      "text/plain": [
       "['sexo',\n",
       " 'edad',\n",
       " 'estadocivil',\n",
       " 'departamento',\n",
       " 's_fin_estab',\n",
       " 's_rev_estab',\n",
       " 's_fin_atm',\n",
       " 's_rev_atm',\n",
       " 'saldo_lp',\n",
       " 'saldo_mora',\n",
       " 'saldo_exceso',\n",
       " 'DiasMora201906',\n",
       " 'estado',\n",
       " 'nombre_producto',\n",
       " 'linea_credito_usd',\n",
       " 'linea_credito_soles',\n",
       " 'flg_situacionlaboral_oscar',\n",
       " 'porc_uso_linea',\n",
       " 'flg_ppd',\n",
       " 'flg_usodisef',\n",
       " 'zona_apein',\n",
       " 'maxlinea_bench',\n",
       " 'flagscastigado',\n",
       " 'flagrefinanciado',\n",
       " 'flagpld',\n",
       " 'flagdiseftcexterno',\n",
       " 'FLGRCC',\n",
       " 'segmentoNSE',\n",
       " 'ConsumoAnual201806_201906',\n",
       " 'NroTransaccionAnual201806_201906',\n",
       " 'tipo_seguro',\n",
       " 'HabitoPago201901',\n",
       " 'HabitoPago201902',\n",
       " 'HabitoPago201903',\n",
       " 'HabitoPago201906',\n",
       " 'HabitoPago201904',\n",
       " 'HabitoPago201905',\n",
       " 'FlagHabitoPago3M',\n",
       " 'FlagHabitoPago6M']"
      ]
     },
     "execution_count": 907,
     "metadata": {},
     "output_type": "execute_result"
    }
   ],
   "source": [
    "colsP"
   ]
  },
  {
   "cell_type": "code",
   "execution_count": 908,
   "metadata": {},
   "outputs": [
    {
     "data": {
      "image/png": "[encoded data removed]",
      "text/plain": [
       "<Figure size 432x288 with 2 Axes>"
      ]
     },
     "metadata": {
      "needs_background": "light"
     },
     "output_type": "display_data"
    },
    {
     "name": "stdout",
     "output_type": "stream",
     "text": [
      "[INFO] filtering variables ...\n",
      "Variable filtering on 96633 rows and 40 columns in 00:02:38 \n",
      "12 variables are removed\n"
     ]
    }
   ],
   "source": [
    "data = df_t.copy()\n",
    "sns.heatmap(data[colsP].corr(),annot=True,fmt=\"0.1f\",cmap=\"coolwarm\")\n",
    "plt.show()\n",
    "data3 = data[colsP].copy()\n",
    "data3['FlagCliente'] = data['FlagCliente']\n",
    "\n",
    "df_data = data3.copy()\n",
    "df_filter = sc.var_filter(df_data, y=\"FlagCliente\")\n"
   ]
  },
  {
   "cell_type": "code",
   "execution_count": 909,
   "metadata": {
    "collapsed": true
   },
   "outputs": [
    {
     "data": {
      "text/plain": [
       "array([['s_fin_atm', 2.2123349979170235],\n",
       "       ['saldo_lp', 2.0145057637243227],\n",
       "       ['maxlinea_bench', 1.6844524729905057],\n",
       "       ['s_rev_estab', 0.9889725169819584],\n",
       "       ['s_rev_atm', 0.9863877484496726],\n",
       "       ['s_fin_estab', 0.8053969215750783],\n",
       "       ['porc_uso_linea', 0.5437274812096526],\n",
       "       ['linea_credito_usd', 0.5313842688131828],\n",
       "       ['linea_credito_soles', 0.5313842688131811],\n",
       "       ['FLGRCC', 0.43983393249599007],\n",
       "       ['NroTransaccionAnual201806_201906', 0.26390319840259957],\n",
       "       ['HabitoPago201906', 0.19962549918854092],\n",
       "       ['flagdiseftcexterno', 0.19560894393160383],\n",
       "       ['HabitoPago201905', 0.15624971557185818],\n",
       "       ['flg_usodisef', 0.12759675757700006],\n",
       "       ['HabitoPago201904', 0.12027933353773398],\n",
       "       ['HabitoPago201903', 0.10436340662760324],\n",
       "       ['HabitoPago201902', 0.0954494809791872],\n",
       "       ['ConsumoAnual201806_201906', 0.09006960297322102],\n",
       "       ['HabitoPago201901', 0.08155860917679347],\n",
       "       ['flagpld', 0.07377728333359093],\n",
       "       ['tipo_seguro', 0.07075975382264058],\n",
       "       ['segmentoNSE', 0.06201891574788514],\n",
       "       ['zona_apein', 0.05362740464650078],\n",
       "       ['nombre_producto', 0.05240106909795939],\n",
       "       ['flg_situacionlaboral_oscar', 0.04852938978292387],\n",
       "       ['edad', 0.025661977423018102]], dtype=object)"
      ]
     },
     "execution_count": 909,
     "metadata": {},
     "output_type": "execute_result"
    }
   ],
   "source": [
    "# Obtener el information Value por cada variable para conocer la importancia\n",
    "dt_info_value = sc.iv(df_filter, y = \"FlagCliente\")\n",
    "#Se muestra el information value por cada variable en forma descendente\n",
    "dt_info_value.values"
   ]
  },
  {
   "cell_type": "code",
   "execution_count": 916,
   "metadata": {},
   "outputs": [],
   "source": [
    "dt_info_ =  dt_info_value[ dt_info_value[\"info_value\"] <= 0.5 ]\n",
    "cols4 = dt_info_[\"variable\"]\n",
    "cols4 = cols4.to_list()\n",
    "features = cols4\n"
   ]
  },
  {
   "cell_type": "code",
   "execution_count": 919,
   "metadata": {},
   "outputs": [],
   "source": [
    "#Balanceo\n",
    "os_us = SMOTETomek( random_state= 3)\n",
    "X_train_res, y_train_res = os_us.fit_sample(X_train[features], y_train.ravel())"
   ]
  },
  {
   "cell_type": "code",
   "execution_count": 920,
   "metadata": {},
   "outputs": [
    {
     "name": "stderr",
     "output_type": "stream",
     "text": [
      "C:\\Users\\avelasque\\AppData\\Roaming\\Python\\Python37\\site-packages\\sklearn\\linear_model\\_logistic.py:940: ConvergenceWarning: lbfgs failed to converge (status=1):\n",
      "STOP: TOTAL NO. of ITERATIONS REACHED LIMIT.\n",
      "\n",
      "Increase the number of iterations (max_iter) or scale the data as shown in:\n",
      "    https://scikit-learn.org/stable/modules/preprocessing.html\n",
      "Please also refer to the documentation for alternative solver options:\n",
      "    https://scikit-learn.org/stable/modules/linear_model.html#logistic-regression\n",
      "  extra_warning_msg=_LOGISTIC_SOLVER_CONVERGENCE_MSG)\n"
     ]
    },
    {
     "data": {
      "image/png": "[encoded data removed]",
      "text/plain": [
       "<Figure size 576x576 with 2 Axes>"
      ]
     },
     "metadata": {
      "needs_background": "light"
     },
     "output_type": "display_data"
    },
    {
     "name": "stdout",
     "output_type": "stream",
     "text": [
      "              precision    recall  f1-score   support\n",
      "\n",
      "           0       0.98      0.74      0.84     27854\n",
      "           1       0.08      0.59      0.15      1136\n",
      "\n",
      "    accuracy                           0.73     28990\n",
      "   macro avg       0.53      0.66      0.49     28990\n",
      "weighted avg       0.94      0.73      0.81     28990\n",
      "\n"
     ]
    },
    {
     "data": {
      "text/plain": [
       "array([[20551,  7303],\n",
       "       [  470,   666]], dtype=int64)"
      ]
     },
     "execution_count": 920,
     "metadata": {},
     "output_type": "execute_result"
    }
   ],
   "source": [
    "from sklearn.linear_model import LogisticRegression\n",
    "est_boruta = LogisticRegression()\n",
    "est_boruta.fit(X_train_res, y_train_res)\n",
    " \n",
    "# Test accuracy\n",
    "y_pred = est_boruta.predict(X_test[features])\n",
    "\n",
    "mostrar_resultados(y_test, y_pred)\n",
    "confusion_matrix(y_test, y_pred)"
   ]
  },
  {
   "cell_type": "code",
   "execution_count": null,
   "metadata": {},
   "outputs": [],
   "source": []
  }
 ],
 "metadata": {
  "kernelspec": {
   "display_name": "Python 3",
   "language": "python",
   "name": "python3"
  },
  "language_info": {
   "codemirror_mode": {
    "name": "ipython",
    "version": 3
   },
   "file_extension": ".py",
   "mimetype": "text/x-python",
   "name": "python",
   "nbconvert_exporter": "python",
   "pygments_lexer": "ipython3",
   "version": "3.7.1"
  }
 },
 "nbformat": 4,
 "nbformat_minor": 2
}
